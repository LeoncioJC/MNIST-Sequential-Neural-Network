{
  "nbformat": 4,
  "nbformat_minor": 0,
  "metadata": {
    "colab": {
      "name": "MNIST_Keras_Neural_Network.ipynb",
      "provenance": [],
      "collapsed_sections": [],
      "authorship_tag": "ABX9TyOEMQYUAecmlrjbxnqPugCU",
      "include_colab_link": true
    },
    "kernelspec": {
      "name": "python3",
      "display_name": "Python 3"
    }
  },
  "cells": [
    {
      "cell_type": "markdown",
      "metadata": {
        "id": "view-in-github",
        "colab_type": "text"
      },
      "source": [
        "<a href=\"https://colab.research.google.com/github/LeoncioJC/MNIST-Sequential-Neural-Network/blob/master/MNIST_Keras_Neural_Network.ipynb\" target=\"_parent\"><img src=\"https://colab.research.google.com/assets/colab-badge.svg\" alt=\"Open In Colab\"/></a>"
      ]
    },
    {
      "cell_type": "markdown",
      "metadata": {
        "id": "pUStspGo4lJf",
        "colab_type": "text"
      },
      "source": [
        "#**MNIST Sequential Neural Network to Classify Images in Python with Keras**\n",
        "by [Leoncio Jimenez Candia](https://www.linkedin.com/in/leoncio-r-jim%C3%A9nez-candia-64676416a)"
      ]
    },
    {
      "cell_type": "markdown",
      "metadata": {
        "id": "2Fzb2Inl6pJ7",
        "colab_type": "text"
      },
      "source": [
        "![texto alternativo](https://www.pyimagesearch.com/wp-content/uploads/2019/02/fashion_mnist_header.png)"
      ]
    },
    {
      "cell_type": "markdown",
      "metadata": {
        "id": "3iude2MQOzIY",
        "colab_type": "text"
      },
      "source": [
        "**Key words:** Image Recognition/Classification in Python with Keras, A Keras Sequential Neuronal Network Applied to a Fashion-MNIST Dataset.\n",
        "\n",
        "In this article (written in python jupiter colab notebooks) we explain how to build a sequential neural network to classify grayscale images (28 pixels by 28 pixels) of fashion articles into ten (0 to 9) fashion categories (T-shirt/top, Trouser, Pullover, Dress, Coat, Sandal, Shirt, Sneaker, Bag, Ankle Boot)."
      ]
    },
    {
      "cell_type": "markdown",
      "metadata": {
        "id": "Tf0k1VRNhOSn",
        "colab_type": "text"
      },
      "source": [
        "|ID|Label|\n",
        "|:-------:|:-------:|\n",
        "| 0 |T-shirt/top|\n",
        "| 1 | Trouser  |\n",
        "| 2 | Pullover|\n",
        "| 3 | Dress   |\n",
        "| 4 | Coat   |\n",
        "| 5 | Sandal |\n",
        "| 6 |  Shirt |\n",
        "| 7 |  Sneaker |\n",
        "| 8 |  Bag |\n",
        "| 9 |Ankle Boot|"
      ]
    },
    {
      "cell_type": "markdown",
      "metadata": {
        "id": "2srJDgNV8Q3Z",
        "colab_type": "text"
      },
      "source": [
        "**[Colab Notebooks](https://https://colab.research.google.com/)**. Colaboratory is a Google research project created to help disseminate machine learning education and research. It's a Jupyter notebook environment that requires no setup to use and runs entirely in the cloud. "
      ]
    },
    {
      "cell_type": "markdown",
      "metadata": {
        "id": "-t8VItf_Z-2L",
        "colab_type": "text"
      },
      "source": [
        "To understand sequential neural networks with Keras and the fashion-mnist problem watch this video."
      ]
    },
    {
      "cell_type": "code",
      "metadata": {
        "id": "cmXG1fmNc2k9",
        "colab_type": "code",
        "outputId": "73b6144f-bbf7-40ee-d94d-2cabd8a10950",
        "colab": {
          "base_uri": "https://localhost:8080/",
          "height": 381
        }
      },
      "source": [
        "%%HTML\n",
        "<iframe width=\"640\" height=\"360\" src=\"https://www.youtube.com/embed/qEyEijUDOCA\" frameborder=\"0\" allow=\"accelerometer; autoplay; encrypted-media; gyroscope; picture-in-picture\" allowfullscreen></iframe>"
      ],
      "execution_count": 0,
      "outputs": [
        {
          "output_type": "display_data",
          "data": {
            "text/html": [
              "<iframe width=\"640\" height=\"360\" src=\"https://www.youtube.com/embed/qEyEijUDOCA\" frameborder=\"0\" allow=\"accelerometer; autoplay; encrypted-media; gyroscope; picture-in-picture\" allowfullscreen></iframe>"
            ],
            "text/plain": [
              "<IPython.core.display.HTML object>"
            ]
          },
          "metadata": {
            "tags": []
          }
        }
      ]
    },
    {
      "cell_type": "markdown",
      "metadata": {
        "id": "BAIFoF4bhZND",
        "colab_type": "text"
      },
      "source": [
        "A [**5 steps life-cycle for neural network models in Keras**](https://machinelearningmastery.com/5-step-life-cycle-neural-network-models-keras/) was apply to define, compile, fit, evaluate and make predictions."
      ]
    },
    {
      "cell_type": "markdown",
      "metadata": {
        "id": "yN4tHsTQO-Ng",
        "colab_type": "text"
      },
      "source": [
        "![5 steps life-cycle for neural network models in Keras](https://3qeqpr26caki16dnhd19sv6by6v-wpengine.netdna-ssl.com/wp-content/uploads/2016/07/5-Step-Life-Cycle-for-Neural-Network-Models-in-Keras.png)"
      ]
    },
    {
      "cell_type": "markdown",
      "metadata": {
        "id": "31ZQFKJFEaho",
        "colab_type": "text"
      },
      "source": [
        "Before to do that we need to load Keras and other libraries and the dataset."
      ]
    },
    {
      "cell_type": "markdown",
      "metadata": {
        "id": "QL0VVWGj2iCK",
        "colab_type": "text"
      },
      "source": [
        "###**Load Keras: The Python Deep Learning Library**"
      ]
    },
    {
      "cell_type": "markdown",
      "metadata": {
        "id": "939Rbe-y8Gdn",
        "colab_type": "text"
      },
      "source": [
        "First, we import **[Keras](https://keras.io)**, Numpy, and Matplotlib."
      ]
    },
    {
      "cell_type": "code",
      "metadata": {
        "id": "9qX6YcRk8iAE",
        "colab_type": "code",
        "outputId": "240fb1bf-757f-4e51-e0a8-4db72613d26c",
        "colab": {
          "base_uri": "https://localhost:8080/",
          "height": 97
        }
      },
      "source": [
        "import keras\n",
        "import numpy as np\n",
        "import matplotlib.pyplot as plt"
      ],
      "execution_count": 0,
      "outputs": [
        {
          "output_type": "stream",
          "text": [
            "Using TensorFlow backend.\n"
          ],
          "name": "stderr"
        },
        {
          "output_type": "display_data",
          "data": {
            "text/html": [
              "<p style=\"color: red;\">\n",
              "The default version of TensorFlow in Colab will soon switch to TensorFlow 2.x.<br>\n",
              "We recommend you <a href=\"https://www.tensorflow.org/guide/migrate\" target=\"_blank\">upgrade</a> now \n",
              "or ensure your notebook will continue to use TensorFlow 1.x via the <code>%tensorflow_version 1.x</code> magic:\n",
              "<a href=\"https://colab.research.google.com/notebooks/tensorflow_version.ipynb\" target=\"_blank\">more info</a>.</p>\n"
            ],
            "text/plain": [
              "<IPython.core.display.HTML object>"
            ]
          },
          "metadata": {
            "tags": []
          }
        }
      ]
    },
    {
      "cell_type": "markdown",
      "metadata": {
        "id": "Nd9XnnsI4jMp",
        "colab_type": "text"
      },
      "source": [
        "###**Load Dataset of Fashion Articles (Fashion-MNIST) and Normalize the Data** "
      ]
    },
    {
      "cell_type": "markdown",
      "metadata": {
        "id": "oZHKTMHBBUO8",
        "colab_type": "text"
      },
      "source": [
        "Secondly, we need to load a dataset to train the neural network model and other dataset to test the model (evaluate the trained model and make predictions).\n",
        "\n",
        "Fashion-MNIST is a database of a trainning dataset of 60,000 28x28-pixel images and a test dataset of 10,000 28x28-pixel images of ten (0 to 9) fashion categories (T-shirt/top, Trouser, Pullover, Dress, Coat, Sandal, Shirt, Sneaker, Bag, Ankle Boot). \n",
        "\n",
        "We import **[Fashion-MNIST](https://keras.io/datasets/)** using two tuples. **(X_train, Y_train)** for the train dataset and **(X_test, Y_test)** for the test dataset:\n",
        "\n",
        "**X_train:** Input data (60,000 images).\n",
        "\n",
        "**Y_train:** Output data or Target data or Labeled data (10 categories).\n",
        "\n",
        "**X_test:** Input data (10,000 images).\n",
        "\n",
        "**Y_test:** Output data or Target data or Labeled data (10 categories)."
      ]
    },
    {
      "cell_type": "code",
      "metadata": {
        "id": "x-5spd4D_Qp7",
        "colab_type": "code",
        "outputId": "440b097d-1e56-4c7d-abf8-e3388d8d266d",
        "colab": {
          "base_uri": "https://localhost:8080/",
          "height": 153
        }
      },
      "source": [
        "from keras.datasets import fashion_mnist\n",
        "(x_train, y_train), (x_test, y_test) = fashion_mnist.load_data()\n",
        "label= [\"T-shirt/top\",\"Trouser\",\"Pullover\",\"Dress\",\"Coat\",\"Sandal\",\"Shirt\",\"Sneaker\",\"Bag\",\"Ankle Boot\"]\n"
      ],
      "execution_count": 0,
      "outputs": [
        {
          "output_type": "stream",
          "text": [
            "Downloading data from http://fashion-mnist.s3-website.eu-central-1.amazonaws.com/train-labels-idx1-ubyte.gz\n",
            "32768/29515 [=================================] - 0s 3us/step\n",
            "Downloading data from http://fashion-mnist.s3-website.eu-central-1.amazonaws.com/train-images-idx3-ubyte.gz\n",
            "26427392/26421880 [==============================] - 2s 0us/step\n",
            "Downloading data from http://fashion-mnist.s3-website.eu-central-1.amazonaws.com/t10k-labels-idx1-ubyte.gz\n",
            "8192/5148 [===============================================] - 0s 0us/step\n",
            "Downloading data from http://fashion-mnist.s3-website.eu-central-1.amazonaws.com/t10k-images-idx3-ubyte.gz\n",
            "4423680/4422102 [==============================] - 1s 0us/step\n"
          ],
          "name": "stdout"
        }
      ]
    },
    {
      "cell_type": "markdown",
      "metadata": {
        "id": "q9H1YGzZ3oli",
        "colab_type": "text"
      },
      "source": [
        "Let's check the **training dataset**, the **test dataset** and the **label** associated."
      ]
    },
    {
      "cell_type": "code",
      "metadata": {
        "id": "ht8NfqgY_vHf",
        "colab_type": "code",
        "outputId": "02a08386-0214-40ec-a241-eba3e32f69b4",
        "colab": {
          "base_uri": "https://localhost:8080/",
          "height": 34
        }
      },
      "source": [
        "x_train.shape, x_test.shape"
      ],
      "execution_count": 0,
      "outputs": [
        {
          "output_type": "execute_result",
          "data": {
            "text/plain": [
              "((60000, 28, 28), (10000, 28, 28))"
            ]
          },
          "metadata": {
            "tags": []
          },
          "execution_count": 3
        }
      ]
    },
    {
      "cell_type": "markdown",
      "metadata": {
        "id": "KIEUsXnrySy9",
        "colab_type": "text"
      },
      "source": [
        "**X_train** and **X_test** containt 60,000 28x28-pixel images and 10,000 28x28-pixel images, respectively.\n",
        "\n",
        "So we have 60,000 images 28X28 pixels to train our neural network model and 10,000 images 28X28 pixels to test it.\n",
        "\n",
        "Each image is identify by an index (integers in range 0-59999 train dataset and 0-9999 test dataset) and a matrix 28 rows and 28 columms with a number 0 to 255 to indicate the numbers of pixels.\n",
        "\n",
        "In other words, **X_train** is an array size 60,000 with a matrix 28X28 inside. Same thing to **X_test** but the size is 10,000. As we can see below:"
      ]
    },
    {
      "cell_type": "code",
      "metadata": {
        "id": "g_LEPxgN56Ro",
        "colab_type": "code",
        "outputId": "6512ca5a-c158-49e6-e944-8d9f40fae6af",
        "colab": {
          "base_uri": "https://localhost:8080/",
          "height": 1000
        }
      },
      "source": [
        "x_train[0], plt.matshow(x_train[0]), label[y_train[0]]"
      ],
      "execution_count": 0,
      "outputs": [
        {
          "output_type": "execute_result",
          "data": {
            "text/plain": [
              "(array([[  0,   0,   0,   0,   0,   0,   0,   0,   0,   0,   0,   0,   0,\n",
              "           0,   0,   0,   0,   0,   0,   0,   0,   0,   0,   0,   0,   0,\n",
              "           0,   0],\n",
              "        [  0,   0,   0,   0,   0,   0,   0,   0,   0,   0,   0,   0,   0,\n",
              "           0,   0,   0,   0,   0,   0,   0,   0,   0,   0,   0,   0,   0,\n",
              "           0,   0],\n",
              "        [  0,   0,   0,   0,   0,   0,   0,   0,   0,   0,   0,   0,   0,\n",
              "           0,   0,   0,   0,   0,   0,   0,   0,   0,   0,   0,   0,   0,\n",
              "           0,   0],\n",
              "        [  0,   0,   0,   0,   0,   0,   0,   0,   0,   0,   0,   0,   1,\n",
              "           0,   0,  13,  73,   0,   0,   1,   4,   0,   0,   0,   0,   1,\n",
              "           1,   0],\n",
              "        [  0,   0,   0,   0,   0,   0,   0,   0,   0,   0,   0,   0,   3,\n",
              "           0,  36, 136, 127,  62,  54,   0,   0,   0,   1,   3,   4,   0,\n",
              "           0,   3],\n",
              "        [  0,   0,   0,   0,   0,   0,   0,   0,   0,   0,   0,   0,   6,\n",
              "           0, 102, 204, 176, 134, 144, 123,  23,   0,   0,   0,   0,  12,\n",
              "          10,   0],\n",
              "        [  0,   0,   0,   0,   0,   0,   0,   0,   0,   0,   0,   0,   0,\n",
              "           0, 155, 236, 207, 178, 107, 156, 161, 109,  64,  23,  77, 130,\n",
              "          72,  15],\n",
              "        [  0,   0,   0,   0,   0,   0,   0,   0,   0,   0,   0,   1,   0,\n",
              "          69, 207, 223, 218, 216, 216, 163, 127, 121, 122, 146, 141,  88,\n",
              "         172,  66],\n",
              "        [  0,   0,   0,   0,   0,   0,   0,   0,   0,   1,   1,   1,   0,\n",
              "         200, 232, 232, 233, 229, 223, 223, 215, 213, 164, 127, 123, 196,\n",
              "         229,   0],\n",
              "        [  0,   0,   0,   0,   0,   0,   0,   0,   0,   0,   0,   0,   0,\n",
              "         183, 225, 216, 223, 228, 235, 227, 224, 222, 224, 221, 223, 245,\n",
              "         173,   0],\n",
              "        [  0,   0,   0,   0,   0,   0,   0,   0,   0,   0,   0,   0,   0,\n",
              "         193, 228, 218, 213, 198, 180, 212, 210, 211, 213, 223, 220, 243,\n",
              "         202,   0],\n",
              "        [  0,   0,   0,   0,   0,   0,   0,   0,   0,   1,   3,   0,  12,\n",
              "         219, 220, 212, 218, 192, 169, 227, 208, 218, 224, 212, 226, 197,\n",
              "         209,  52],\n",
              "        [  0,   0,   0,   0,   0,   0,   0,   0,   0,   0,   6,   0,  99,\n",
              "         244, 222, 220, 218, 203, 198, 221, 215, 213, 222, 220, 245, 119,\n",
              "         167,  56],\n",
              "        [  0,   0,   0,   0,   0,   0,   0,   0,   0,   4,   0,   0,  55,\n",
              "         236, 228, 230, 228, 240, 232, 213, 218, 223, 234, 217, 217, 209,\n",
              "          92,   0],\n",
              "        [  0,   0,   1,   4,   6,   7,   2,   0,   0,   0,   0,   0, 237,\n",
              "         226, 217, 223, 222, 219, 222, 221, 216, 223, 229, 215, 218, 255,\n",
              "          77,   0],\n",
              "        [  0,   3,   0,   0,   0,   0,   0,   0,   0,  62, 145, 204, 228,\n",
              "         207, 213, 221, 218, 208, 211, 218, 224, 223, 219, 215, 224, 244,\n",
              "         159,   0],\n",
              "        [  0,   0,   0,   0,  18,  44,  82, 107, 189, 228, 220, 222, 217,\n",
              "         226, 200, 205, 211, 230, 224, 234, 176, 188, 250, 248, 233, 238,\n",
              "         215,   0],\n",
              "        [  0,  57, 187, 208, 224, 221, 224, 208, 204, 214, 208, 209, 200,\n",
              "         159, 245, 193, 206, 223, 255, 255, 221, 234, 221, 211, 220, 232,\n",
              "         246,   0],\n",
              "        [  3, 202, 228, 224, 221, 211, 211, 214, 205, 205, 205, 220, 240,\n",
              "          80, 150, 255, 229, 221, 188, 154, 191, 210, 204, 209, 222, 228,\n",
              "         225,   0],\n",
              "        [ 98, 233, 198, 210, 222, 229, 229, 234, 249, 220, 194, 215, 217,\n",
              "         241,  65,  73, 106, 117, 168, 219, 221, 215, 217, 223, 223, 224,\n",
              "         229,  29],\n",
              "        [ 75, 204, 212, 204, 193, 205, 211, 225, 216, 185, 197, 206, 198,\n",
              "         213, 240, 195, 227, 245, 239, 223, 218, 212, 209, 222, 220, 221,\n",
              "         230,  67],\n",
              "        [ 48, 203, 183, 194, 213, 197, 185, 190, 194, 192, 202, 214, 219,\n",
              "         221, 220, 236, 225, 216, 199, 206, 186, 181, 177, 172, 181, 205,\n",
              "         206, 115],\n",
              "        [  0, 122, 219, 193, 179, 171, 183, 196, 204, 210, 213, 207, 211,\n",
              "         210, 200, 196, 194, 191, 195, 191, 198, 192, 176, 156, 167, 177,\n",
              "         210,  92],\n",
              "        [  0,   0,  74, 189, 212, 191, 175, 172, 175, 181, 185, 188, 189,\n",
              "         188, 193, 198, 204, 209, 210, 210, 211, 188, 188, 194, 192, 216,\n",
              "         170,   0],\n",
              "        [  2,   0,   0,   0,  66, 200, 222, 237, 239, 242, 246, 243, 244,\n",
              "         221, 220, 193, 191, 179, 182, 182, 181, 176, 166, 168,  99,  58,\n",
              "           0,   0],\n",
              "        [  0,   0,   0,   0,   0,   0,   0,  40,  61,  44,  72,  41,  35,\n",
              "           0,   0,   0,   0,   0,   0,   0,   0,   0,   0,   0,   0,   0,\n",
              "           0,   0],\n",
              "        [  0,   0,   0,   0,   0,   0,   0,   0,   0,   0,   0,   0,   0,\n",
              "           0,   0,   0,   0,   0,   0,   0,   0,   0,   0,   0,   0,   0,\n",
              "           0,   0],\n",
              "        [  0,   0,   0,   0,   0,   0,   0,   0,   0,   0,   0,   0,   0,\n",
              "           0,   0,   0,   0,   0,   0,   0,   0,   0,   0,   0,   0,   0,\n",
              "           0,   0]], dtype=uint8),\n",
              " <matplotlib.image.AxesImage at 0x7f7aa9986438>,\n",
              " 'Ankle Boot')"
            ]
          },
          "metadata": {
            "tags": []
          },
          "execution_count": 11
        },
        {
          "output_type": "display_data",
          "data": {
            "image/png": "[encoded data removed]",
            "text/plain": [
              "<Figure size 288x288 with 1 Axes>"
            ]
          },
          "metadata": {
            "tags": []
          }
        }
      ]
    },
    {
      "cell_type": "markdown",
      "metadata": {
        "id": "3trqUQfrofmU",
        "colab_type": "text"
      },
      "source": [
        "**X_train[0]** contains 28 rows and 28 columms with a number 0 to 255 (pixels) that represent the first image (an **Ankle Boot**) of our train dataset. "
      ]
    },
    {
      "cell_type": "markdown",
      "metadata": {
        "id": "VVG9KVX2UUtW",
        "colab_type": "text"
      },
      "source": [
        "As you can see below **X_train[0][24]** is an array (row 24 of X_train[0]) and **X_train[0][24][4]** is a number (the grayscale digit of row 24 and the column 4 of the image X_train[0])."
      ]
    },
    {
      "cell_type": "code",
      "metadata": {
        "id": "i1cfxmt3W1k0",
        "colab_type": "code",
        "outputId": "5f56dae2-e8bf-4c07-a418-35c77d91f751",
        "colab": {
          "base_uri": "https://localhost:8080/",
          "height": 68
        }
      },
      "source": [
        "x_train[0][24]"
      ],
      "execution_count": 0,
      "outputs": [
        {
          "output_type": "execute_result",
          "data": {
            "text/plain": [
              "array([  2,   0,   0,   0,  66, 200, 222, 237, 239, 242, 246, 243, 244,\n",
              "       221, 220, 193, 191, 179, 182, 182, 181, 176, 166, 168,  99,  58,\n",
              "         0,   0], dtype=uint8)"
            ]
          },
          "metadata": {
            "tags": []
          },
          "execution_count": 12
        }
      ]
    },
    {
      "cell_type": "code",
      "metadata": {
        "id": "6FKO61mHXF8I",
        "colab_type": "code",
        "outputId": "cdb79564-a78f-4dc6-dc5e-cdbac906f02f",
        "colab": {
          "base_uri": "https://localhost:8080/",
          "height": 34
        }
      },
      "source": [
        "x_train[0][24][4]"
      ],
      "execution_count": 0,
      "outputs": [
        {
          "output_type": "execute_result",
          "data": {
            "text/plain": [
              "66"
            ]
          },
          "metadata": {
            "tags": []
          },
          "execution_count": 19
        }
      ]
    },
    {
      "cell_type": "markdown",
      "metadata": {
        "id": "BqtG1AESq6MI",
        "colab_type": "text"
      },
      "source": [
        "Let's see the labels **Y_train** and **Y_test**."
      ]
    },
    {
      "cell_type": "code",
      "metadata": {
        "id": "Jdm8YVkIfHP9",
        "colab_type": "code",
        "outputId": "c8c82162-f721-416b-9ac0-c86bfb075263",
        "colab": {
          "base_uri": "https://localhost:8080/",
          "height": 51
        }
      },
      "source": [
        "y_train, y_test"
      ],
      "execution_count": 0,
      "outputs": [
        {
          "output_type": "execute_result",
          "data": {
            "text/plain": [
              "(array([9, 0, 0, ..., 3, 0, 5], dtype=uint8),\n",
              " array([9, 2, 1, ..., 8, 1, 5], dtype=uint8))"
            ]
          },
          "metadata": {
            "tags": []
          },
          "execution_count": 20
        }
      ]
    },
    {
      "cell_type": "markdown",
      "metadata": {
        "id": "VWJVpXaQrYIW",
        "colab_type": "text"
      },
      "source": [
        "The data labels (integers in range 0-9) are arrays the size 60,000 and 10,000, respectively."
      ]
    },
    {
      "cell_type": "markdown",
      "metadata": {
        "id": "7Cx4VNWPXTjJ",
        "colab_type": "text"
      },
      "source": [
        "Let's see others images and labels of our training dataset."
      ]
    },
    {
      "cell_type": "code",
      "metadata": {
        "id": "CbtIrW8hpBn1",
        "colab_type": "code",
        "outputId": "e2f24860-1b5d-410c-8535-0e53e7cf902c",
        "colab": {
          "base_uri": "https://localhost:8080/",
          "height": 1000
        }
      },
      "source": [
        "plt.matshow(x_train[1]), y_train[1], label[y_train[1]], plt.matshow(x_train[2]), y_train[2], label[y_train[2]], plt.matshow(x_train[59998]), y_train[59998], label[y_train[59998]], plt.matshow(x_train[59999]), y_train[59999], label[y_train[59999]]"
      ],
      "execution_count": 0,
      "outputs": [
        {
          "output_type": "execute_result",
          "data": {
            "text/plain": [
              "(<matplotlib.image.AxesImage at 0x7f7a9afe05f8>,\n",
              " 0,\n",
              " 'T-shirt/top',\n",
              " <matplotlib.image.AxesImage at 0x7f7a9b01c2e8>,\n",
              " 0,\n",
              " 'T-shirt/top',\n",
              " <matplotlib.image.AxesImage at 0x7f7a9afcff98>,\n",
              " 0,\n",
              " 'T-shirt/top',\n",
              " <matplotlib.image.AxesImage at 0x7f7a9af8bc88>,\n",
              " 5,\n",
              " 'Sandal')"
            ]
          },
          "metadata": {
            "tags": []
          },
          "execution_count": 24
        },
        {
          "output_type": "display_data",
          "data": {
            "image/png": "[encoded data removed]",
            "text/plain": [
              "<Figure size 288x288 with 1 Axes>"
            ]
          },
          "metadata": {
            "tags": []
          }
        },
        {
          "output_type": "display_data",
          "data": {
            "image/png": "[encoded data removed]",
            "text/plain": [
              "<Figure size 288x288 with 1 Axes>"
            ]
          },
          "metadata": {
            "tags": []
          }
        },
        {
          "output_type": "display_data",
          "data": {
            "image/png": "[encoded data removed]",
            "text/plain": [
              "<Figure size 288x288 with 1 Axes>"
            ]
          },
          "metadata": {
            "tags": []
          }
        },
        {
          "output_type": "display_data",
          "data": {
            "image/png": "[encoded data removed]",
            "text/plain": [
              "<Figure size 288x288 with 1 Axes>"
            ]
          },
          "metadata": {
            "tags": []
          }
        }
      ]
    },
    {
      "cell_type": "markdown",
      "metadata": {
        "id": "FNoTycEV_4I5",
        "colab_type": "text"
      },
      "source": [
        "So **X_train[1]** is a T-shirt/top, **X_train[2]** is a T-shirt/top, **X_train[59998]** is a T-shirt/top, and **X_train[59999]** is a Sandal. "
      ]
    },
    {
      "cell_type": "markdown",
      "metadata": {
        "id": "aEQIAkhaaHJb",
        "colab_type": "text"
      },
      "source": [
        "Now let's see somes images and labels of our test dataset: **X_test[0]**, **X_test[1]**, **X_test[2]**, and **X_test[9999]**. "
      ]
    },
    {
      "cell_type": "code",
      "metadata": {
        "id": "858G3oZc6Gs7",
        "colab_type": "code",
        "outputId": "756e0055-3f45-4fee-b0df-cba7b235e8f0",
        "colab": {
          "base_uri": "https://localhost:8080/",
          "height": 1000
        }
      },
      "source": [
        "plt.matshow(x_test[0]), y_test[0], label[y_test[0]], plt.matshow(x_test[1]), y_test[1], label[y_test[1]], plt.matshow(x_test[2]), y_test[2], label[y_test[2]], plt.matshow(x_test[9999]), y_test[9999], label[y_test[9999]]"
      ],
      "execution_count": 0,
      "outputs": [
        {
          "output_type": "execute_result",
          "data": {
            "text/plain": [
              "(<matplotlib.image.AxesImage at 0x7f7a9ae61cf8>,\n",
              " 9,\n",
              " 'Ankle Boot',\n",
              " <matplotlib.image.AxesImage at 0x7f7a9ae9f9e8>,\n",
              " 2,\n",
              " 'Pullover',\n",
              " <matplotlib.image.AxesImage at 0x7f7a9ae5c6d8>,\n",
              " 1,\n",
              " 'Trouser',\n",
              " <matplotlib.image.AxesImage at 0x7f7a9ae1a3c8>,\n",
              " 5,\n",
              " 'Sandal')"
            ]
          },
          "metadata": {
            "tags": []
          },
          "execution_count": 25
        },
        {
          "output_type": "display_data",
          "data": {
            "image/png": "[encoded data removed]",
            "text/plain": [
              "<Figure size 288x288 with 1 Axes>"
            ]
          },
          "metadata": {
            "tags": []
          }
        },
        {
          "output_type": "display_data",
          "data": {
            "image/png": "[encoded data removed]",
            "text/plain": [
              "<Figure size 288x288 with 1 Axes>"
            ]
          },
          "metadata": {
            "tags": []
          }
        },
        {
          "output_type": "display_data",
          "data": {
            "image/png": "[encoded data removed]",
            "text/plain": [
              "<Figure size 288x288 with 1 Axes>"
            ]
          },
          "metadata": {
            "tags": []
          }
        },
        {
          "output_type": "display_data",
          "data": {
            "image/png": "[encoded data removed]",
            "text/plain": [
              "<Figure size 288x288 with 1 Axes>"
            ]
          },
          "metadata": {
            "tags": []
          }
        }
      ]
    },
    {
      "cell_type": "markdown",
      "metadata": {
        "id": "GNSsBx537VUo",
        "colab_type": "text"
      },
      "source": [
        "So **X_test[0]** is an Ankle Boot, **X_test[1]** is a Pullover, **X_test[2]** is a Trouser, and **X_test[9999]** is a Sandal."
      ]
    },
    {
      "cell_type": "markdown",
      "metadata": {
        "id": "w1caK4NGq5LW",
        "colab_type": "text"
      },
      "source": [
        "**Normalize the Data**\n",
        "\n",
        "**[Normalization](https://towardsdatascience.com/building-our-first-neural-network-in-keras-bdc8abbc17f5)** is a technique used to change the values of an array to a common scale, without distorting differences in the ranges of values. Normalize the data (image) means dividing by 255 (the max grayscale digit) the training and test dataset."
      ]
    },
    {
      "cell_type": "code",
      "metadata": {
        "id": "7BObB1YorUnd",
        "colab_type": "code",
        "colab": {}
      },
      "source": [
        "x_train=x_train/255"
      ],
      "execution_count": 0,
      "outputs": []
    },
    {
      "cell_type": "code",
      "metadata": {
        "id": "0p7NqDyA0_6A",
        "colab_type": "code",
        "colab": {}
      },
      "source": [
        "x_test=x_test/255"
      ],
      "execution_count": 0,
      "outputs": []
    },
    {
      "cell_type": "code",
      "metadata": {
        "id": "uBqOE8iK1QcL",
        "colab_type": "code",
        "outputId": "338ccb1c-14c2-4720-99d0-97f7ca9fd471",
        "colab": {
          "base_uri": "https://localhost:8080/",
          "height": 1000
        }
      },
      "source": [
        "x_train[0], plt.matshow(x_train[0])"
      ],
      "execution_count": 0,
      "outputs": [
        {
          "output_type": "execute_result",
          "data": {
            "text/plain": [
              "(array([[0.        , 0.        , 0.        , 0.        , 0.        ,\n",
              "         0.        , 0.        , 0.        , 0.        , 0.        ,\n",
              "         0.        , 0.        , 0.        , 0.        , 0.        ,\n",
              "         0.        , 0.        , 0.        , 0.        , 0.        ,\n",
              "         0.        , 0.        , 0.        , 0.        , 0.        ,\n",
              "         0.        , 0.        , 0.        ],\n",
              "        [0.        , 0.        , 0.        , 0.        , 0.        ,\n",
              "         0.        , 0.        , 0.        , 0.        , 0.        ,\n",
              "         0.        , 0.        , 0.        , 0.        , 0.        ,\n",
              "         0.        , 0.        , 0.        , 0.        , 0.        ,\n",
              "         0.        , 0.        , 0.        , 0.        , 0.        ,\n",
              "         0.        , 0.        , 0.        ],\n",
              "        [0.        , 0.        , 0.        , 0.        , 0.        ,\n",
              "         0.        , 0.        , 0.        , 0.        , 0.        ,\n",
              "         0.        , 0.        , 0.        , 0.        , 0.        ,\n",
              "         0.        , 0.        , 0.        , 0.        , 0.        ,\n",
              "         0.        , 0.        , 0.        , 0.        , 0.        ,\n",
              "         0.        , 0.        , 0.        ],\n",
              "        [0.        , 0.        , 0.        , 0.        , 0.        ,\n",
              "         0.        , 0.        , 0.        , 0.        , 0.        ,\n",
              "         0.        , 0.        , 0.00392157, 0.        , 0.        ,\n",
              "         0.05098039, 0.28627451, 0.        , 0.        , 0.00392157,\n",
              "         0.01568627, 0.        , 0.        , 0.        , 0.        ,\n",
              "         0.00392157, 0.00392157, 0.        ],\n",
              "        [0.        , 0.        , 0.        , 0.        , 0.        ,\n",
              "         0.        , 0.        , 0.        , 0.        , 0.        ,\n",
              "         0.        , 0.        , 0.01176471, 0.        , 0.14117647,\n",
              "         0.53333333, 0.49803922, 0.24313725, 0.21176471, 0.        ,\n",
              "         0.        , 0.        , 0.00392157, 0.01176471, 0.01568627,\n",
              "         0.        , 0.        , 0.01176471],\n",
              "        [0.        , 0.        , 0.        , 0.        , 0.        ,\n",
              "         0.        , 0.        , 0.        , 0.        , 0.        ,\n",
              "         0.        , 0.        , 0.02352941, 0.        , 0.4       ,\n",
              "         0.8       , 0.69019608, 0.5254902 , 0.56470588, 0.48235294,\n",
              "         0.09019608, 0.        , 0.        , 0.        , 0.        ,\n",
              "         0.04705882, 0.03921569, 0.        ],\n",
              "        [0.        , 0.        , 0.        , 0.        , 0.        ,\n",
              "         0.        , 0.        , 0.        , 0.        , 0.        ,\n",
              "         0.        , 0.        , 0.        , 0.        , 0.60784314,\n",
              "         0.9254902 , 0.81176471, 0.69803922, 0.41960784, 0.61176471,\n",
              "         0.63137255, 0.42745098, 0.25098039, 0.09019608, 0.30196078,\n",
              "         0.50980392, 0.28235294, 0.05882353],\n",
              "        [0.        , 0.        , 0.        , 0.        , 0.        ,\n",
              "         0.        , 0.        , 0.        , 0.        , 0.        ,\n",
              "         0.        , 0.00392157, 0.        , 0.27058824, 0.81176471,\n",
              "         0.8745098 , 0.85490196, 0.84705882, 0.84705882, 0.63921569,\n",
              "         0.49803922, 0.4745098 , 0.47843137, 0.57254902, 0.55294118,\n",
              "         0.34509804, 0.6745098 , 0.25882353],\n",
              "        [0.        , 0.        , 0.        , 0.        , 0.        ,\n",
              "         0.        , 0.        , 0.        , 0.        , 0.00392157,\n",
              "         0.00392157, 0.00392157, 0.        , 0.78431373, 0.90980392,\n",
              "         0.90980392, 0.91372549, 0.89803922, 0.8745098 , 0.8745098 ,\n",
              "         0.84313725, 0.83529412, 0.64313725, 0.49803922, 0.48235294,\n",
              "         0.76862745, 0.89803922, 0.        ],\n",
              "        [0.        , 0.        , 0.        , 0.        , 0.        ,\n",
              "         0.        , 0.        , 0.        , 0.        , 0.        ,\n",
              "         0.        , 0.        , 0.        , 0.71764706, 0.88235294,\n",
              "         0.84705882, 0.8745098 , 0.89411765, 0.92156863, 0.89019608,\n",
              "         0.87843137, 0.87058824, 0.87843137, 0.86666667, 0.8745098 ,\n",
              "         0.96078431, 0.67843137, 0.        ],\n",
              "        [0.        , 0.        , 0.        , 0.        , 0.        ,\n",
              "         0.        , 0.        , 0.        , 0.        , 0.        ,\n",
              "         0.        , 0.        , 0.        , 0.75686275, 0.89411765,\n",
              "         0.85490196, 0.83529412, 0.77647059, 0.70588235, 0.83137255,\n",
              "         0.82352941, 0.82745098, 0.83529412, 0.8745098 , 0.8627451 ,\n",
              "         0.95294118, 0.79215686, 0.        ],\n",
              "        [0.        , 0.        , 0.        , 0.        , 0.        ,\n",
              "         0.        , 0.        , 0.        , 0.        , 0.00392157,\n",
              "         0.01176471, 0.        , 0.04705882, 0.85882353, 0.8627451 ,\n",
              "         0.83137255, 0.85490196, 0.75294118, 0.6627451 , 0.89019608,\n",
              "         0.81568627, 0.85490196, 0.87843137, 0.83137255, 0.88627451,\n",
              "         0.77254902, 0.81960784, 0.20392157],\n",
              "        [0.        , 0.        , 0.        , 0.        , 0.        ,\n",
              "         0.        , 0.        , 0.        , 0.        , 0.        ,\n",
              "         0.02352941, 0.        , 0.38823529, 0.95686275, 0.87058824,\n",
              "         0.8627451 , 0.85490196, 0.79607843, 0.77647059, 0.86666667,\n",
              "         0.84313725, 0.83529412, 0.87058824, 0.8627451 , 0.96078431,\n",
              "         0.46666667, 0.65490196, 0.21960784],\n",
              "        [0.        , 0.        , 0.        , 0.        , 0.        ,\n",
              "         0.        , 0.        , 0.        , 0.        , 0.01568627,\n",
              "         0.        , 0.        , 0.21568627, 0.9254902 , 0.89411765,\n",
              "         0.90196078, 0.89411765, 0.94117647, 0.90980392, 0.83529412,\n",
              "         0.85490196, 0.8745098 , 0.91764706, 0.85098039, 0.85098039,\n",
              "         0.81960784, 0.36078431, 0.        ],\n",
              "        [0.        , 0.        , 0.00392157, 0.01568627, 0.02352941,\n",
              "         0.02745098, 0.00784314, 0.        , 0.        , 0.        ,\n",
              "         0.        , 0.        , 0.92941176, 0.88627451, 0.85098039,\n",
              "         0.8745098 , 0.87058824, 0.85882353, 0.87058824, 0.86666667,\n",
              "         0.84705882, 0.8745098 , 0.89803922, 0.84313725, 0.85490196,\n",
              "         1.        , 0.30196078, 0.        ],\n",
              "        [0.        , 0.01176471, 0.        , 0.        , 0.        ,\n",
              "         0.        , 0.        , 0.        , 0.        , 0.24313725,\n",
              "         0.56862745, 0.8       , 0.89411765, 0.81176471, 0.83529412,\n",
              "         0.86666667, 0.85490196, 0.81568627, 0.82745098, 0.85490196,\n",
              "         0.87843137, 0.8745098 , 0.85882353, 0.84313725, 0.87843137,\n",
              "         0.95686275, 0.62352941, 0.        ],\n",
              "        [0.        , 0.        , 0.        , 0.        , 0.07058824,\n",
              "         0.17254902, 0.32156863, 0.41960784, 0.74117647, 0.89411765,\n",
              "         0.8627451 , 0.87058824, 0.85098039, 0.88627451, 0.78431373,\n",
              "         0.80392157, 0.82745098, 0.90196078, 0.87843137, 0.91764706,\n",
              "         0.69019608, 0.7372549 , 0.98039216, 0.97254902, 0.91372549,\n",
              "         0.93333333, 0.84313725, 0.        ],\n",
              "        [0.        , 0.22352941, 0.73333333, 0.81568627, 0.87843137,\n",
              "         0.86666667, 0.87843137, 0.81568627, 0.8       , 0.83921569,\n",
              "         0.81568627, 0.81960784, 0.78431373, 0.62352941, 0.96078431,\n",
              "         0.75686275, 0.80784314, 0.8745098 , 1.        , 1.        ,\n",
              "         0.86666667, 0.91764706, 0.86666667, 0.82745098, 0.8627451 ,\n",
              "         0.90980392, 0.96470588, 0.        ],\n",
              "        [0.01176471, 0.79215686, 0.89411765, 0.87843137, 0.86666667,\n",
              "         0.82745098, 0.82745098, 0.83921569, 0.80392157, 0.80392157,\n",
              "         0.80392157, 0.8627451 , 0.94117647, 0.31372549, 0.58823529,\n",
              "         1.        , 0.89803922, 0.86666667, 0.7372549 , 0.60392157,\n",
              "         0.74901961, 0.82352941, 0.8       , 0.81960784, 0.87058824,\n",
              "         0.89411765, 0.88235294, 0.        ],\n",
              "        [0.38431373, 0.91372549, 0.77647059, 0.82352941, 0.87058824,\n",
              "         0.89803922, 0.89803922, 0.91764706, 0.97647059, 0.8627451 ,\n",
              "         0.76078431, 0.84313725, 0.85098039, 0.94509804, 0.25490196,\n",
              "         0.28627451, 0.41568627, 0.45882353, 0.65882353, 0.85882353,\n",
              "         0.86666667, 0.84313725, 0.85098039, 0.8745098 , 0.8745098 ,\n",
              "         0.87843137, 0.89803922, 0.11372549],\n",
              "        [0.29411765, 0.8       , 0.83137255, 0.8       , 0.75686275,\n",
              "         0.80392157, 0.82745098, 0.88235294, 0.84705882, 0.7254902 ,\n",
              "         0.77254902, 0.80784314, 0.77647059, 0.83529412, 0.94117647,\n",
              "         0.76470588, 0.89019608, 0.96078431, 0.9372549 , 0.8745098 ,\n",
              "         0.85490196, 0.83137255, 0.81960784, 0.87058824, 0.8627451 ,\n",
              "         0.86666667, 0.90196078, 0.2627451 ],\n",
              "        [0.18823529, 0.79607843, 0.71764706, 0.76078431, 0.83529412,\n",
              "         0.77254902, 0.7254902 , 0.74509804, 0.76078431, 0.75294118,\n",
              "         0.79215686, 0.83921569, 0.85882353, 0.86666667, 0.8627451 ,\n",
              "         0.9254902 , 0.88235294, 0.84705882, 0.78039216, 0.80784314,\n",
              "         0.72941176, 0.70980392, 0.69411765, 0.6745098 , 0.70980392,\n",
              "         0.80392157, 0.80784314, 0.45098039],\n",
              "        [0.        , 0.47843137, 0.85882353, 0.75686275, 0.70196078,\n",
              "         0.67058824, 0.71764706, 0.76862745, 0.8       , 0.82352941,\n",
              "         0.83529412, 0.81176471, 0.82745098, 0.82352941, 0.78431373,\n",
              "         0.76862745, 0.76078431, 0.74901961, 0.76470588, 0.74901961,\n",
              "         0.77647059, 0.75294118, 0.69019608, 0.61176471, 0.65490196,\n",
              "         0.69411765, 0.82352941, 0.36078431],\n",
              "        [0.        , 0.        , 0.29019608, 0.74117647, 0.83137255,\n",
              "         0.74901961, 0.68627451, 0.6745098 , 0.68627451, 0.70980392,\n",
              "         0.7254902 , 0.7372549 , 0.74117647, 0.7372549 , 0.75686275,\n",
              "         0.77647059, 0.8       , 0.81960784, 0.82352941, 0.82352941,\n",
              "         0.82745098, 0.7372549 , 0.7372549 , 0.76078431, 0.75294118,\n",
              "         0.84705882, 0.66666667, 0.        ],\n",
              "        [0.00784314, 0.        , 0.        , 0.        , 0.25882353,\n",
              "         0.78431373, 0.87058824, 0.92941176, 0.9372549 , 0.94901961,\n",
              "         0.96470588, 0.95294118, 0.95686275, 0.86666667, 0.8627451 ,\n",
              "         0.75686275, 0.74901961, 0.70196078, 0.71372549, 0.71372549,\n",
              "         0.70980392, 0.69019608, 0.65098039, 0.65882353, 0.38823529,\n",
              "         0.22745098, 0.        , 0.        ],\n",
              "        [0.        , 0.        , 0.        , 0.        , 0.        ,\n",
              "         0.        , 0.        , 0.15686275, 0.23921569, 0.17254902,\n",
              "         0.28235294, 0.16078431, 0.1372549 , 0.        , 0.        ,\n",
              "         0.        , 0.        , 0.        , 0.        , 0.        ,\n",
              "         0.        , 0.        , 0.        , 0.        , 0.        ,\n",
              "         0.        , 0.        , 0.        ],\n",
              "        [0.        , 0.        , 0.        , 0.        , 0.        ,\n",
              "         0.        , 0.        , 0.        , 0.        , 0.        ,\n",
              "         0.        , 0.        , 0.        , 0.        , 0.        ,\n",
              "         0.        , 0.        , 0.        , 0.        , 0.        ,\n",
              "         0.        , 0.        , 0.        , 0.        , 0.        ,\n",
              "         0.        , 0.        , 0.        ],\n",
              "        [0.        , 0.        , 0.        , 0.        , 0.        ,\n",
              "         0.        , 0.        , 0.        , 0.        , 0.        ,\n",
              "         0.        , 0.        , 0.        , 0.        , 0.        ,\n",
              "         0.        , 0.        , 0.        , 0.        , 0.        ,\n",
              "         0.        , 0.        , 0.        , 0.        , 0.        ,\n",
              "         0.        , 0.        , 0.        ]]),\n",
              " <matplotlib.image.AxesImage at 0x7f36f7402860>)"
            ]
          },
          "metadata": {
            "tags": []
          },
          "execution_count": 29
        },
        {
          "output_type": "display_data",
          "data": {
            "image/png": "[encoded data removed]",
            "text/plain": [
              "<Figure size 288x288 with 1 Axes>"
            ]
          },
          "metadata": {
            "tags": []
          }
        }
      ]
    },
    {
      "cell_type": "markdown",
      "metadata": {
        "id": "4TiFTEnkKzIF",
        "colab_type": "text"
      },
      "source": [
        "###**Step 1. Define Network**"
      ]
    },
    {
      "cell_type": "markdown",
      "metadata": {
        "id": "ouLKUWzj37Hx",
        "colab_type": "text"
      },
      "source": [
        "The purpose of this step is to define a model architecture (numbers of hidden layers, hidden neurons, activation function, etc). In other words the parameters of the model. \n",
        "\n",
        "The **[sequential model](https://keras.io/getting-started/sequential-model-guide/)** is a linear stack of layers.\n",
        "\n",
        "Keras can create a model by passing a list of layers using the method **add( )**."
      ]
    },
    {
      "cell_type": "code",
      "metadata": {
        "id": "j_lsl0q_rsDz",
        "colab_type": "code",
        "outputId": "52a538c9-2e48-4c42-b936-a6d163e4f310",
        "colab": {
          "base_uri": "https://localhost:8080/",
          "height": 139
        }
      },
      "source": [
        "from keras.models import Sequential\n",
        "from keras.layers import Flatten, Dense, Activation\n",
        "\n",
        "model = Sequential()\n",
        "model.add(Flatten(input_shape=[28, 28]))\n",
        "model.add(Dense(20, activation=\"relu\"))\n",
        "model.add(Dense(10, activation=\"softmax\"))"
      ],
      "execution_count": 0,
      "outputs": [
        {
          "output_type": "stream",
          "text": [
            "WARNING:tensorflow:From /usr/local/lib/python3.6/dist-packages/keras/backend/tensorflow_backend.py:66: The name tf.get_default_graph is deprecated. Please use tf.compat.v1.get_default_graph instead.\n",
            "\n",
            "WARNING:tensorflow:From /usr/local/lib/python3.6/dist-packages/keras/backend/tensorflow_backend.py:541: The name tf.placeholder is deprecated. Please use tf.compat.v1.placeholder instead.\n",
            "\n",
            "WARNING:tensorflow:From /usr/local/lib/python3.6/dist-packages/keras/backend/tensorflow_backend.py:4432: The name tf.random_uniform is deprecated. Please use tf.random.uniform instead.\n",
            "\n"
          ],
          "name": "stdout"
        }
      ]
    },
    {
      "cell_type": "markdown",
      "metadata": {
        "id": "e73RJbQDmdOy",
        "colab_type": "text"
      },
      "source": [
        "Our sequential neuronal model contains 3 layers (Input, Hidden, Output) of neurons (a node or unit that contains a number). The input neurons are connected to the output neurons via a hidden neurons. See the **[figure below](https://github.com/codebasics/py/blob/master/DeepLearningML/1_keras_fashion_mnist_neural_net/1_keras_fashion_mnist.ipynb)**.\n"
      ]
    },
    {
      "cell_type": "markdown",
      "metadata": {
        "id": "2SoZQzfiYK_h",
        "colab_type": "text"
      },
      "source": [
        "![texto alternativo](https://github.com/codebasics/py/raw/5e7277f380fe9daba8f7ece4f25d1177ca1e63d1/DeepLearningML/1_keras_fashion_mnist_neural_net/fashion_neural_net.png)"
      ]
    },
    {
      "cell_type": "markdown",
      "metadata": {
        "id": "0cAK1s3DhDhs",
        "colab_type": "text"
      },
      "source": [
        "The **first layer** represent the **Input**. In our model the input is X_train (60000, 28, 28) images. So we need 784=28X28 input neurons in the first layer. In other words, each images (a matrix of 28 rows and 28 columns) is charge in this 784 input neurons. Keras use the method Flatten( ) to convert a matrix 28X28 in an array size 784. The method Flatten is used to flatten the input.\n",
        "\n",
        "The **second layer** represent the **Hidden** neurons. The method Dense( ) is used to define the numbers of neurons of the Hidden layer and the type of the activation function of the model. We can use any number of neurons and layers on the Hidden layers. The configuration (architecture) of the model define the quality of the learning process. Let's start with 20 neurons and 1 hidden layer.\n",
        "\n",
        "The **third layer** represent the **Output** neurons. In our model the output are the labels Y_train. So we need 10 neurons, one for each 10 fashion categories (T-shirt/top, Trouser, Pullover, Dress, Coat, Sandal, Shirt, Sneaker, Bag, Ankle Boot), respectively. \n",
        "\n",
        "The activation function in the Hidden layer is Relu and in the Output layer is Softmax beacause the neural network try to solve a classification problem.\n",
        "\n",
        "Keras use the method model.summary() to check the model."
      ]
    },
    {
      "cell_type": "code",
      "metadata": {
        "id": "1mDKxgYxsBxz",
        "colab_type": "code",
        "outputId": "e132c0fd-ee1a-4aed-9bd6-9045682b61d0",
        "colab": {
          "base_uri": "https://localhost:8080/",
          "height": 255
        }
      },
      "source": [
        "model.summary()"
      ],
      "execution_count": 0,
      "outputs": [
        {
          "output_type": "stream",
          "text": [
            "Model: \"sequential_1\"\n",
            "_________________________________________________________________\n",
            "Layer (type)                 Output Shape              Param #   \n",
            "=================================================================\n",
            "flatten_1 (Flatten)          (None, 784)               0         \n",
            "_________________________________________________________________\n",
            "dense_1 (Dense)              (None, 20)                15700     \n",
            "_________________________________________________________________\n",
            "dense_2 (Dense)              (None, 10)                210       \n",
            "=================================================================\n",
            "Total params: 15,910\n",
            "Trainable params: 15,910\n",
            "Non-trainable params: 0\n",
            "_________________________________________________________________\n"
          ],
          "name": "stdout"
        }
      ]
    },
    {
      "cell_type": "markdown",
      "metadata": {
        "id": "MSONSnYx7-3g",
        "colab_type": "text"
      },
      "source": [
        "So we have an Input layer of 784 neurons. A Hidden layer of 20 neurons. And an Output of layer 10 neurons. \n",
        "\n",
        "A total of (15,910 = 15,700 + 210) learnable parameters (weights and biases) of our trainig model to estimate.\n",
        "\n",
        "Hidden layer 15,700 = 784 X 20 (weights) + 20 (biases), Output layer 210 = 20 X 10 (weights) + 20 (biases) by minimizing a **loss function** using an **optimizer** (gradient descent algorithm) that depends only on training dataset. We want to find the neural network weights that achieve the lowest loss.\n",
        "\n",
        "Keras computing the **values of weights and biases** automatically during training process watch the **[tensorflow animation](https://playground.tensorflow.org/)** below minute 20:05. "
      ]
    },
    {
      "cell_type": "code",
      "metadata": {
        "id": "wXf7PbVgMR8O",
        "colab_type": "code",
        "outputId": "bdc238d9-5e49-4bec-fd62-4b8537f36ab0",
        "colab": {
          "base_uri": "https://localhost:8080/",
          "height": 381
        }
      },
      "source": [
        "%%HTML\n",
        "<iframe width=\"640\" height=\"360\" src=\"https://www.youtube.com/embed/7x2YZhEj9Dw\" frameborder=\"0\" allow=\"accelerometer; autoplay; encrypted-media; gyroscope; picture-in-picture\" allowfullscreen></iframe>"
      ],
      "execution_count": 0,
      "outputs": [
        {
          "output_type": "display_data",
          "data": {
            "text/html": [
              "<iframe width=\"640\" height=\"360\" src=\"https://www.youtube.com/embed/7x2YZhEj9Dw\" frameborder=\"0\" allow=\"accelerometer; autoplay; encrypted-media; gyroscope; picture-in-picture\" allowfullscreen></iframe>"
            ],
            "text/plain": [
              "<IPython.core.display.HTML object>"
            ]
          },
          "metadata": {
            "tags": []
          }
        }
      ]
    },
    {
      "cell_type": "markdown",
      "metadata": {
        "id": "6lH1fsK5jZxV",
        "colab_type": "text"
      },
      "source": [
        "###**Step 2. Compile Network**"
      ]
    },
    {
      "cell_type": "markdown",
      "metadata": {
        "id": "zEC0Ez1ZHYF4",
        "colab_type": "text"
      },
      "source": [
        "The purpose of this step is to configure the learning process. In other words to  find the neural network weights and biases that achieve the lowest loss incurred from incorrect predictions. \n",
        "\n",
        "Keras use the method **[model.compile](https://keras.io/getting-started/sequential-model-guide/#compilation)** with three arguments:\n",
        "\n",
        "\n",
        "**[Loss](https://keras.io/losses/)** is a loss function (or objective function, or optimization score function, or error function). Loss measures the cost incurred from incorrect predictions. The empirical loss measures the total loss of our entire dataset. Exemple: loss='mean_squared_error'. \n",
        "\n",
        "**[Optimizer](https://keras.io/optimizers/)** is a gradient function used to optimize the loss functions. Exemple: optimizer='SGD'. Stochastic Gradient Descent optimizer. \n",
        "\n",
        "**[Metrics](https://keras.io/metrics/)** is a mesure used to judge the performance of a training model to make good predictions. Exemple: metrics='accurancy'. Accurancy is the number of correct predictions dividing by the number of predictions (our entire dataset).\n",
        "\n",
        "Loss is a number (the minimum score or value of our loss function) and accuracy(acc) is a %. Their values are calculated when the model is training (Step 3).\n"
      ]
    },
    {
      "cell_type": "code",
      "metadata": {
        "id": "jm3L38vNsUMX",
        "colab_type": "code",
        "outputId": "d17a5d2d-ebc9-4088-b8b8-3d08788c93ad",
        "colab": {
          "base_uri": "https://localhost:8080/",
          "height": 105
        }
      },
      "source": [
        "model.compile(loss=\"sparse_categorical_crossentropy\", \n",
        "              optimizer=\"adam\",\n",
        "              metrics=[\"accuracy\"])"
      ],
      "execution_count": 0,
      "outputs": [
        {
          "output_type": "stream",
          "text": [
            "WARNING:tensorflow:From /usr/local/lib/python3.6/dist-packages/keras/optimizers.py:793: The name tf.train.Optimizer is deprecated. Please use tf.compat.v1.train.Optimizer instead.\n",
            "\n",
            "WARNING:tensorflow:From /usr/local/lib/python3.6/dist-packages/keras/backend/tensorflow_backend.py:3622: The name tf.log is deprecated. Please use tf.math.log instead.\n",
            "\n"
          ],
          "name": "stdout"
        }
      ]
    },
    {
      "cell_type": "markdown",
      "metadata": {
        "id": "UyQGozSdfYn1",
        "colab_type": "text"
      },
      "source": [
        "The type of loss, optimizer and metrics depend on the problem that the training model is trying to solve. To a classification problem sparse categorical cross-entropy, adam and accuracy are use it."
      ]
    },
    {
      "cell_type": "markdown",
      "metadata": {
        "id": "vwXyVqZsmosx",
        "colab_type": "text"
      },
      "source": [
        "###**Step 3. Fit Network**"
      ]
    },
    {
      "cell_type": "markdown",
      "metadata": {
        "id": "AIFWq2ur1h8B",
        "colab_type": "text"
      },
      "source": [
        "The purpose of this step is to fit the Input (images) into the Output (labels) during the learning process. In other words to make corrrect predictions by estimated the values of the parameters of the training model. The quality of the learning process consist on the training loss values and metrics values at successive epochs.\n",
        "\n",
        "Keras use the method **[model.fit](https://keras.io/models/model/#fit)** with three arguments: \n",
        "\n",
        "**X_train:** Input data (60000 images).\n",
        "\n",
        "**Y_train:** Output or Target data (10 labels).\n",
        "\n",
        "**Epochs:** Number of episode of training the neural network model over and over again with the training dataset.\n",
        "\n",
        "Once training process is complet Keras provides a statistical summary of the performance of the model during training. \n",
        "\n",
        "The values of **loss** and **acc** are used to give the statistical results. Loss is a number give by the loss function. So it has to be near 0 for good predictions.\n",
        "\n",
        "We use Keras **[training history visualization](https://keras.io/visualization/)** to plot **loss** and **acc**. "
      ]
    },
    {
      "cell_type": "code",
      "metadata": {
        "id": "kYWGmEt5KHYL",
        "colab_type": "code",
        "outputId": "ada0e006-67d8-4548-c880-a9a16644fae9",
        "colab": {
          "base_uri": "https://localhost:8080/",
          "height": 913
        }
      },
      "source": [
        "history = model.fit(x_train, y_train, epochs=10)\n",
        "\n",
        "plt.plot(history.history['acc']) \n",
        "plt.title('Training Accuracy')\n",
        "plt.ylabel('Accuracy')\n",
        "plt.xlabel('Epoch')\n",
        "plt.legend(['Train loss'], loc='upper left')\n",
        "plt.show()\n",
        "\n",
        "plt.plot(history.history['loss'])\n",
        "plt.title('Training Loss')\n",
        "plt.ylabel('Loss')\n",
        "plt.xlabel('Epoch')\n",
        "plt.legend(['Train'], loc='upper right')\n",
        "plt.show()"
      ],
      "execution_count": 0,
      "outputs": [
        {
          "output_type": "stream",
          "text": [
            "Epoch 1/10\n",
            "60000/60000 [==============================] - 3s 48us/step - loss: 0.3534 - acc: 0.8737\n",
            "Epoch 2/10\n",
            "60000/60000 [==============================] - 3s 46us/step - loss: 0.3471 - acc: 0.8746\n",
            "Epoch 3/10\n",
            "60000/60000 [==============================] - 3s 47us/step - loss: 0.3403 - acc: 0.8776\n",
            "Epoch 4/10\n",
            "60000/60000 [==============================] - 3s 46us/step - loss: 0.3373 - acc: 0.8774\n",
            "Epoch 5/10\n",
            "60000/60000 [==============================] - 3s 45us/step - loss: 0.3331 - acc: 0.8799\n",
            "Epoch 6/10\n",
            "60000/60000 [==============================] - 3s 46us/step - loss: 0.3290 - acc: 0.8813\n",
            "Epoch 7/10\n",
            "60000/60000 [==============================] - 3s 46us/step - loss: 0.3255 - acc: 0.8827\n",
            "Epoch 8/10\n",
            "60000/60000 [==============================] - 3s 44us/step - loss: 0.3241 - acc: 0.8830\n",
            "Epoch 9/10\n",
            "60000/60000 [==============================] - 3s 45us/step - loss: 0.3219 - acc: 0.8840\n",
            "Epoch 10/10\n",
            "60000/60000 [==============================] - 3s 44us/step - loss: 0.3184 - acc: 0.8840\n"
          ],
          "name": "stdout"
        },
        {
          "output_type": "display_data",
          "data": {
            "image/png": "[encoded data removed]",
            "text/plain": [
              "<Figure size 432x288 with 1 Axes>"
            ]
          },
          "metadata": {
            "tags": []
          }
        },
        {
          "output_type": "display_data",
          "data": {
            "image/png": "[encoded data removed]",
            "text/plain": [
              "<Figure size 432x288 with 1 Axes>"
            ]
          },
          "metadata": {
            "tags": []
          }
        }
      ]
    },
    {
      "cell_type": "markdown",
      "metadata": {
        "id": "Lgf_Xnm2vBen",
        "colab_type": "text"
      },
      "source": [
        "As we can see the loss is decreasing and the acc is increasing. And after 10 epochs the training model accuracy is 88% (acc = 0.8840) and the training model loss is 0.3184. "
      ]
    },
    {
      "cell_type": "markdown",
      "metadata": {
        "id": "5brHeqMhoVnf",
        "colab_type": "text"
      },
      "source": [
        "###**Step 4. Evaluate Network**"
      ]
    },
    {
      "cell_type": "markdown",
      "metadata": {
        "id": "3zitw5KbLwdI",
        "colab_type": "text"
      },
      "source": [
        "The purporse of this step is to evaluate a trained model (step 3) to make predictions. \n",
        "\n",
        "Keras used the method **[model.evaluate](https://keras.io/models/sequential/#evaluate)** with two arguments: \n",
        "\n",
        "**X_test:** Input data (10000 images). \n",
        "\n",
        "**Y_test:** Output or Target data (10 labels). \n",
        "\n"
      ]
    },
    {
      "cell_type": "code",
      "metadata": {
        "id": "qavABp5czk7K",
        "colab_type": "code",
        "outputId": "33f34f5a-fcca-41e6-a055-c4a90ae12d2e",
        "colab": {
          "base_uri": "https://localhost:8080/",
          "height": 51
        }
      },
      "source": [
        "Test_loss, Test_acc = model.evaluate(x_test, y_test)\n",
        "print(\"Test loss:\",Test_loss, \"Test_acc:\", Test_acc)"
      ],
      "execution_count": 0,
      "outputs": [
        {
          "output_type": "stream",
          "text": [
            "10000/10000 [==============================] - 0s 29us/step\n",
            "Test loss: 0.3840790108680725 Test_acc: 0.8647\n"
          ],
          "name": "stdout"
        }
      ]
    },
    {
      "cell_type": "markdown",
      "metadata": {
        "id": "fpdFmd0cPLbh",
        "colab_type": "text"
      },
      "source": [
        "To differentiate **loss** and **acc** from the evaluation process we use test_loss (or val_loss) and test_acc (or val_acc). The performance of our training model is good to make predictions. The loss function is near a minimum (training loss is 0.3134 and test_loss is 0.3840). The training accuracy (acc) is 88% (60,000 images) and test accuracy (test_acc) or validation accuracy (val_acc) is 86% (10,000 images)."
      ]
    },
    {
      "cell_type": "markdown",
      "metadata": {
        "id": "J5bsvj-Es5rM",
        "colab_type": "text"
      },
      "source": [
        "###**Step 5. Make Predictions**"
      ]
    },
    {
      "cell_type": "markdown",
      "metadata": {
        "id": "S1P_0EeHq7qn",
        "colab_type": "text"
      },
      "source": [
        "The purporse of this step is to make predictions using an evaluated model (step 4).  \n",
        "\n",
        "Keras use the method **[model.predict](https://keras.io/models/model/#predict)** with one argument: \n",
        "\n",
        "**X_test** (Input data, 10000 images)"
      ]
    },
    {
      "cell_type": "markdown",
      "metadata": {
        "id": "QaoEglCtVPMu",
        "colab_type": "text"
      },
      "source": [
        "The predictions are probabilities because we deal with a classification problem and the activation function of the Output layer is softmax."
      ]
    },
    {
      "cell_type": "code",
      "metadata": {
        "id": "fktKby0Lt972",
        "colab_type": "code",
        "colab": {}
      },
      "source": [
        "\n",
        "yp = model.predict(x_test)"
      ],
      "execution_count": 0,
      "outputs": []
    },
    {
      "cell_type": "markdown",
      "metadata": {
        "id": "Csg_y6HURh6A",
        "colab_type": "text"
      },
      "source": [
        "Let's see the shape."
      ]
    },
    {
      "cell_type": "code",
      "metadata": {
        "id": "zv-g3q4LirD_",
        "colab_type": "code",
        "outputId": "2ba8ac41-e317-4427-e3cf-fc12a1377a12",
        "colab": {
          "base_uri": "https://localhost:8080/",
          "height": 34
        }
      },
      "source": [
        "yp.shape"
      ],
      "execution_count": 0,
      "outputs": [
        {
          "output_type": "execute_result",
          "data": {
            "text/plain": [
              "(10000, 10)"
            ]
          },
          "metadata": {
            "tags": []
          },
          "execution_count": 79
        }
      ]
    },
    {
      "cell_type": "markdown",
      "metadata": {
        "id": "5wSzon4nRqpD",
        "colab_type": "text"
      },
      "source": [
        "We have 10,000 images and 10 labels."
      ]
    },
    {
      "cell_type": "code",
      "metadata": {
        "id": "HvFdb5eoCov-",
        "colab_type": "code",
        "outputId": "9f1fc017-f480-4485-bef6-904e434a65af",
        "colab": {
          "base_uri": "https://localhost:8080/",
          "height": 238
        }
      },
      "source": [
        "yp"
      ],
      "execution_count": 0,
      "outputs": [
        {
          "output_type": "execute_result",
          "data": {
            "text/plain": [
              "array([[1.7919614e-06, 2.5404270e-07, 1.4053868e-10, ..., 5.7137515e-03,\n",
              "        7.7611359e-05, 9.6021408e-01],\n",
              "       [6.2956395e-05, 6.6250394e-08, 8.9211708e-01, ..., 1.9890255e-32,\n",
              "        9.9820738e-07, 8.1651601e-32],\n",
              "       [1.2306125e-06, 9.9999833e-01, 3.1676964e-10, ..., 2.7565862e-18,\n",
              "        1.9660582e-09, 2.2732934e-24],\n",
              "       ...,\n",
              "       [1.0030856e-03, 5.7134907e-06, 5.8409555e-06, ..., 1.2754618e-11,\n",
              "        9.9716115e-01, 5.8495640e-13],\n",
              "       [2.9068199e-08, 9.9998224e-01, 7.7781073e-11, ..., 2.5608838e-12,\n",
              "        8.8536319e-07, 6.3850630e-19],\n",
              "       [2.1287635e-06, 3.8911585e-06, 5.5861515e-06, ..., 4.6514529e-03,\n",
              "        1.1712221e-03, 3.7520193e-05]], dtype=float32)"
            ]
          },
          "metadata": {
            "tags": []
          },
          "execution_count": 80
        }
      ]
    },
    {
      "cell_type": "markdown",
      "metadata": {
        "id": "8cnB4jrgbH2q",
        "colab_type": "text"
      },
      "source": [
        "The predicted value (yp array) for each image (10,000) is a probaility (between 0 and 1) to be one of the 10 labels. Let's see the probabilities of the first image of our test dataset. "
      ]
    },
    {
      "cell_type": "code",
      "metadata": {
        "id": "FbYmQ53cjE4S",
        "colab_type": "code",
        "outputId": "e71910ee-b2c8-448f-f86e-cb96328ae829",
        "colab": {
          "base_uri": "https://localhost:8080/",
          "height": 68
        }
      },
      "source": [
        "yp[0]"
      ],
      "execution_count": 0,
      "outputs": [
        {
          "output_type": "execute_result",
          "data": {
            "text/plain": [
              "array([1.7919614e-06, 2.5404270e-07, 1.4053868e-10, 1.0941562e-12,\n",
              "       2.5597291e-09, 3.3992495e-02, 9.3957751e-11, 5.7137515e-03,\n",
              "       7.7611359e-05, 9.6021408e-01], dtype=float32)"
            ]
          },
          "metadata": {
            "tags": []
          },
          "execution_count": 81
        }
      ]
    },
    {
      "cell_type": "markdown",
      "metadata": {
        "id": "I1Sq35fLcdfu",
        "colab_type": "text"
      },
      "source": [
        "As you can see the probability close to 1 is 9.6021408e-01. Keras use the method **np.argmax( )** to pick up the bigest one."
      ]
    },
    {
      "cell_type": "code",
      "metadata": {
        "id": "r7O2LC0AuH-Q",
        "colab_type": "code",
        "outputId": "6f285d25-8470-4e54-fd06-b1741cfa5134",
        "colab": {
          "base_uri": "https://localhost:8080/",
          "height": 34
        }
      },
      "source": [
        "np.argmax(yp[0]), label[np.argmax(yp[0])]"
      ],
      "execution_count": 0,
      "outputs": [
        {
          "output_type": "execute_result",
          "data": {
            "text/plain": [
              "(9, 'Ankle Boot')"
            ]
          },
          "metadata": {
            "tags": []
          },
          "execution_count": 82
        }
      ]
    },
    {
      "cell_type": "markdown",
      "metadata": {
        "id": "uNe_x7wzlhv_",
        "colab_type": "text"
      },
      "source": [
        "Now we compare the predicted value to the real value."
      ]
    },
    {
      "cell_type": "code",
      "metadata": {
        "id": "D4Ax9D8LEYrf",
        "colab_type": "code",
        "outputId": "30340905-81fb-4bfa-d97e-996af4411db4",
        "colab": {
          "base_uri": "https://localhost:8080/",
          "height": 34
        }
      },
      "source": [
        "y_test[0],label[y_test[0]]"
      ],
      "execution_count": 0,
      "outputs": [
        {
          "output_type": "execute_result",
          "data": {
            "text/plain": [
              "(9, 'Ankle Boot')"
            ]
          },
          "metadata": {
            "tags": []
          },
          "execution_count": 83
        }
      ]
    },
    {
      "cell_type": "markdown",
      "metadata": {
        "id": "fPJfbIHFea2V",
        "colab_type": "text"
      },
      "source": [
        "So the prediction is correct."
      ]
    },
    {
      "cell_type": "markdown",
      "metadata": {
        "id": "e4_oqpPcnyYZ",
        "colab_type": "text"
      },
      "source": [
        "###**Investigating Our Predictions**"
      ]
    },
    {
      "cell_type": "markdown",
      "metadata": {
        "id": "NxtUqtcS0kHC",
        "colab_type": "text"
      },
      "source": [
        "First of all, let's check the Accurancy (number of correct predictions dividing by the number of predictions). We need to change our test dataset for our train dataset."
      ]
    },
    {
      "cell_type": "code",
      "metadata": {
        "id": "SzD8Mnm51dUE",
        "colab_type": "code",
        "outputId": "103dac62-63b0-46d1-87cb-03e91be39196",
        "colab": {
          "base_uri": "https://localhost:8080/",
          "height": 85
        }
      },
      "source": [
        "yp = model.predict(x_train)\n",
        "j = 0\n",
        "k = 0\n",
        "for i in range(60000):\n",
        "    if y_train[i]== np.argmax(yp[i]):\n",
        "      j=j+1                         \n",
        "    else:\n",
        "        k=k+1\n",
        "print(\"Correct Predictions:\", j) \n",
        "print(\"Jncorrect Predictions:\", k)\n",
        "print(\"Total:\", j+k) \n",
        "print(\"Accuracy (acc)\", j/60000)"
      ],
      "execution_count": 0,
      "outputs": [
        {
          "output_type": "stream",
          "text": [
            "Correct Predictions: 53375\n",
            "Jncorrect Predictions: 6625\n",
            "Total: 60000\n",
            "Accuracy (acc) 0.8895833333333333\n"
          ],
          "name": "stdout"
        }
      ]
    },
    {
      "cell_type": "markdown",
      "metadata": {
        "id": "zDZAfe7xBLgk",
        "colab_type": "text"
      },
      "source": [
        "The accuracy value is the same 88%."
      ]
    },
    {
      "cell_type": "markdown",
      "metadata": {
        "id": "zi7AJIbxBf1v",
        "colab_type": "text"
      },
      "source": [
        "Secondly, let's check the validation accuracy and see all the incorrect predictions of our test dataset. The actual value and the predicted value is listed below."
      ]
    },
    {
      "cell_type": "code",
      "metadata": {
        "id": "MgFfeqW9IaPI",
        "colab_type": "code",
        "outputId": "98cebe40-405f-4df2-f527-b9595815a0a0",
        "colab": {
          "base_uri": "https://localhost:8080/",
          "height": 1000
        }
      },
      "source": [
        "yp = model.predict(x_test)\n",
        "j = 0\n",
        "k = 0\n",
        "for i in range(0,10000):\n",
        "    if y_test[i]== np.argmax(yp[i]):\n",
        "      j=j+1                         \n",
        "    else:\n",
        "         print(i,y_test[i], label[y_test[i]],np.argmax(yp[i]), label[np.argmax(yp[i])])\n",
        "         k=k+1\n",
        "print(\"------------------------------\")\n",
        "print(\"Correct Predictions:\", j) \n",
        "print(\"Incorrect Predictions:\", k)\n",
        "print(\"Total:\", j+k) \n",
        "print(\"Test Accuracy (Test_acc):\", j/10000) \n"
      ],
      "execution_count": 0,
      "outputs": [
        {
          "output_type": "stream",
          "text": [
            "12 7 Sneaker 8 Bag\n",
            "17 4 Coat 2 Pullover\n",
            "25 4 Coat 2 Pullover\n",
            "29 3 Dress 4 Coat\n",
            "40 6 Shirt 0 T-shirt/top\n",
            "42 3 Dress 6 Shirt\n",
            "49 2 Pullover 6 Shirt\n",
            "50 4 Coat 6 Shirt\n",
            "51 4 Coat 2 Pullover\n",
            "57 4 Coat 2 Pullover\n",
            "66 2 Pullover 0 T-shirt/top\n",
            "67 3 Dress 4 Coat\n",
            "68 9 Ankle Boot 7 Sneaker\n",
            "72 2 Pullover 6 Shirt\n",
            "89 6 Shirt 2 Pullover\n",
            "103 2 Pullover 6 Shirt\n",
            "107 9 Ankle Boot 7 Sneaker\n",
            "127 4 Coat 2 Pullover\n",
            "135 6 Shirt 4 Coat\n",
            "141 0 T-shirt/top 6 Shirt\n",
            "147 6 Shirt 3 Dress\n",
            "150 4 Coat 3 Dress\n",
            "151 4 Coat 2 Pullover\n",
            "153 4 Coat 3 Dress\n",
            "192 1 Trouser 3 Dress\n",
            "222 2 Pullover 3 Dress\n",
            "227 2 Pullover 6 Shirt\n",
            "239 4 Coat 2 Pullover\n",
            "244 6 Shirt 2 Pullover\n",
            "247 4 Coat 2 Pullover\n",
            "248 2 Pullover 6 Shirt\n",
            "249 2 Pullover 4 Coat\n",
            "255 2 Pullover 4 Coat\n",
            "273 2 Pullover 4 Coat\n",
            "282 6 Shirt 2 Pullover\n",
            "283 3 Dress 4 Coat\n",
            "312 6 Shirt 8 Bag\n",
            "313 4 Coat 6 Shirt\n",
            "314 2 Pullover 6 Shirt\n",
            "316 9 Ankle Boot 7 Sneaker\n",
            "320 8 Bag 2 Pullover\n",
            "324 4 Coat 6 Shirt\n",
            "325 6 Shirt 2 Pullover\n",
            "332 0 T-shirt/top 6 Shirt\n",
            "344 6 Shirt 0 T-shirt/top\n",
            "359 0 T-shirt/top 6 Shirt\n",
            "361 2 Pullover 6 Shirt\n",
            "367 2 Pullover 4 Coat\n",
            "378 4 Coat 3 Dress\n",
            "381 0 T-shirt/top 6 Shirt\n",
            "382 2 Pullover 0 T-shirt/top\n",
            "389 6 Shirt 2 Pullover\n",
            "396 4 Coat 6 Shirt\n",
            "406 6 Shirt 2 Pullover\n",
            "409 1 Trouser 4 Coat\n",
            "413 2 Pullover 0 T-shirt/top\n",
            "441 9 Ankle Boot 7 Sneaker\n",
            "444 6 Shirt 4 Coat\n",
            "454 0 T-shirt/top 2 Pullover\n",
            "457 2 Pullover 4 Coat\n",
            "460 3 Dress 0 T-shirt/top\n",
            "465 3 Dress 0 T-shirt/top\n",
            "474 6 Shirt 0 T-shirt/top\n",
            "476 4 Coat 6 Shirt\n",
            "490 3 Dress 4 Coat\n",
            "526 4 Coat 6 Shirt\n",
            "527 2 Pullover 6 Shirt\n",
            "529 8 Bag 0 T-shirt/top\n",
            "531 0 T-shirt/top 3 Dress\n",
            "541 4 Coat 2 Pullover\n",
            "546 2 Pullover 4 Coat\n",
            "548 6 Shirt 4 Coat\n",
            "562 6 Shirt 2 Pullover\n",
            "563 6 Shirt 0 T-shirt/top\n",
            "565 6 Shirt 0 T-shirt/top\n",
            "569 3 Dress 0 T-shirt/top\n",
            "572 6 Shirt 0 T-shirt/top\n",
            "577 0 T-shirt/top 3 Dress\n",
            "578 3 Dress 6 Shirt\n",
            "585 4 Coat 2 Pullover\n",
            "586 6 Shirt 0 T-shirt/top\n",
            "589 0 T-shirt/top 8 Bag\n",
            "595 6 Shirt 2 Pullover\n",
            "608 2 Pullover 6 Shirt\n",
            "623 9 Ankle Boot 7 Sneaker\n",
            "628 6 Shirt 0 T-shirt/top\n",
            "634 6 Shirt 2 Pullover\n",
            "635 8 Bag 6 Shirt\n",
            "639 4 Coat 2 Pullover\n",
            "663 1 Trouser 3 Dress\n",
            "664 6 Shirt 2 Pullover\n",
            "669 8 Bag 0 T-shirt/top\n",
            "670 2 Pullover 6 Shirt\n",
            "671 7 Sneaker 5 Sandal\n",
            "688 3 Dress 6 Shirt\n",
            "689 4 Coat 2 Pullover\n",
            "697 8 Bag 2 Pullover\n",
            "701 1 Trouser 3 Dress\n",
            "702 4 Coat 2 Pullover\n",
            "711 6 Shirt 3 Dress\n",
            "722 5 Sandal 7 Sneaker\n",
            "725 6 Shirt 4 Coat\n",
            "732 2 Pullover 0 T-shirt/top\n",
            "735 5 Sandal 7 Sneaker\n",
            "753 3 Dress 0 T-shirt/top\n",
            "760 2 Pullover 6 Shirt\n",
            "787 1 Trouser 3 Dress\n",
            "800 7 Sneaker 9 Ankle Boot\n",
            "801 4 Coat 2 Pullover\n",
            "805 4 Coat 2 Pullover\n",
            "823 6 Shirt 2 Pullover\n",
            "851 2 Pullover 4 Coat\n",
            "852 5 Sandal 7 Sneaker\n",
            "860 6 Shirt 2 Pullover\n",
            "881 0 T-shirt/top 6 Shirt\n",
            "887 3 Dress 1 Trouser\n",
            "890 0 T-shirt/top 3 Dress\n",
            "905 4 Coat 2 Pullover\n",
            "909 6 Shirt 2 Pullover\n",
            "920 8 Bag 5 Sandal\n",
            "921 6 Shirt 4 Coat\n",
            "926 0 T-shirt/top 6 Shirt\n",
            "930 0 T-shirt/top 6 Shirt\n",
            "935 4 Coat 6 Shirt\n",
            "937 0 T-shirt/top 6 Shirt\n",
            "938 6 Shirt 2 Pullover\n",
            "956 6 Shirt 2 Pullover\n",
            "960 3 Dress 2 Pullover\n",
            "965 0 T-shirt/top 6 Shirt\n",
            "966 6 Shirt 0 T-shirt/top\n",
            "968 6 Shirt 0 T-shirt/top\n",
            "971 6 Shirt 2 Pullover\n",
            "976 2 Pullover 4 Coat\n",
            "977 6 Shirt 0 T-shirt/top\n",
            "979 3 Dress 0 T-shirt/top\n",
            "985 0 T-shirt/top 6 Shirt\n",
            "987 4 Coat 2 Pullover\n",
            "994 4 Coat 2 Pullover\n",
            "1000 0 T-shirt/top 6 Shirt\n",
            "1004 6 Shirt 2 Pullover\n",
            "1005 0 T-shirt/top 4 Coat\n",
            "1008 6 Shirt 2 Pullover\n",
            "1025 6 Shirt 4 Coat\n",
            "1053 4 Coat 2 Pullover\n",
            "1055 4 Coat 6 Shirt\n",
            "1056 6 Shirt 0 T-shirt/top\n",
            "1058 6 Shirt 4 Coat\n",
            "1065 4 Coat 6 Shirt\n",
            "1074 4 Coat 2 Pullover\n",
            "1082 1 Trouser 3 Dress\n",
            "1096 6 Shirt 2 Pullover\n",
            "1101 4 Coat 6 Shirt\n",
            "1104 4 Coat 6 Shirt\n",
            "1107 6 Shirt 2 Pullover\n",
            "1111 0 T-shirt/top 3 Dress\n",
            "1121 6 Shirt 2 Pullover\n",
            "1124 0 T-shirt/top 6 Shirt\n",
            "1131 6 Shirt 4 Coat\n",
            "1139 0 T-shirt/top 6 Shirt\n",
            "1152 6 Shirt 0 T-shirt/top\n",
            "1160 4 Coat 3 Dress\n",
            "1162 6 Shirt 4 Coat\n",
            "1165 6 Shirt 2 Pullover\n",
            "1174 6 Shirt 4 Coat\n",
            "1185 4 Coat 2 Pullover\n",
            "1197 6 Shirt 2 Pullover\n",
            "1206 9 Ankle Boot 5 Sandal\n",
            "1207 0 T-shirt/top 6 Shirt\n",
            "1210 6 Shirt 3 Dress\n",
            "1218 0 T-shirt/top 3 Dress\n",
            "1223 4 Coat 6 Shirt\n",
            "1231 0 T-shirt/top 6 Shirt\n",
            "1235 6 Shirt 0 T-shirt/top\n",
            "1243 4 Coat 6 Shirt\n",
            "1249 0 T-shirt/top 6 Shirt\n",
            "1251 4 Coat 3 Dress\n",
            "1254 2 Pullover 6 Shirt\n",
            "1280 2 Pullover 4 Coat\n",
            "1285 0 T-shirt/top 6 Shirt\n",
            "1294 6 Shirt 0 T-shirt/top\n",
            "1297 4 Coat 2 Pullover\n",
            "1300 8 Bag 5 Sandal\n",
            "1305 0 T-shirt/top 6 Shirt\n",
            "1326 3 Dress 6 Shirt\n",
            "1329 4 Coat 2 Pullover\n",
            "1334 4 Coat 6 Shirt\n",
            "1336 3 Dress 0 T-shirt/top\n",
            "1356 4 Coat 2 Pullover\n",
            "1374 2 Pullover 4 Coat\n",
            "1377 4 Coat 2 Pullover\n",
            "1388 4 Coat 2 Pullover\n",
            "1396 6 Shirt 0 T-shirt/top\n",
            "1399 0 T-shirt/top 6 Shirt\n",
            "1408 4 Coat 2 Pullover\n",
            "1449 2 Pullover 4 Coat\n",
            "1455 8 Bag 4 Coat\n",
            "1458 6 Shirt 0 T-shirt/top\n",
            "1462 4 Coat 8 Bag\n",
            "1469 6 Shirt 2 Pullover\n",
            "1471 9 Ankle Boot 7 Sneaker\n",
            "1482 1 Trouser 0 T-shirt/top\n",
            "1483 0 T-shirt/top 6 Shirt\n",
            "1487 6 Shirt 2 Pullover\n",
            "1495 0 T-shirt/top 6 Shirt\n",
            "1496 6 Shirt 2 Pullover\n",
            "1501 5 Sandal 7 Sneaker\n",
            "1502 6 Shirt 2 Pullover\n",
            "1504 0 T-shirt/top 3 Dress\n",
            "1509 2 Pullover 6 Shirt\n",
            "1513 5 Sandal 7 Sneaker\n",
            "1522 9 Ankle Boot 7 Sneaker\n",
            "1527 2 Pullover 6 Shirt\n",
            "1533 2 Pullover 6 Shirt\n",
            "1539 2 Pullover 4 Coat\n",
            "1585 3 Dress 6 Shirt\n",
            "1586 0 T-shirt/top 6 Shirt\n",
            "1609 7 Sneaker 9 Ankle Boot\n",
            "1617 5 Sandal 7 Sneaker\n",
            "1620 6 Shirt 0 T-shirt/top\n",
            "1624 2 Pullover 6 Shirt\n",
            "1629 6 Shirt 2 Pullover\n",
            "1643 6 Shirt 4 Coat\n",
            "1650 6 Shirt 0 T-shirt/top\n",
            "1655 2 Pullover 4 Coat\n",
            "1659 1 Trouser 3 Dress\n",
            "1661 2 Pullover 4 Coat\n",
            "1662 4 Coat 2 Pullover\n",
            "1665 3 Dress 4 Coat\n",
            "1671 4 Coat 2 Pullover\n",
            "1686 0 T-shirt/top 6 Shirt\n",
            "1701 6 Shirt 4 Coat\n",
            "1732 2 Pullover 4 Coat\n",
            "1743 2 Pullover 4 Coat\n",
            "1744 6 Shirt 2 Pullover\n",
            "1756 6 Shirt 0 T-shirt/top\n",
            "1771 6 Shirt 0 T-shirt/top\n",
            "1792 4 Coat 2 Pullover\n",
            "1810 3 Dress 4 Coat\n",
            "1814 4 Coat 3 Dress\n",
            "1825 5 Sandal 7 Sneaker\n",
            "1836 0 T-shirt/top 6 Shirt\n",
            "1841 3 Dress 6 Shirt\n",
            "1852 3 Dress 8 Bag\n",
            "1855 4 Coat 2 Pullover\n",
            "1856 4 Coat 2 Pullover\n",
            "1867 0 T-shirt/top 6 Shirt\n",
            "1895 4 Coat 6 Shirt\n",
            "1905 0 T-shirt/top 6 Shirt\n",
            "1917 4 Coat 2 Pullover\n",
            "1930 3 Dress 4 Coat\n",
            "1943 6 Shirt 0 T-shirt/top\n",
            "1945 0 T-shirt/top 3 Dress\n",
            "1953 5 Sandal 7 Sneaker\n",
            "1954 9 Ankle Boot 7 Sneaker\n",
            "1955 1 Trouser 3 Dress\n",
            "1964 2 Pullover 4 Coat\n",
            "1968 3 Dress 6 Shirt\n",
            "1980 8 Bag 3 Dress\n",
            "2001 2 Pullover 4 Coat\n",
            "2006 6 Shirt 0 T-shirt/top\n",
            "2009 6 Shirt 0 T-shirt/top\n",
            "2016 6 Shirt 2 Pullover\n",
            "2020 2 Pullover 4 Coat\n",
            "2021 3 Dress 1 Trouser\n",
            "2022 7 Sneaker 9 Ankle Boot\n",
            "2037 5 Sandal 7 Sneaker\n",
            "2039 2 Pullover 4 Coat\n",
            "2042 4 Coat 2 Pullover\n",
            "2053 5 Sandal 7 Sneaker\n",
            "2064 2 Pullover 6 Shirt\n",
            "2065 3 Dress 1 Trouser\n",
            "2067 4 Coat 2 Pullover\n",
            "2071 3 Dress 4 Coat\n",
            "2073 4 Coat 3 Dress\n",
            "2076 8 Bag 6 Shirt\n",
            "2085 9 Ankle Boot 7 Sneaker\n",
            "2110 6 Shirt 4 Coat\n",
            "2144 4 Coat 6 Shirt\n",
            "2150 4 Coat 6 Shirt\n",
            "2162 6 Shirt 8 Bag\n",
            "2189 4 Coat 6 Shirt\n",
            "2195 6 Shirt 2 Pullover\n",
            "2202 4 Coat 2 Pullover\n",
            "2243 4 Coat 2 Pullover\n",
            "2245 3 Dress 1 Trouser\n",
            "2247 6 Shirt 0 T-shirt/top\n",
            "2278 2 Pullover 4 Coat\n",
            "2290 6 Shirt 0 T-shirt/top\n",
            "2293 2 Pullover 4 Coat\n",
            "2298 6 Shirt 0 T-shirt/top\n",
            "2311 6 Shirt 3 Dress\n",
            "2312 3 Dress 6 Shirt\n",
            "2318 3 Dress 2 Pullover\n",
            "2320 4 Coat 2 Pullover\n",
            "2326 6 Shirt 2 Pullover\n",
            "2332 2 Pullover 4 Coat\n",
            "2337 2 Pullover 4 Coat\n",
            "2351 6 Shirt 2 Pullover\n",
            "2359 0 T-shirt/top 4 Coat\n",
            "2373 6 Shirt 2 Pullover\n",
            "2376 4 Coat 6 Shirt\n",
            "2381 8 Bag 5 Sandal\n",
            "2396 1 Trouser 3 Dress\n",
            "2397 6 Shirt 0 T-shirt/top\n",
            "2399 9 Ankle Boot 5 Sandal\n",
            "2417 6 Shirt 0 T-shirt/top\n",
            "2418 4 Coat 2 Pullover\n",
            "2421 4 Coat 2 Pullover\n",
            "2425 6 Shirt 2 Pullover\n",
            "2431 6 Shirt 3 Dress\n",
            "2447 9 Ankle Boot 5 Sandal\n",
            "2462 4 Coat 6 Shirt\n",
            "2464 6 Shirt 0 T-shirt/top\n",
            "2469 6 Shirt 2 Pullover\n",
            "2476 8 Bag 6 Shirt\n",
            "2478 1 Trouser 3 Dress\n",
            "2485 6 Shirt 0 T-shirt/top\n",
            "2487 4 Coat 2 Pullover\n",
            "2491 6 Shirt 2 Pullover\n",
            "2506 0 T-shirt/top 6 Shirt\n",
            "2507 3 Dress 4 Coat\n",
            "2509 4 Coat 2 Pullover\n",
            "2522 0 T-shirt/top 6 Shirt\n",
            "2527 9 Ankle Boot 7 Sneaker\n",
            "2540 6 Shirt 4 Coat\n",
            "2548 2 Pullover 6 Shirt\n",
            "2551 6 Shirt 4 Coat\n",
            "2559 9 Ankle Boot 7 Sneaker\n",
            "2570 4 Coat 6 Shirt\n",
            "2571 0 T-shirt/top 6 Shirt\n",
            "2573 4 Coat 3 Dress\n",
            "2580 6 Shirt 0 T-shirt/top\n",
            "2588 6 Shirt 2 Pullover\n",
            "2593 2 Pullover 6 Shirt\n",
            "2599 0 T-shirt/top 8 Bag\n",
            "2617 4 Coat 2 Pullover\n",
            "2624 2 Pullover 4 Coat\n",
            "2626 4 Coat 6 Shirt\n",
            "2629 6 Shirt 3 Dress\n",
            "2639 3 Dress 4 Coat\n",
            "2645 7 Sneaker 5 Sandal\n",
            "2652 0 T-shirt/top 6 Shirt\n",
            "2653 0 T-shirt/top 6 Shirt\n",
            "2659 8 Bag 6 Shirt\n",
            "2661 6 Shirt 2 Pullover\n",
            "2670 6 Shirt 2 Pullover\n",
            "2671 4 Coat 2 Pullover\n",
            "2685 3 Dress 2 Pullover\n",
            "2688 3 Dress 0 T-shirt/top\n",
            "2695 3 Dress 6 Shirt\n",
            "2698 4 Coat 3 Dress\n",
            "2700 7 Sneaker 5 Sandal\n",
            "2717 0 T-shirt/top 2 Pullover\n",
            "2721 3 Dress 2 Pullover\n",
            "2733 2 Pullover 6 Shirt\n",
            "2734 4 Coat 2 Pullover\n",
            "2752 6 Shirt 2 Pullover\n",
            "2757 6 Shirt 2 Pullover\n",
            "2776 4 Coat 2 Pullover\n",
            "2779 4 Coat 3 Dress\n",
            "2814 3 Dress 2 Pullover\n",
            "2817 3 Dress 5 Sandal\n",
            "2832 0 T-shirt/top 6 Shirt\n",
            "2839 6 Shirt 0 T-shirt/top\n",
            "2840 6 Shirt 0 T-shirt/top\n",
            "2842 6 Shirt 8 Bag\n",
            "2843 6 Shirt 2 Pullover\n",
            "2856 6 Shirt 0 T-shirt/top\n",
            "2865 6 Shirt 4 Coat\n",
            "2870 6 Shirt 2 Pullover\n",
            "2878 0 T-shirt/top 6 Shirt\n",
            "2882 6 Shirt 2 Pullover\n",
            "2883 7 Sneaker 5 Sandal\n",
            "2884 4 Coat 2 Pullover\n",
            "2894 2 Pullover 4 Coat\n",
            "2897 0 T-shirt/top 8 Bag\n",
            "2898 3 Dress 4 Coat\n",
            "2900 3 Dress 1 Trouser\n",
            "2904 2 Pullover 6 Shirt\n",
            "2905 8 Bag 3 Dress\n",
            "2909 0 T-shirt/top 6 Shirt\n",
            "2910 6 Shirt 8 Bag\n",
            "2914 7 Sneaker 9 Ankle Boot\n",
            "2918 3 Dress 2 Pullover\n",
            "2919 4 Coat 6 Shirt\n",
            "2920 2 Pullover 4 Coat\n",
            "2926 2 Pullover 4 Coat\n",
            "2935 9 Ankle Boot 7 Sneaker\n",
            "2940 6 Shirt 3 Dress\n",
            "2942 6 Shirt 2 Pullover\n",
            "2951 1 Trouser 3 Dress\n",
            "2956 2 Pullover 6 Shirt\n",
            "2965 7 Sneaker 9 Ankle Boot\n",
            "2967 4 Coat 2 Pullover\n",
            "2973 3 Dress 6 Shirt\n",
            "2979 6 Shirt 2 Pullover\n",
            "2985 6 Shirt 2 Pullover\n",
            "2997 0 T-shirt/top 3 Dress\n",
            "2998 6 Shirt 4 Coat\n",
            "2999 2 Pullover 6 Shirt\n",
            "3004 7 Sneaker 5 Sandal\n",
            "3007 3 Dress 0 T-shirt/top\n",
            "3008 8 Bag 3 Dress\n",
            "3015 9 Ankle Boot 7 Sneaker\n",
            "3019 3 Dress 6 Shirt\n",
            "3036 6 Shirt 2 Pullover\n",
            "3038 0 T-shirt/top 2 Pullover\n",
            "3040 2 Pullover 6 Shirt\n",
            "3045 6 Shirt 3 Dress\n",
            "3051 3 Dress 0 T-shirt/top\n",
            "3052 1 Trouser 2 Pullover\n",
            "3070 9 Ankle Boot 0 T-shirt/top\n",
            "3071 5 Sandal 9 Ankle Boot\n",
            "3074 0 T-shirt/top 6 Shirt\n",
            "3080 6 Shirt 0 T-shirt/top\n",
            "3081 4 Coat 2 Pullover\n",
            "3083 4 Coat 2 Pullover\n",
            "3084 4 Coat 3 Dress\n",
            "3087 9 Ankle Boot 7 Sneaker\n",
            "3106 3 Dress 4 Coat\n",
            "3109 8 Bag 5 Sandal\n",
            "3116 6 Shirt 2 Pullover\n",
            "3123 7 Sneaker 5 Sandal\n",
            "3132 0 T-shirt/top 4 Coat\n",
            "3138 3 Dress 8 Bag\n",
            "3140 3 Dress 0 T-shirt/top\n",
            "3165 6 Shirt 2 Pullover\n",
            "3174 6 Shirt 2 Pullover\n",
            "3176 4 Coat 2 Pullover\n",
            "3188 6 Shirt 2 Pullover\n",
            "3195 4 Coat 1 Trouser\n",
            "3198 6 Shirt 2 Pullover\n",
            "3201 0 T-shirt/top 3 Dress\n",
            "3205 0 T-shirt/top 3 Dress\n",
            "3209 3 Dress 0 T-shirt/top\n",
            "3215 5 Sandal 7 Sneaker\n",
            "3220 4 Coat 3 Dress\n",
            "3229 4 Coat 6 Shirt\n",
            "3230 6 Shirt 0 T-shirt/top\n",
            "3232 6 Shirt 0 T-shirt/top\n",
            "3234 7 Sneaker 5 Sandal\n",
            "3236 0 T-shirt/top 8 Bag\n",
            "3240 2 Pullover 6 Shirt\n",
            "3244 0 T-shirt/top 6 Shirt\n",
            "3255 2 Pullover 3 Dress\n",
            "3258 2 Pullover 3 Dress\n",
            "3262 6 Shirt 4 Coat\n",
            "3265 3 Dress 1 Trouser\n",
            "3269 4 Coat 2 Pullover\n",
            "3282 8 Bag 6 Shirt\n",
            "3290 4 Coat 2 Pullover\n",
            "3297 2 Pullover 4 Coat\n",
            "3301 2 Pullover 6 Shirt\n",
            "3313 3 Dress 6 Shirt\n",
            "3323 6 Shirt 0 T-shirt/top\n",
            "3327 6 Shirt 3 Dress\n",
            "3332 0 T-shirt/top 6 Shirt\n",
            "3334 6 Shirt 3 Dress\n",
            "3338 6 Shirt 4 Coat\n",
            "3342 0 T-shirt/top 2 Pullover\n",
            "3351 7 Sneaker 9 Ankle Boot\n",
            "3360 1 Trouser 3 Dress\n",
            "3370 2 Pullover 4 Coat\n",
            "3372 6 Shirt 4 Coat\n",
            "3416 6 Shirt 0 T-shirt/top\n",
            "3429 6 Shirt 0 T-shirt/top\n",
            "3442 7 Sneaker 9 Ankle Boot\n",
            "3451 0 T-shirt/top 6 Shirt\n",
            "3457 2 Pullover 4 Coat\n",
            "3466 0 T-shirt/top 9 Ankle Boot\n",
            "3468 8 Bag 7 Sneaker\n",
            "3479 4 Coat 2 Pullover\n",
            "3481 6 Shirt 3 Dress\n",
            "3484 0 T-shirt/top 2 Pullover\n",
            "3489 2 Pullover 3 Dress\n",
            "3491 6 Shirt 2 Pullover\n",
            "3496 2 Pullover 4 Coat\n",
            "3499 3 Dress 4 Coat\n",
            "3509 4 Coat 2 Pullover\n",
            "3531 0 T-shirt/top 3 Dress\n",
            "3532 2 Pullover 4 Coat\n",
            "3533 3 Dress 0 T-shirt/top\n",
            "3534 2 Pullover 4 Coat\n",
            "3540 0 T-shirt/top 6 Shirt\n",
            "3545 6 Shirt 2 Pullover\n",
            "3553 2 Pullover 0 T-shirt/top\n",
            "3554 2 Pullover 4 Coat\n",
            "3560 7 Sneaker 5 Sandal\n",
            "3568 4 Coat 2 Pullover\n",
            "3575 0 T-shirt/top 6 Shirt\n",
            "3588 6 Shirt 2 Pullover\n",
            "3608 8 Bag 2 Pullover\n",
            "3609 0 T-shirt/top 2 Pullover\n",
            "3625 6 Shirt 0 T-shirt/top\n",
            "3663 6 Shirt 8 Bag\n",
            "3669 6 Shirt 4 Coat\n",
            "3673 2 Pullover 0 T-shirt/top\n",
            "3680 8 Bag 3 Dress\n",
            "3690 5 Sandal 7 Sneaker\n",
            "3700 6 Shirt 0 T-shirt/top\n",
            "3706 3 Dress 2 Pullover\n",
            "3730 4 Coat 3 Dress\n",
            "3731 4 Coat 2 Pullover\n",
            "3733 7 Sneaker 5 Sandal\n",
            "3765 8 Bag 2 Pullover\n",
            "3767 4 Coat 2 Pullover\n",
            "3779 3 Dress 0 T-shirt/top\n",
            "3780 2 Pullover 6 Shirt\n",
            "3787 6 Shirt 2 Pullover\n",
            "3800 6 Shirt 2 Pullover\n",
            "3804 4 Coat 3 Dress\n",
            "3805 3 Dress 0 T-shirt/top\n",
            "3811 4 Coat 3 Dress\n",
            "3816 2 Pullover 4 Coat\n",
            "3826 1 Trouser 2 Pullover\n",
            "3829 6 Shirt 1 Trouser\n",
            "3830 6 Shirt 3 Dress\n",
            "3861 6 Shirt 4 Coat\n",
            "3864 6 Shirt 2 Pullover\n",
            "3866 5 Sandal 9 Ankle Boot\n",
            "3871 2 Pullover 4 Coat\n",
            "3876 6 Shirt 2 Pullover\n",
            "3880 2 Pullover 3 Dress\n",
            "3884 6 Shirt 8 Bag\n",
            "3892 4 Coat 2 Pullover\n",
            "3896 9 Ankle Boot 7 Sneaker\n",
            "3909 9 Ankle Boot 7 Sneaker\n",
            "3919 0 T-shirt/top 8 Bag\n",
            "3926 6 Shirt 4 Coat\n",
            "3929 1 Trouser 2 Pullover\n",
            "3936 3 Dress 0 T-shirt/top\n",
            "3937 2 Pullover 4 Coat\n",
            "3938 0 T-shirt/top 6 Shirt\n",
            "3940 3 Dress 4 Coat\n",
            "3953 0 T-shirt/top 2 Pullover\n",
            "3955 3 Dress 2 Pullover\n",
            "3968 9 Ankle Boot 7 Sneaker\n",
            "3970 2 Pullover 6 Shirt\n",
            "3974 1 Trouser 3 Dress\n",
            "3987 6 Shirt 4 Coat\n",
            "3988 8 Bag 4 Coat\n",
            "3999 9 Ankle Boot 5 Sandal\n",
            "4005 3 Dress 0 T-shirt/top\n",
            "4010 7 Sneaker 5 Sandal\n",
            "4012 4 Coat 2 Pullover\n",
            "4018 0 T-shirt/top 2 Pullover\n",
            "4019 6 Shirt 0 T-shirt/top\n",
            "4021 2 Pullover 4 Coat\n",
            "4037 2 Pullover 4 Coat\n",
            "4040 5 Sandal 7 Sneaker\n",
            "4041 2 Pullover 3 Dress\n",
            "4056 3 Dress 4 Coat\n",
            "4058 7 Sneaker 5 Sandal\n",
            "4061 4 Coat 6 Shirt\n",
            "4071 8 Bag 2 Pullover\n",
            "4079 6 Shirt 4 Coat\n",
            "4084 3 Dress 6 Shirt\n",
            "4088 6 Shirt 2 Pullover\n",
            "4106 6 Shirt 4 Coat\n",
            "4109 6 Shirt 0 T-shirt/top\n",
            "4124 2 Pullover 4 Coat\n",
            "4127 6 Shirt 0 T-shirt/top\n",
            "4132 9 Ankle Boot 5 Sandal\n",
            "4138 2 Pullover 6 Shirt\n",
            "4140 6 Shirt 0 T-shirt/top\n",
            "4142 6 Shirt 3 Dress\n",
            "4143 0 T-shirt/top 6 Shirt\n",
            "4148 3 Dress 8 Bag\n",
            "4152 6 Shirt 2 Pullover\n",
            "4153 6 Shirt 0 T-shirt/top\n",
            "4159 2 Pullover 0 T-shirt/top\n",
            "4160 2 Pullover 4 Coat\n",
            "4169 6 Shirt 0 T-shirt/top\n",
            "4173 4 Coat 6 Shirt\n",
            "4192 6 Shirt 0 T-shirt/top\n",
            "4194 6 Shirt 0 T-shirt/top\n",
            "4213 0 T-shirt/top 6 Shirt\n",
            "4224 0 T-shirt/top 6 Shirt\n",
            "4231 6 Shirt 0 T-shirt/top\n",
            "4233 4 Coat 2 Pullover\n",
            "4234 2 Pullover 3 Dress\n",
            "4250 6 Shirt 0 T-shirt/top\n",
            "4251 4 Coat 6 Shirt\n",
            "4267 6 Shirt 2 Pullover\n",
            "4271 6 Shirt 0 T-shirt/top\n",
            "4272 4 Coat 6 Shirt\n",
            "4274 8 Bag 6 Shirt\n",
            "4280 6 Shirt 0 T-shirt/top\n",
            "4286 2 Pullover 4 Coat\n",
            "4299 6 Shirt 2 Pullover\n",
            "4300 2 Pullover 6 Shirt\n",
            "4307 4 Coat 3 Dress\n",
            "4317 4 Coat 2 Pullover\n",
            "4329 6 Shirt 2 Pullover\n",
            "4333 4 Coat 2 Pullover\n",
            "4362 5 Sandal 8 Bag\n",
            "4363 2 Pullover 4 Coat\n",
            "4381 0 T-shirt/top 6 Shirt\n",
            "4389 4 Coat 2 Pullover\n",
            "4391 9 Ankle Boot 5 Sandal\n",
            "4394 3 Dress 8 Bag\n",
            "4399 6 Shirt 2 Pullover\n",
            "4404 9 Ankle Boot 7 Sneaker\n",
            "4405 5 Sandal 7 Sneaker\n",
            "4416 6 Shirt 4 Coat\n",
            "4417 4 Coat 6 Shirt\n",
            "4420 6 Shirt 2 Pullover\n",
            "4451 6 Shirt 0 T-shirt/top\n",
            "4471 4 Coat 2 Pullover\n",
            "4484 4 Coat 3 Dress\n",
            "4495 2 Pullover 6 Shirt\n",
            "4497 9 Ankle Boot 5 Sandal\n",
            "4501 4 Coat 6 Shirt\n",
            "4507 9 Ankle Boot 7 Sneaker\n",
            "4509 6 Shirt 3 Dress\n",
            "4526 4 Coat 6 Shirt\n",
            "4539 0 T-shirt/top 6 Shirt\n",
            "4542 6 Shirt 2 Pullover\n",
            "4559 4 Coat 2 Pullover\n",
            "4568 9 Ankle Boot 7 Sneaker\n",
            "4569 6 Shirt 3 Dress\n",
            "4584 9 Ankle Boot 7 Sneaker\n",
            "4608 4 Coat 6 Shirt\n",
            "4615 9 Ankle Boot 5 Sandal\n",
            "4629 2 Pullover 4 Coat\n",
            "4639 4 Coat 3 Dress\n",
            "4641 4 Coat 2 Pullover\n",
            "4646 4 Coat 2 Pullover\n",
            "4649 2 Pullover 4 Coat\n",
            "4650 2 Pullover 6 Shirt\n",
            "4652 4 Coat 2 Pullover\n",
            "4658 0 T-shirt/top 3 Dress\n",
            "4664 3 Dress 6 Shirt\n",
            "4668 4 Coat 2 Pullover\n",
            "4672 6 Shirt 3 Dress\n",
            "4674 2 Pullover 6 Shirt\n",
            "4685 2 Pullover 6 Shirt\n",
            "4686 9 Ankle Boot 5 Sandal\n",
            "4692 6 Shirt 0 T-shirt/top\n",
            "4693 7 Sneaker 5 Sandal\n",
            "4694 2 Pullover 4 Coat\n",
            "4705 0 T-shirt/top 6 Shirt\n",
            "4708 8 Bag 6 Shirt\n",
            "4711 0 T-shirt/top 3 Dress\n",
            "4727 6 Shirt 0 T-shirt/top\n",
            "4733 3 Dress 0 T-shirt/top\n",
            "4738 2 Pullover 4 Coat\n",
            "4742 5 Sandal 9 Ankle Boot\n",
            "4743 9 Ankle Boot 5 Sandal\n",
            "4751 3 Dress 4 Coat\n",
            "4756 4 Coat 2 Pullover\n",
            "4764 3 Dress 6 Shirt\n",
            "4775 4 Coat 6 Shirt\n",
            "4777 2 Pullover 6 Shirt\n",
            "4796 4 Coat 2 Pullover\n",
            "4803 6 Shirt 0 T-shirt/top\n",
            "4817 6 Shirt 4 Coat\n",
            "4823 2 Pullover 4 Coat\n",
            "4826 2 Pullover 6 Shirt\n",
            "4828 2 Pullover 4 Coat\n",
            "4829 8 Bag 7 Sneaker\n",
            "4842 6 Shirt 0 T-shirt/top\n",
            "4846 2 Pullover 4 Coat\n",
            "4847 2 Pullover 6 Shirt\n",
            "4850 9 Ankle Boot 7 Sneaker\n",
            "4852 3 Dress 6 Shirt\n",
            "4859 7 Sneaker 5 Sandal\n",
            "4874 6 Shirt 2 Pullover\n",
            "4878 2 Pullover 4 Coat\n",
            "4880 4 Coat 2 Pullover\n",
            "4886 6 Shirt 3 Dress\n",
            "4893 6 Shirt 0 T-shirt/top\n",
            "4896 6 Shirt 0 T-shirt/top\n",
            "4897 0 T-shirt/top 6 Shirt\n",
            "4917 0 T-shirt/top 6 Shirt\n",
            "4922 4 Coat 3 Dress\n",
            "4934 3 Dress 2 Pullover\n",
            "4965 0 T-shirt/top 6 Shirt\n",
            "4979 6 Shirt 4 Coat\n",
            "4981 3 Dress 6 Shirt\n",
            "4995 4 Coat 2 Pullover\n",
            "4996 5 Sandal 7 Sneaker\n",
            "5004 6 Shirt 4 Coat\n",
            "5006 6 Shirt 3 Dress\n",
            "5009 9 Ankle Boot 7 Sneaker\n",
            "5015 2 Pullover 4 Coat\n",
            "5023 0 T-shirt/top 6 Shirt\n",
            "5025 3 Dress 1 Trouser\n",
            "5028 0 T-shirt/top 6 Shirt\n",
            "5030 0 T-shirt/top 8 Bag\n",
            "5032 0 T-shirt/top 6 Shirt\n",
            "5036 4 Coat 3 Dress\n",
            "5037 3 Dress 2 Pullover\n",
            "5039 5 Sandal 7 Sneaker\n",
            "5040 6 Shirt 2 Pullover\n",
            "5046 4 Coat 2 Pullover\n",
            "5052 6 Shirt 4 Coat\n",
            "5065 6 Shirt 8 Bag\n",
            "5066 4 Coat 2 Pullover\n",
            "5069 9 Ankle Boot 7 Sneaker\n",
            "5077 9 Ankle Boot 7 Sneaker\n",
            "5082 5 Sandal 9 Ankle Boot\n",
            "5088 6 Shirt 0 T-shirt/top\n",
            "5095 3 Dress 1 Trouser\n",
            "5096 6 Shirt 4 Coat\n",
            "5119 0 T-shirt/top 6 Shirt\n",
            "5121 3 Dress 6 Shirt\n",
            "5123 6 Shirt 8 Bag\n",
            "5125 2 Pullover 4 Coat\n",
            "5133 4 Coat 6 Shirt\n",
            "5142 7 Sneaker 5 Sandal\n",
            "5144 0 T-shirt/top 6 Shirt\n",
            "5148 8 Bag 6 Shirt\n",
            "5155 6 Shirt 2 Pullover\n",
            "5161 6 Shirt 4 Coat\n",
            "5164 9 Ankle Boot 7 Sneaker\n",
            "5167 4 Coat 2 Pullover\n",
            "5168 6 Shirt 4 Coat\n",
            "5184 6 Shirt 2 Pullover\n",
            "5186 6 Shirt 0 T-shirt/top\n",
            "5197 6 Shirt 8 Bag\n",
            "5204 3 Dress 6 Shirt\n",
            "5210 7 Sneaker 5 Sandal\n",
            "5222 4 Coat 2 Pullover\n",
            "5228 6 Shirt 2 Pullover\n",
            "5248 6 Shirt 3 Dress\n",
            "5249 6 Shirt 3 Dress\n",
            "5251 3 Dress 1 Trouser\n",
            "5255 4 Coat 2 Pullover\n",
            "5257 3 Dress 4 Coat\n",
            "5266 6 Shirt 0 T-shirt/top\n",
            "5270 3 Dress 6 Shirt\n",
            "5297 0 T-shirt/top 6 Shirt\n",
            "5304 4 Coat 2 Pullover\n",
            "5307 0 T-shirt/top 6 Shirt\n",
            "5310 4 Coat 6 Shirt\n",
            "5316 7 Sneaker 9 Ankle Boot\n",
            "5327 1 Trouser 3 Dress\n",
            "5332 7 Sneaker 5 Sandal\n",
            "5334 0 T-shirt/top 3 Dress\n",
            "5336 4 Coat 2 Pullover\n",
            "5349 0 T-shirt/top 6 Shirt\n",
            "5363 2 Pullover 4 Coat\n",
            "5378 6 Shirt 2 Pullover\n",
            "5381 4 Coat 2 Pullover\n",
            "5382 4 Coat 6 Shirt\n",
            "5395 8 Bag 6 Shirt\n",
            "5397 4 Coat 2 Pullover\n",
            "5415 4 Coat 2 Pullover\n",
            "5424 6 Shirt 3 Dress\n",
            "5429 4 Coat 2 Pullover\n",
            "5435 0 T-shirt/top 6 Shirt\n",
            "5441 4 Coat 2 Pullover\n",
            "5442 6 Shirt 0 T-shirt/top\n",
            "5452 6 Shirt 2 Pullover\n",
            "5464 4 Coat 2 Pullover\n",
            "5468 2 Pullover 6 Shirt\n",
            "5470 8 Bag 4 Coat\n",
            "5471 2 Pullover 6 Shirt\n",
            "5474 2 Pullover 4 Coat\n",
            "5476 9 Ankle Boot 7 Sneaker\n",
            "5488 3 Dress 0 T-shirt/top\n",
            "5497 6 Shirt 2 Pullover\n",
            "5504 6 Shirt 0 T-shirt/top\n",
            "5511 4 Coat 2 Pullover\n",
            "5520 7 Sneaker 9 Ankle Boot\n",
            "5521 6 Shirt 2 Pullover\n",
            "5522 6 Shirt 0 T-shirt/top\n",
            "5525 9 Ankle Boot 7 Sneaker\n",
            "5530 6 Shirt 2 Pullover\n",
            "5533 1 Trouser 3 Dress\n",
            "5546 4 Coat 2 Pullover\n",
            "5561 5 Sandal 3 Dress\n",
            "5563 5 Sandal 7 Sneaker\n",
            "5568 2 Pullover 4 Coat\n",
            "5569 6 Shirt 3 Dress\n",
            "5575 3 Dress 4 Coat\n",
            "5576 3 Dress 4 Coat\n",
            "5589 6 Shirt 2 Pullover\n",
            "5592 3 Dress 6 Shirt\n",
            "5594 6 Shirt 2 Pullover\n",
            "5596 6 Shirt 4 Coat\n",
            "5597 1 Trouser 4 Coat\n",
            "5601 0 T-shirt/top 6 Shirt\n",
            "5605 4 Coat 6 Shirt\n",
            "5623 6 Shirt 2 Pullover\n",
            "5628 4 Coat 2 Pullover\n",
            "5634 6 Shirt 0 T-shirt/top\n",
            "5648 6 Shirt 2 Pullover\n",
            "5654 6 Shirt 0 T-shirt/top\n",
            "5672 0 T-shirt/top 6 Shirt\n",
            "5679 6 Shirt 2 Pullover\n",
            "5683 6 Shirt 0 T-shirt/top\n",
            "5689 5 Sandal 7 Sneaker\n",
            "5690 3 Dress 1 Trouser\n",
            "5695 6 Shirt 0 T-shirt/top\n",
            "5701 2 Pullover 0 T-shirt/top\n",
            "5710 2 Pullover 6 Shirt\n",
            "5714 2 Pullover 4 Coat\n",
            "5718 0 T-shirt/top 2 Pullover\n",
            "5719 2 Pullover 6 Shirt\n",
            "5721 4 Coat 6 Shirt\n",
            "5734 2 Pullover 6 Shirt\n",
            "5739 0 T-shirt/top 3 Dress\n",
            "5746 1 Trouser 3 Dress\n",
            "5752 2 Pullover 4 Coat\n",
            "5761 1 Trouser 3 Dress\n",
            "5762 4 Coat 2 Pullover\n",
            "5763 3 Dress 1 Trouser\n",
            "5795 6 Shirt 4 Coat\n",
            "5804 2 Pullover 4 Coat\n",
            "5806 6 Shirt 0 T-shirt/top\n",
            "5808 0 T-shirt/top 6 Shirt\n",
            "5820 2 Pullover 6 Shirt\n",
            "5826 6 Shirt 4 Coat\n",
            "5828 6 Shirt 0 T-shirt/top\n",
            "5840 3 Dress 0 T-shirt/top\n",
            "5849 4 Coat 2 Pullover\n",
            "5853 2 Pullover 6 Shirt\n",
            "5881 4 Coat 2 Pullover\n",
            "5904 8 Bag 6 Shirt\n",
            "5919 4 Coat 2 Pullover\n",
            "5938 9 Ankle Boot 7 Sneaker\n",
            "5946 9 Ankle Boot 5 Sandal\n",
            "5956 2 Pullover 4 Coat\n",
            "5966 0 T-shirt/top 6 Shirt\n",
            "5967 3 Dress 4 Coat\n",
            "5968 0 T-shirt/top 3 Dress\n",
            "5971 3 Dress 4 Coat\n",
            "5977 6 Shirt 0 T-shirt/top\n",
            "5987 6 Shirt 3 Dress\n",
            "5993 4 Coat 8 Bag\n",
            "6002 6 Shirt 4 Coat\n",
            "6006 4 Coat 6 Shirt\n",
            "6008 6 Shirt 0 T-shirt/top\n",
            "6012 3 Dress 4 Coat\n",
            "6020 6 Shirt 0 T-shirt/top\n",
            "6023 6 Shirt 0 T-shirt/top\n",
            "6024 6 Shirt 0 T-shirt/top\n",
            "6032 2 Pullover 4 Coat\n",
            "6061 5 Sandal 9 Ankle Boot\n",
            "6065 0 T-shirt/top 3 Dress\n",
            "6083 2 Pullover 4 Coat\n",
            "6094 0 T-shirt/top 6 Shirt\n",
            "6096 6 Shirt 2 Pullover\n",
            "6099 2 Pullover 0 T-shirt/top\n",
            "6103 4 Coat 6 Shirt\n",
            "6106 9 Ankle Boot 7 Sneaker\n",
            "6117 1 Trouser 3 Dress\n",
            "6127 6 Shirt 2 Pullover\n",
            "6132 3 Dress 2 Pullover\n",
            "6138 5 Sandal 7 Sneaker\n",
            "6147 5 Sandal 7 Sneaker\n",
            "6160 6 Shirt 4 Coat\n",
            "6162 4 Coat 6 Shirt\n",
            "6168 5 Sandal 7 Sneaker\n",
            "6175 4 Coat 2 Pullover\n",
            "6184 2 Pullover 4 Coat\n",
            "6201 2 Pullover 6 Shirt\n",
            "6207 3 Dress 4 Coat\n",
            "6234 4 Coat 6 Shirt\n",
            "6240 0 T-shirt/top 6 Shirt\n",
            "6241 4 Coat 2 Pullover\n",
            "6242 4 Coat 3 Dress\n",
            "6243 2 Pullover 4 Coat\n",
            "6248 6 Shirt 3 Dress\n",
            "6254 6 Shirt 4 Coat\n",
            "6258 6 Shirt 0 T-shirt/top\n",
            "6270 4 Coat 2 Pullover\n",
            "6285 2 Pullover 4 Coat\n",
            "6294 4 Coat 6 Shirt\n",
            "6297 4 Coat 2 Pullover\n",
            "6314 8 Bag 3 Dress\n",
            "6329 6 Shirt 2 Pullover\n",
            "6331 1 Trouser 8 Bag\n",
            "6344 6 Shirt 0 T-shirt/top\n",
            "6358 5 Sandal 9 Ankle Boot\n",
            "6360 4 Coat 6 Shirt\n",
            "6363 6 Shirt 2 Pullover\n",
            "6365 0 T-shirt/top 2 Pullover\n",
            "6367 5 Sandal 7 Sneaker\n",
            "6368 6 Shirt 2 Pullover\n",
            "6381 4 Coat 6 Shirt\n",
            "6384 6 Shirt 2 Pullover\n",
            "6395 4 Coat 2 Pullover\n",
            "6400 4 Coat 2 Pullover\n",
            "6402 4 Coat 2 Pullover\n",
            "6404 2 Pullover 6 Shirt\n",
            "6420 4 Coat 3 Dress\n",
            "6433 3 Dress 6 Shirt\n",
            "6437 6 Shirt 2 Pullover\n",
            "6439 2 Pullover 6 Shirt\n",
            "6452 6 Shirt 4 Coat\n",
            "6453 3 Dress 8 Bag\n",
            "6464 4 Coat 3 Dress\n",
            "6472 7 Sneaker 5 Sandal\n",
            "6475 7 Sneaker 5 Sandal\n",
            "6478 4 Coat 6 Shirt\n",
            "6485 0 T-shirt/top 4 Coat\n",
            "6488 9 Ankle Boot 7 Sneaker\n",
            "6491 3 Dress 6 Shirt\n",
            "6500 4 Coat 2 Pullover\n",
            "6504 5 Sandal 7 Sneaker\n",
            "6511 2 Pullover 4 Coat\n",
            "6513 4 Coat 2 Pullover\n",
            "6524 2 Pullover 4 Coat\n",
            "6531 6 Shirt 4 Coat\n",
            "6539 6 Shirt 4 Coat\n",
            "6547 4 Coat 6 Shirt\n",
            "6558 6 Shirt 0 T-shirt/top\n",
            "6559 4 Coat 2 Pullover\n",
            "6565 8 Bag 7 Sneaker\n",
            "6575 6 Shirt 2 Pullover\n",
            "6578 6 Shirt 2 Pullover\n",
            "6584 3 Dress 4 Coat\n",
            "6596 6 Shirt 8 Bag\n",
            "6614 3 Dress 6 Shirt\n",
            "6626 6 Shirt 4 Coat\n",
            "6634 5 Sandal 7 Sneaker\n",
            "6648 6 Shirt 2 Pullover\n",
            "6649 0 T-shirt/top 3 Dress\n",
            "6655 6 Shirt 0 T-shirt/top\n",
            "6656 1 Trouser 3 Dress\n",
            "6658 6 Shirt 2 Pullover\n",
            "6664 6 Shirt 0 T-shirt/top\n",
            "6679 0 T-shirt/top 6 Shirt\n",
            "6688 0 T-shirt/top 6 Shirt\n",
            "6689 3 Dress 4 Coat\n",
            "6701 7 Sneaker 9 Ankle Boot\n",
            "6709 4 Coat 2 Pullover\n",
            "6715 4 Coat 2 Pullover\n",
            "6721 2 Pullover 6 Shirt\n",
            "6727 5 Sandal 7 Sneaker\n",
            "6733 9 Ankle Boot 7 Sneaker\n",
            "6758 0 T-shirt/top 6 Shirt\n",
            "6770 6 Shirt 0 T-shirt/top\n",
            "6797 6 Shirt 3 Dress\n",
            "6799 9 Ankle Boot 7 Sneaker\n",
            "6801 4 Coat 6 Shirt\n",
            "6809 6 Shirt 2 Pullover\n",
            "6826 2 Pullover 6 Shirt\n",
            "6829 4 Coat 6 Shirt\n",
            "6844 6 Shirt 2 Pullover\n",
            "6846 0 T-shirt/top 6 Shirt\n",
            "6855 4 Coat 2 Pullover\n",
            "6859 4 Coat 2 Pullover\n",
            "6861 6 Shirt 2 Pullover\n",
            "6874 2 Pullover 3 Dress\n",
            "6881 2 Pullover 6 Shirt\n",
            "6897 5 Sandal 9 Ankle Boot\n",
            "6899 4 Coat 6 Shirt\n",
            "6908 4 Coat 6 Shirt\n",
            "6921 2 Pullover 4 Coat\n",
            "6926 0 T-shirt/top 6 Shirt\n",
            "6928 6 Shirt 4 Coat\n",
            "6942 2 Pullover 5 Sandal\n",
            "6957 6 Shirt 0 T-shirt/top\n",
            "6958 6 Shirt 0 T-shirt/top\n",
            "6961 7 Sneaker 5 Sandal\n",
            "6964 2 Pullover 4 Coat\n",
            "6984 9 Ankle Boot 7 Sneaker\n",
            "6994 4 Coat 2 Pullover\n",
            "6997 3 Dress 0 T-shirt/top\n",
            "7002 3 Dress 4 Coat\n",
            "7004 6 Shirt 4 Coat\n",
            "7013 2 Pullover 4 Coat\n",
            "7025 6 Shirt 0 T-shirt/top\n",
            "7026 6 Shirt 2 Pullover\n",
            "7028 9 Ankle Boot 7 Sneaker\n",
            "7036 1 Trouser 3 Dress\n",
            "7042 6 Shirt 2 Pullover\n",
            "7049 2 Pullover 4 Coat\n",
            "7062 9 Ankle Boot 5 Sandal\n",
            "7068 4 Coat 2 Pullover\n",
            "7071 2 Pullover 4 Coat\n",
            "7078 9 Ankle Boot 7 Sneaker\n",
            "7088 3 Dress 2 Pullover\n",
            "7095 6 Shirt 2 Pullover\n",
            "7100 7 Sneaker 5 Sandal\n",
            "7103 0 T-shirt/top 2 Pullover\n",
            "7109 3 Dress 0 T-shirt/top\n",
            "7112 6 Shirt 0 T-shirt/top\n",
            "7114 6 Shirt 2 Pullover\n",
            "7125 9 Ankle Boot 7 Sneaker\n",
            "7130 6 Shirt 2 Pullover\n",
            "7137 0 T-shirt/top 6 Shirt\n",
            "7138 4 Coat 8 Bag\n",
            "7157 9 Ankle Boot 7 Sneaker\n",
            "7165 2 Pullover 4 Coat\n",
            "7167 6 Shirt 2 Pullover\n",
            "7177 2 Pullover 3 Dress\n",
            "7182 6 Shirt 0 T-shirt/top\n",
            "7188 6 Shirt 4 Coat\n",
            "7189 6 Shirt 0 T-shirt/top\n",
            "7195 6 Shirt 0 T-shirt/top\n",
            "7210 4 Coat 6 Shirt\n",
            "7211 4 Coat 6 Shirt\n",
            "7221 6 Shirt 2 Pullover\n",
            "7228 4 Coat 6 Shirt\n",
            "7233 4 Coat 6 Shirt\n",
            "7244 6 Shirt 0 T-shirt/top\n",
            "7249 0 T-shirt/top 2 Pullover\n",
            "7258 6 Shirt 4 Coat\n",
            "7262 6 Shirt 4 Coat\n",
            "7267 3 Dress 2 Pullover\n",
            "7278 4 Coat 2 Pullover\n",
            "7282 4 Coat 2 Pullover\n",
            "7288 2 Pullover 4 Coat\n",
            "7303 6 Shirt 2 Pullover\n",
            "7314 4 Coat 2 Pullover\n",
            "7332 3 Dress 1 Trouser\n",
            "7342 3 Dress 2 Pullover\n",
            "7343 6 Shirt 0 T-shirt/top\n",
            "7345 6 Shirt 2 Pullover\n",
            "7346 0 T-shirt/top 3 Dress\n",
            "7348 6 Shirt 2 Pullover\n",
            "7349 4 Coat 8 Bag\n",
            "7362 3 Dress 4 Coat\n",
            "7369 2 Pullover 0 T-shirt/top\n",
            "7382 3 Dress 1 Trouser\n",
            "7393 0 T-shirt/top 6 Shirt\n",
            "7416 6 Shirt 0 T-shirt/top\n",
            "7425 0 T-shirt/top 3 Dress\n",
            "7450 4 Coat 2 Pullover\n",
            "7495 6 Shirt 0 T-shirt/top\n",
            "7525 7 Sneaker 9 Ankle Boot\n",
            "7527 6 Shirt 4 Coat\n",
            "7545 4 Coat 6 Shirt\n",
            "7551 3 Dress 2 Pullover\n",
            "7555 1 Trouser 3 Dress\n",
            "7581 6 Shirt 0 T-shirt/top\n",
            "7583 3 Dress 0 T-shirt/top\n",
            "7587 3 Dress 6 Shirt\n",
            "7596 4 Coat 6 Shirt\n",
            "7599 0 T-shirt/top 6 Shirt\n",
            "7604 2 Pullover 6 Shirt\n",
            "7635 3 Dress 2 Pullover\n",
            "7638 3 Dress 2 Pullover\n",
            "7646 3 Dress 4 Coat\n",
            "7647 2 Pullover 6 Shirt\n",
            "7660 6 Shirt 0 T-shirt/top\n",
            "7664 7 Sneaker 5 Sandal\n",
            "7665 4 Coat 2 Pullover\n",
            "7673 7 Sneaker 9 Ankle Boot\n",
            "7679 3 Dress 4 Coat\n",
            "7683 4 Coat 2 Pullover\n",
            "7709 4 Coat 2 Pullover\n",
            "7711 6 Shirt 4 Coat\n",
            "7719 6 Shirt 0 T-shirt/top\n",
            "7723 4 Coat 2 Pullover\n",
            "7736 4 Coat 2 Pullover\n",
            "7778 6 Shirt 0 T-shirt/top\n",
            "7800 6 Shirt 0 T-shirt/top\n",
            "7803 0 T-shirt/top 6 Shirt\n",
            "7809 3 Dress 2 Pullover\n",
            "7818 0 T-shirt/top 2 Pullover\n",
            "7822 0 T-shirt/top 6 Shirt\n",
            "7827 3 Dress 1 Trouser\n",
            "7829 6 Shirt 0 T-shirt/top\n",
            "7831 0 T-shirt/top 6 Shirt\n",
            "7842 6 Shirt 2 Pullover\n",
            "7855 3 Dress 6 Shirt\n",
            "7863 6 Shirt 0 T-shirt/top\n",
            "7876 1 Trouser 4 Coat\n",
            "7881 6 Shirt 0 T-shirt/top\n",
            "7884 2 Pullover 4 Coat\n",
            "7899 0 T-shirt/top 8 Bag\n",
            "7906 6 Shirt 4 Coat\n",
            "7910 6 Shirt 0 T-shirt/top\n",
            "7915 4 Coat 3 Dress\n",
            "7921 1 Trouser 2 Pullover\n",
            "7924 6 Shirt 0 T-shirt/top\n",
            "7936 9 Ankle Boot 7 Sneaker\n",
            "7948 3 Dress 4 Coat\n",
            "7959 6 Shirt 0 T-shirt/top\n",
            "7971 6 Shirt 2 Pullover\n",
            "7981 0 T-shirt/top 3 Dress\n",
            "7983 9 Ankle Boot 7 Sneaker\n",
            "7985 4 Coat 2 Pullover\n",
            "7992 6 Shirt 4 Coat\n",
            "7998 2 Pullover 6 Shirt\n",
            "8001 2 Pullover 6 Shirt\n",
            "8005 6 Shirt 4 Coat\n",
            "8007 0 T-shirt/top 6 Shirt\n",
            "8031 0 T-shirt/top 6 Shirt\n",
            "8032 6 Shirt 2 Pullover\n",
            "8033 6 Shirt 0 T-shirt/top\n",
            "8035 6 Shirt 2 Pullover\n",
            "8054 3 Dress 6 Shirt\n",
            "8059 0 T-shirt/top 6 Shirt\n",
            "8065 2 Pullover 6 Shirt\n",
            "8066 4 Coat 6 Shirt\n",
            "8069 6 Shirt 0 T-shirt/top\n",
            "8074 1 Trouser 3 Dress\n",
            "8080 4 Coat 6 Shirt\n",
            "8085 4 Coat 2 Pullover\n",
            "8090 4 Coat 2 Pullover\n",
            "8121 4 Coat 6 Shirt\n",
            "8132 6 Shirt 2 Pullover\n",
            "8140 4 Coat 2 Pullover\n",
            "8147 9 Ankle Boot 5 Sandal\n",
            "8150 6 Shirt 0 T-shirt/top\n",
            "8154 4 Coat 2 Pullover\n",
            "8156 1 Trouser 2 Pullover\n",
            "8162 6 Shirt 0 T-shirt/top\n",
            "8179 6 Shirt 0 T-shirt/top\n",
            "8197 0 T-shirt/top 6 Shirt\n",
            "8202 6 Shirt 4 Coat\n",
            "8204 3 Dress 0 T-shirt/top\n",
            "8211 6 Shirt 8 Bag\n",
            "8217 6 Shirt 2 Pullover\n",
            "8227 3 Dress 6 Shirt\n",
            "8237 6 Shirt 0 T-shirt/top\n",
            "8239 4 Coat 2 Pullover\n",
            "8259 3 Dress 0 T-shirt/top\n",
            "8260 6 Shirt 4 Coat\n",
            "8275 6 Shirt 2 Pullover\n",
            "8287 8 Bag 2 Pullover\n",
            "8292 5 Sandal 7 Sneaker\n",
            "8293 6 Shirt 2 Pullover\n",
            "8300 4 Coat 6 Shirt\n",
            "8306 6 Shirt 0 T-shirt/top\n",
            "8324 0 T-shirt/top 2 Pullover\n",
            "8341 3 Dress 2 Pullover\n",
            "8348 0 T-shirt/top 6 Shirt\n",
            "8373 6 Shirt 2 Pullover\n",
            "8375 0 T-shirt/top 3 Dress\n",
            "8385 3 Dress 0 T-shirt/top\n",
            "8406 4 Coat 6 Shirt\n",
            "8417 2 Pullover 6 Shirt\n",
            "8425 0 T-shirt/top 6 Shirt\n",
            "8429 6 Shirt 0 T-shirt/top\n",
            "8436 2 Pullover 4 Coat\n",
            "8454 0 T-shirt/top 6 Shirt\n",
            "8463 5 Sandal 7 Sneaker\n",
            "8470 4 Coat 2 Pullover\n",
            "8471 0 T-shirt/top 3 Dress\n",
            "8476 4 Coat 2 Pullover\n",
            "8485 4 Coat 2 Pullover\n",
            "8505 7 Sneaker 9 Ankle Boot\n",
            "8512 4 Coat 6 Shirt\n",
            "8519 6 Shirt 2 Pullover\n",
            "8525 9 Ankle Boot 7 Sneaker\n",
            "8532 5 Sandal 7 Sneaker\n",
            "8536 4 Coat 2 Pullover\n",
            "8538 6 Shirt 0 T-shirt/top\n",
            "8548 4 Coat 2 Pullover\n",
            "8556 4 Coat 3 Dress\n",
            "8557 9 Ankle Boot 5 Sandal\n",
            "8567 6 Shirt 8 Bag\n",
            "8569 4 Coat 6 Shirt\n",
            "8580 4 Coat 2 Pullover\n",
            "8598 2 Pullover 0 T-shirt/top\n",
            "8607 9 Ankle Boot 7 Sneaker\n",
            "8610 1 Trouser 0 T-shirt/top\n",
            "8617 6 Shirt 0 T-shirt/top\n",
            "8618 2 Pullover 6 Shirt\n",
            "8621 4 Coat 1 Trouser\n",
            "8624 2 Pullover 0 T-shirt/top\n",
            "8633 6 Shirt 4 Coat\n",
            "8649 0 T-shirt/top 6 Shirt\n",
            "8658 6 Shirt 0 T-shirt/top\n",
            "8664 6 Shirt 0 T-shirt/top\n",
            "8669 2 Pullover 0 T-shirt/top\n",
            "8688 9 Ankle Boot 5 Sandal\n",
            "8695 0 T-shirt/top 6 Shirt\n",
            "8703 4 Coat 6 Shirt\n",
            "8705 6 Shirt 0 T-shirt/top\n",
            "8706 6 Shirt 2 Pullover\n",
            "8708 3 Dress 4 Coat\n",
            "8710 2 Pullover 4 Coat\n",
            "8714 7 Sneaker 5 Sandal\n",
            "8715 0 T-shirt/top 3 Dress\n",
            "8717 0 T-shirt/top 6 Shirt\n",
            "8718 2 Pullover 4 Coat\n",
            "8725 0 T-shirt/top 6 Shirt\n",
            "8728 6 Shirt 0 T-shirt/top\n",
            "8745 6 Shirt 0 T-shirt/top\n",
            "8748 6 Shirt 0 T-shirt/top\n",
            "8757 1 Trouser 0 T-shirt/top\n",
            "8758 2 Pullover 4 Coat\n",
            "8762 6 Shirt 3 Dress\n",
            "8763 0 T-shirt/top 8 Bag\n",
            "8764 3 Dress 6 Shirt\n",
            "8768 1 Trouser 6 Shirt\n",
            "8772 5 Sandal 9 Ankle Boot\n",
            "8774 2 Pullover 6 Shirt\n",
            "8784 6 Shirt 4 Coat\n",
            "8785 9 Ankle Boot 5 Sandal\n",
            "8799 4 Coat 2 Pullover\n",
            "8801 4 Coat 6 Shirt\n",
            "8806 3 Dress 0 T-shirt/top\n",
            "8814 4 Coat 6 Shirt\n",
            "8818 9 Ankle Boot 5 Sandal\n",
            "8827 4 Coat 3 Dress\n",
            "8832 0 T-shirt/top 6 Shirt\n",
            "8855 6 Shirt 2 Pullover\n",
            "8858 4 Coat 6 Shirt\n",
            "8869 6 Shirt 2 Pullover\n",
            "8877 2 Pullover 0 T-shirt/top\n",
            "8879 2 Pullover 6 Shirt\n",
            "8906 6 Shirt 0 T-shirt/top\n",
            "8910 5 Sandal 9 Ankle Boot\n",
            "8914 2 Pullover 0 T-shirt/top\n",
            "8919 0 T-shirt/top 2 Pullover\n",
            "8933 4 Coat 2 Pullover\n",
            "8939 6 Shirt 0 T-shirt/top\n",
            "8946 6 Shirt 4 Coat\n",
            "8949 0 T-shirt/top 8 Bag\n",
            "8950 2 Pullover 6 Shirt\n",
            "8952 9 Ankle Boot 7 Sneaker\n",
            "8958 4 Coat 2 Pullover\n",
            "8962 4 Coat 2 Pullover\n",
            "8969 4 Coat 2 Pullover\n",
            "8997 6 Shirt 0 T-shirt/top\n",
            "8999 0 T-shirt/top 6 Shirt\n",
            "9017 0 T-shirt/top 3 Dress\n",
            "9022 8 Bag 2 Pullover\n",
            "9025 6 Shirt 4 Coat\n",
            "9032 6 Shirt 2 Pullover\n",
            "9033 6 Shirt 2 Pullover\n",
            "9051 4 Coat 6 Shirt\n",
            "9057 6 Shirt 2 Pullover\n",
            "9059 3 Dress 1 Trouser\n",
            "9062 4 Coat 2 Pullover\n",
            "9067 2 Pullover 6 Shirt\n",
            "9069 6 Shirt 0 T-shirt/top\n",
            "9071 1 Trouser 0 T-shirt/top\n",
            "9073 5 Sandal 7 Sneaker\n",
            "9074 0 T-shirt/top 6 Shirt\n",
            "9091 6 Shirt 0 T-shirt/top\n",
            "9094 6 Shirt 2 Pullover\n",
            "9095 1 Trouser 3 Dress\n",
            "9114 0 T-shirt/top 6 Shirt\n",
            "9122 6 Shirt 0 T-shirt/top\n",
            "9125 7 Sneaker 5 Sandal\n",
            "9126 5 Sandal 7 Sneaker\n",
            "9133 6 Shirt 0 T-shirt/top\n",
            "9148 6 Shirt 2 Pullover\n",
            "9160 4 Coat 2 Pullover\n",
            "9165 3 Dress 0 T-shirt/top\n",
            "9177 4 Coat 8 Bag\n",
            "9179 3 Dress 1 Trouser\n",
            "9180 6 Shirt 0 T-shirt/top\n",
            "9183 6 Shirt 0 T-shirt/top\n",
            "9199 6 Shirt 2 Pullover\n",
            "9211 6 Shirt 3 Dress\n",
            "9218 6 Shirt 2 Pullover\n",
            "9222 6 Shirt 0 T-shirt/top\n",
            "9225 3 Dress 1 Trouser\n",
            "9227 6 Shirt 0 T-shirt/top\n",
            "9235 3 Dress 4 Coat\n",
            "9237 0 T-shirt/top 2 Pullover\n",
            "9244 1 Trouser 3 Dress\n",
            "9247 6 Shirt 2 Pullover\n",
            "9251 0 T-shirt/top 6 Shirt\n",
            "9256 2 Pullover 6 Shirt\n",
            "9261 6 Shirt 0 T-shirt/top\n",
            "9276 2 Pullover 4 Coat\n",
            "9291 0 T-shirt/top 6 Shirt\n",
            "9292 4 Coat 2 Pullover\n",
            "9297 6 Shirt 0 T-shirt/top\n",
            "9298 0 T-shirt/top 3 Dress\n",
            "9308 2 Pullover 6 Shirt\n",
            "9325 3 Dress 2 Pullover\n",
            "9344 4 Coat 2 Pullover\n",
            "9348 4 Coat 2 Pullover\n",
            "9349 0 T-shirt/top 2 Pullover\n",
            "9351 6 Shirt 0 T-shirt/top\n",
            "9362 2 Pullover 6 Shirt\n",
            "9364 6 Shirt 2 Pullover\n",
            "9373 5 Sandal 7 Sneaker\n",
            "9375 5 Sandal 7 Sneaker\n",
            "9398 0 T-shirt/top 6 Shirt\n",
            "9402 6 Shirt 2 Pullover\n",
            "9416 6 Shirt 2 Pullover\n",
            "9429 4 Coat 6 Shirt\n",
            "9445 6 Shirt 8 Bag\n",
            "9449 2 Pullover 4 Coat\n",
            "9450 1 Trouser 6 Shirt\n",
            "9480 2 Pullover 4 Coat\n",
            "9484 6 Shirt 2 Pullover\n",
            "9485 1 Trouser 2 Pullover\n",
            "9487 6 Shirt 4 Coat\n",
            "9496 4 Coat 6 Shirt\n",
            "9499 6 Shirt 2 Pullover\n",
            "9502 0 T-shirt/top 3 Dress\n",
            "9503 2 Pullover 4 Coat\n",
            "9512 6 Shirt 0 T-shirt/top\n",
            "9524 8 Bag 7 Sneaker\n",
            "9537 2 Pullover 4 Coat\n",
            "9548 1 Trouser 2 Pullover\n",
            "9552 7 Sneaker 5 Sandal\n",
            "9554 3 Dress 6 Shirt\n",
            "9573 6 Shirt 3 Dress\n",
            "9574 2 Pullover 6 Shirt\n",
            "9577 0 T-shirt/top 6 Shirt\n",
            "9580 6 Shirt 0 T-shirt/top\n",
            "9582 2 Pullover 4 Coat\n",
            "9590 8 Bag 2 Pullover\n",
            "9601 6 Shirt 3 Dress\n",
            "9602 6 Shirt 0 T-shirt/top\n",
            "9604 2 Pullover 6 Shirt\n",
            "9627 6 Shirt 2 Pullover\n",
            "9632 4 Coat 2 Pullover\n",
            "9644 6 Shirt 0 T-shirt/top\n",
            "9647 1 Trouser 4 Coat\n",
            "9662 0 T-shirt/top 6 Shirt\n",
            "9663 6 Shirt 0 T-shirt/top\n",
            "9666 1 Trouser 3 Dress\n",
            "9679 4 Coat 6 Shirt\n",
            "9684 6 Shirt 4 Coat\n",
            "9687 6 Shirt 2 Pullover\n",
            "9690 6 Shirt 2 Pullover\n",
            "9692 6 Shirt 0 T-shirt/top\n",
            "9701 4 Coat 6 Shirt\n",
            "9706 2 Pullover 4 Coat\n",
            "9714 6 Shirt 0 T-shirt/top\n",
            "9719 0 T-shirt/top 3 Dress\n",
            "9724 4 Coat 3 Dress\n",
            "9729 6 Shirt 0 T-shirt/top\n",
            "9743 2 Pullover 4 Coat\n",
            "9779 2 Pullover 6 Shirt\n",
            "9781 6 Shirt 0 T-shirt/top\n",
            "9791 0 T-shirt/top 8 Bag\n",
            "9794 1 Trouser 4 Coat\n",
            "9795 3 Dress 6 Shirt\n",
            "9804 7 Sneaker 5 Sandal\n",
            "9809 0 T-shirt/top 3 Dress\n",
            "9835 9 Ankle Boot 7 Sneaker\n",
            "9852 2 Pullover 6 Shirt\n",
            "9859 6 Shirt 8 Bag\n",
            "9868 6 Shirt 2 Pullover\n",
            "9880 0 T-shirt/top 3 Dress\n",
            "9884 0 T-shirt/top 6 Shirt\n",
            "9902 0 T-shirt/top 6 Shirt\n",
            "9904 6 Shirt 4 Coat\n",
            "9916 1 Trouser 2 Pullover\n",
            "9917 7 Sneaker 9 Ankle Boot\n",
            "9928 0 T-shirt/top 8 Bag\n",
            "9946 2 Pullover 8 Bag\n",
            "9947 6 Shirt 2 Pullover\n",
            "9949 5 Sandal 7 Sneaker\n",
            "9953 6 Shirt 2 Pullover\n",
            "9955 6 Shirt 0 T-shirt/top\n",
            "9957 6 Shirt 0 T-shirt/top\n",
            "9961 6 Shirt 2 Pullover\n",
            "9963 4 Coat 6 Shirt\n",
            "9972 2 Pullover 0 T-shirt/top\n",
            "9977 6 Shirt 0 T-shirt/top\n",
            "9979 6 Shirt 0 T-shirt/top\n",
            "9985 2 Pullover 3 Dress\n",
            "9989 4 Coat 2 Pullover\n",
            "------------------------------\n",
            "Correct Predictions: 8647\n",
            "Incorrect Predictions: 1353\n",
            "Total: 10000\n",
            "Test Accuracy (Test_acc): 0.8647\n"
          ],
          "name": "stdout"
        }
      ]
    },
    {
      "cell_type": "code",
      "metadata": {
        "id": "8Eab62lgHLyD",
        "colab_type": "code",
        "colab": {}
      },
      "source": [
        ""
      ],
      "execution_count": 0,
      "outputs": []
    },
    {
      "cell_type": "markdown",
      "metadata": {
        "id": "hciwGWy3DOHN",
        "colab_type": "text"
      },
      "source": [
        "The Test (or validation) accuracy value is the same 86%."
      ]
    },
    {
      "cell_type": "markdown",
      "metadata": {
        "id": "cpCQKcP3Gglb",
        "colab_type": "text"
      },
      "source": [
        "For the test image 7876 the actual value is a trouser and the predicted value is a coat."
      ]
    },
    {
      "cell_type": "code",
      "metadata": {
        "id": "fEBv_hbGkogT",
        "colab_type": "code",
        "outputId": "69466940-cc53-40dd-bd3a-8438cdd638aa",
        "colab": {
          "base_uri": "https://localhost:8080/",
          "height": 309
        }
      },
      "source": [
        "i = 7876\n",
        "print(i,y_test[i],label[y_test[i]],np.argmax(yp[i]), label[np.argmax(yp[i])])\n",
        "plt.matshow(x_test[i]) "
      ],
      "execution_count": 0,
      "outputs": [
        {
          "output_type": "stream",
          "text": [
            "7876 1 Trouser 4 Coat\n"
          ],
          "name": "stdout"
        },
        {
          "output_type": "execute_result",
          "data": {
            "text/plain": [
              "<matplotlib.image.AxesImage at 0x7f36f6e12ef0>"
            ]
          },
          "metadata": {
            "tags": []
          },
          "execution_count": 74
        },
        {
          "output_type": "display_data",
          "data": {
            "image/png": "[encoded data removed]",
            "text/plain": [
              "<Figure size 288x288 with 1 Axes>"
            ]
          },
          "metadata": {
            "tags": []
          }
        }
      ]
    },
    {
      "cell_type": "code",
      "metadata": {
        "id": "b1q8b1uzMeF3",
        "colab_type": "code",
        "outputId": "ac31a2f3-6c62-41e4-de7f-6d01c7aaa5b2",
        "colab": {
          "base_uri": "https://localhost:8080/",
          "height": 68
        }
      },
      "source": [
        "yp[7876], np.argmax(yp[7876])"
      ],
      "execution_count": 0,
      "outputs": [
        {
          "output_type": "execute_result",
          "data": {
            "text/plain": [
              "(array([2.4940384e-06, 1.7730294e-03, 3.8831073e-03, 2.0360458e-05,\n",
              "        9.9409252e-01, 1.8726348e-13, 2.8071597e-06, 1.5019211e-23,\n",
              "        2.2576220e-04, 8.6841289e-25], dtype=float32), 4)"
            ]
          },
          "metadata": {
            "tags": []
          },
          "execution_count": 75
        }
      ]
    },
    {
      "cell_type": "markdown",
      "metadata": {
        "id": "am-pqUo2NGMc",
        "colab_type": "text"
      },
      "source": [
        "The probability to be a coat is 0.99, but it's a trouser."
      ]
    },
    {
      "cell_type": "markdown",
      "metadata": {
        "id": "JjtnsR6-HSUM",
        "colab_type": "text"
      },
      "source": [
        "For the test image 9985 the actual value is a pullover and the predicted value is a dress."
      ]
    },
    {
      "cell_type": "code",
      "metadata": {
        "id": "XHz2HJEYmJpW",
        "colab_type": "code",
        "outputId": "bc4b647b-78bf-40ad-ecbd-8efce0398ce7",
        "colab": {
          "base_uri": "https://localhost:8080/",
          "height": 309
        }
      },
      "source": [
        "i = 9985\n",
        "print(i,y_test[i],label[y_test[i]],np.argmax(yp[i]), label[np.argmax(yp[i])])\n",
        "plt.matshow(x_test[i]) "
      ],
      "execution_count": 0,
      "outputs": [
        {
          "output_type": "stream",
          "text": [
            "9985 2 Pullover 3 Dress\n"
          ],
          "name": "stdout"
        },
        {
          "output_type": "execute_result",
          "data": {
            "text/plain": [
              "<matplotlib.image.AxesImage at 0x7f36f6d706a0>"
            ]
          },
          "metadata": {
            "tags": []
          },
          "execution_count": 76
        },
        {
          "output_type": "display_data",
          "data": {
            "image/png": "[encoded data removed]",
            "text/plain": [
              "<Figure size 288x288 with 1 Axes>"
            ]
          },
          "metadata": {
            "tags": []
          }
        }
      ]
    },
    {
      "cell_type": "code",
      "metadata": {
        "id": "r-oIoO22IXaS",
        "colab_type": "code",
        "outputId": "0aad355a-8adb-412f-cfaf-034b20961e6b",
        "colab": {
          "base_uri": "https://localhost:8080/",
          "height": 68
        }
      },
      "source": [
        "yp[9985], np.argmax(yp[9985])"
      ],
      "execution_count": 0,
      "outputs": [
        {
          "output_type": "execute_result",
          "data": {
            "text/plain": [
              "(array([1.6742468e-01, 5.8819342e-02, 1.0774057e-01, 3.4243628e-01,\n",
              "        8.5564971e-02, 1.4061854e-03, 2.2513825e-01, 1.5683999e-04,\n",
              "        1.0393663e-02, 9.1934460e-04], dtype=float32), 3)"
            ]
          },
          "metadata": {
            "tags": []
          },
          "execution_count": 77
        }
      ]
    },
    {
      "cell_type": "markdown",
      "metadata": {
        "id": "HZ6p7HiKL7uU",
        "colab_type": "text"
      },
      "source": [
        "The probability to be a dress is 0.34, but it's a pullover."
      ]
    },
    {
      "cell_type": "markdown",
      "metadata": {
        "id": "oREz-p0MGIWB",
        "colab_type": "text"
      },
      "source": [
        "###**Sites**"
      ]
    },
    {
      "cell_type": "markdown",
      "metadata": {
        "id": "ZkQeBXCwGNec",
        "colab_type": "text"
      },
      "source": [
        "**[fast.ai Making neural nets uncool again](https://www.fast.ai/)**"
      ]
    },
    {
      "cell_type": "markdown",
      "metadata": {
        "id": "d5vuxTAXL7ry",
        "colab_type": "text"
      },
      "source": [
        "**[Scale.ai: The Data Platform for AI. High quality training and validation data for AI applications](https://scale.com/)**"
      ]
    },
    {
      "cell_type": "markdown",
      "metadata": {
        "id": "PwSvrVzQJCuw",
        "colab_type": "text"
      },
      "source": [
        "###**Books**"
      ]
    },
    {
      "cell_type": "markdown",
      "metadata": {
        "id": "EjU5KbmQJJ1E",
        "colab_type": "text"
      },
      "source": [
        "**[Machine Learning for Finance: Principles and practice for financial by Jannes Klaas](https://books.google.cl/books?id=qfeaDwAAQBAJ&pg=PA78&lpg=PA78&dq=We%C2%B4ve+using+a+Dataset+of+60,000+28x28&source=bl&ots=b6G0rl3q7i&sig=ACfU3U3jJkY3s_wtG1X0mO2TyeTXa5-T-g&hl=es&sa=X&ved=2ahUKEwiZgZLqhbbnAhVFD7kGHe9hBtgQ6AEwAHoECAUQAQ#v=onepage&q=We%C2%B4ve%20using%20a%20Dataset%20of%2060%2C000%2028x28&f=false)**"
      ]
    },
    {
      "cell_type": "markdown",
      "metadata": {
        "id": "v-1wAzy6t7Kq",
        "colab_type": "text"
      },
      "source": [
        "###**Papers**"
      ]
    },
    {
      "cell_type": "markdown",
      "metadata": {
        "id": "DxM3B_9P4Whn",
        "colab_type": "text"
      },
      "source": [
        "**[5 Step Life-Cycle for Neural Network Models in Keras by Jason Brownlee](https://machinelearningmastery.com/5-step-life-cycle-neural-network-models-keras/)**\n",
        "\n",
        "**[Activation functions and it’s types-Which is better? by Anish Singh Walia](https://towardsdatascience.com/activation-functions-and-its-types-which-is-better-a9a5310cc8f)**\n",
        "\n",
        "**[Building A Deep Learning Model using Keras by Eijaz Allibhai](https://towardsdatascience.com/building-a-deep-learning-model-using-keras-1548ca149d37)** \n",
        "\n",
        "**[Building our first neural network in keras by Sanchit Tanwar](https://towardsdatascience.com/building-our-first-neural-network-in-keras-bdc8abbc17f5)** \n",
        "\n",
        "\n",
        "**[What do “compile” , “fit” and “predict” do in Keras sequential models?](https://datascience.stackexchange.com/questions/46124/what-do-compile-fit-and-predict-do-in-keras-sequential-models)**\n",
        "\n",
        "\n",
        "**[Fashion MNIST with Keras and Deep Learning by Adrian Rosebrock](https://www.pyimagesearch.com/2019/02/11/fashion-mnist-with-keras-and-deep-learning/)** \n",
        "\n",
        "\n",
        "**[Keras for Beginners: Building Your First Neural Network by Victor Zhou](https://victorzhou.com/blog/keras-neural-network-tutorial/)** "
      ]
    },
    {
      "cell_type": "markdown",
      "metadata": {
        "id": "to0GUHiVeYXN",
        "colab_type": "text"
      },
      "source": [
        "###**Videos**"
      ]
    },
    {
      "cell_type": "code",
      "metadata": {
        "id": "K2EFxsFKfesm",
        "colab_type": "code",
        "outputId": "b68a085d-830b-42ef-df6d-ebe7fa461282",
        "colab": {
          "base_uri": "https://localhost:8080/",
          "height": 381
        }
      },
      "source": [
        "%%HTML\n",
        "<iframe width=\"640\" height=\"360\" src=\"https://www.youtube.com/embed/dNZXLH4xeAs\" frameborder=\"0\" allow=\"accelerometer; autoplay; encrypted-media; gyroscope; picture-in-picture\" allowfullscreen></iframe>"
      ],
      "execution_count": 0,
      "outputs": [
        {
          "output_type": "display_data",
          "data": {
            "text/html": [
              "<iframe width=\"640\" height=\"360\" src=\"https://www.youtube.com/embed/dNZXLH4xeAs\" frameborder=\"0\" allow=\"accelerometer; autoplay; encrypted-media; gyroscope; picture-in-picture\" allowfullscreen></iframe>"
            ],
            "text/plain": [
              "<IPython.core.display.HTML object>"
            ]
          },
          "metadata": {
            "tags": []
          }
        }
      ]
    },
    {
      "cell_type": "code",
      "metadata": {
        "id": "GQ0D609rA0Ma",
        "colab_type": "code",
        "outputId": "cb6c85eb-f593-42fb-c843-2cfbb22ce998",
        "colab": {
          "base_uri": "https://localhost:8080/",
          "height": 381
        }
      },
      "source": [
        "%%HTML\n",
        "<iframe width=\"640\" height=\"360\" src=\"https://www.youtube.com/embed/2ePf9rue1Ao\" frameborder=\"0\" allow=\"accelerometer; autoplay; encrypted-media; gyroscope; picture-in-picture\" allowfullscreen></iframe>"
      ],
      "execution_count": 0,
      "outputs": [
        {
          "output_type": "display_data",
          "data": {
            "text/html": [
              "<iframe width=\"640\" height=\"360\" src=\"https://www.youtube.com/embed/2ePf9rue1Ao\" frameborder=\"0\" allow=\"accelerometer; autoplay; encrypted-media; gyroscope; picture-in-picture\" allowfullscreen></iframe>"
            ],
            "text/plain": [
              "<IPython.core.display.HTML object>"
            ]
          },
          "metadata": {
            "tags": []
          }
        }
      ]
    },
    {
      "cell_type": "code",
      "metadata": {
        "id": "T90Syx7tBpj3",
        "colab_type": "code",
        "outputId": "94a5800d-d09d-4c68-9519-71e8b2ed312c",
        "colab": {
          "base_uri": "https://localhost:8080/",
          "height": 381
        }
      },
      "source": [
        "%%HTML\n",
        "<iframe width=\"640\" height=\"360\" src=\"https://www.youtube.com/embed/00xLZuxTzQc\" frameborder=\"0\" allow=\"accelerometer; autoplay; encrypted-media; gyroscope; picture-in-picture\" allowfullscreen></iframe>"
      ],
      "execution_count": 0,
      "outputs": [
        {
          "output_type": "display_data",
          "data": {
            "text/html": [
              "<iframe width=\"640\" height=\"360\" src=\"https://www.youtube.com/embed/00xLZuxTzQc\" frameborder=\"0\" allow=\"accelerometer; autoplay; encrypted-media; gyroscope; picture-in-picture\" allowfullscreen></iframe>"
            ],
            "text/plain": [
              "<IPython.core.display.HTML object>"
            ]
          },
          "metadata": {
            "tags": []
          }
        }
      ]
    },
    {
      "cell_type": "code",
      "metadata": {
        "id": "eM-G6ObPCsr7",
        "colab_type": "code",
        "outputId": "13988653-8f0f-41fb-f61a-22767e1173d5",
        "colab": {
          "base_uri": "https://localhost:8080/",
          "height": 381
        }
      },
      "source": [
        "%%HTML\n",
        "<iframe width=\"640\" height=\"360\" src=\"https://www.youtube.com/embed/WQt4H1Bo0jM\" frameborder=\"0\" allow=\"accelerometer; autoplay; encrypted-media; gyroscope; picture-in-picture\" allowfullscreen></iframe>"
      ],
      "execution_count": 0,
      "outputs": [
        {
          "output_type": "display_data",
          "data": {
            "text/html": [
              "<iframe width=\"640\" height=\"360\" src=\"https://www.youtube.com/embed/WQt4H1Bo0jM\" frameborder=\"0\" allow=\"accelerometer; autoplay; encrypted-media; gyroscope; picture-in-picture\" allowfullscreen></iframe>"
            ],
            "text/plain": [
              "<IPython.core.display.HTML object>"
            ]
          },
          "metadata": {
            "tags": []
          }
        }
      ]
    },
    {
      "cell_type": "code",
      "metadata": {
        "id": "dXcSH5p6-E2k",
        "colab_type": "code",
        "outputId": "aea829d1-33f9-4cf7-e9f2-e8c53d05d179",
        "colab": {
          "base_uri": "https://localhost:8080/",
          "height": 381
        }
      },
      "source": [
        "%%HTML\n",
        "<iframe width=\"640\" height=\"360\" src=\"https://www.youtube.com/embed/T6WLIbOnkvQ\" frameborder=\"0\" allow=\"accelerometer; autoplay; encrypted-media; gyroscope; picture-in-picture\" allowfullscreen></iframe>"
      ],
      "execution_count": 0,
      "outputs": [
        {
          "output_type": "display_data",
          "data": {
            "text/html": [
              "<iframe width=\"640\" height=\"360\" src=\"https://www.youtube.com/embed/T6WLIbOnkvQ\" frameborder=\"0\" allow=\"accelerometer; autoplay; encrypted-media; gyroscope; picture-in-picture\" allowfullscreen></iframe>"
            ],
            "text/plain": [
              "<IPython.core.display.HTML object>"
            ]
          },
          "metadata": {
            "tags": []
          }
        }
      ]
    },
    {
      "cell_type": "code",
      "metadata": {
        "id": "Eg-qwrXWCt-k",
        "colab_type": "code",
        "outputId": "4e66f1d6-5d1e-4c1e-e895-7a5f0b6dbc7b",
        "colab": {
          "base_uri": "https://localhost:8080/",
          "height": 381
        }
      },
      "source": [
        "%%HTML\n",
        "<iframe width=\"640\" height=\"360\" src=\"https://www.youtube.com/embed/pLPr4nJad4A\" frameborder=\"0\" allow=\"accelerometer; autoplay; encrypted-media; gyroscope; picture-in-picture\" allowfullscreen></iframe>"
      ],
      "execution_count": 0,
      "outputs": [
        {
          "output_type": "display_data",
          "data": {
            "text/html": [
              "<iframe width=\"640\" height=\"360\" src=\"https://www.youtube.com/embed/pLPr4nJad4A\" frameborder=\"0\" allow=\"accelerometer; autoplay; encrypted-media; gyroscope; picture-in-picture\" allowfullscreen></iframe>"
            ],
            "text/plain": [
              "<IPython.core.display.HTML object>"
            ]
          },
          "metadata": {
            "tags": []
          }
        }
      ]
    },
    {
      "cell_type": "code",
      "metadata": {
        "id": "5fnolSx5CaSQ",
        "colab_type": "code",
        "outputId": "9a4cab5e-2a7c-471f-95fa-17879ff55e1b",
        "colab": {
          "base_uri": "https://localhost:8080/",
          "height": 381
        }
      },
      "source": [
        "%%HTML\n",
        "<iframe width=\"640\" height=\"360\" src=\"https://www.youtube.com/embed/hxpGzAb-pyc\" frameborder=\"0\" allow=\"accelerometer; autoplay; encrypted-media; gyroscope; picture-in-picture\" allowfullscreen></iframe>"
      ],
      "execution_count": 0,
      "outputs": [
        {
          "output_type": "display_data",
          "data": {
            "text/html": [
              "<iframe width=\"640\" height=\"360\" src=\"https://www.youtube.com/embed/hxpGzAb-pyc\" frameborder=\"0\" allow=\"accelerometer; autoplay; encrypted-media; gyroscope; picture-in-picture\" allowfullscreen></iframe>"
            ],
            "text/plain": [
              "<IPython.core.display.HTML object>"
            ]
          },
          "metadata": {
            "tags": []
          }
        }
      ]
    },
    {
      "cell_type": "markdown",
      "metadata": {
        "id": "BzbWGhClfdTT",
        "colab_type": "text"
      },
      "source": [
        "MIT Introduction to Deep Learning 6.S191: Lecture 1\n",
        "*New 2020 Edition*\n",
        "Foundations of Deep Learning\n",
        "Lecturer: Alexander Amini\n",
        "January 2020"
      ]
    },
    {
      "cell_type": "code",
      "metadata": {
        "id": "UGpigSrzem0d",
        "colab_type": "code",
        "outputId": "da63c0d6-7223-43ed-c23b-e3777273785b",
        "colab": {
          "base_uri": "https://localhost:8080/",
          "height": 381
        }
      },
      "source": [
        "%%HTML\n",
        "<iframe width=\"640\" height=\"360\" src=\"https://www.youtube.com/embed/njKP3FqW3Sk\" frameborder=\"0\" allow=\"accelerometer; autoplay; encrypted-media; gyroscope; picture-in-picture\" allowfullscreen></iframe>"
      ],
      "execution_count": 0,
      "outputs": [
        {
          "output_type": "display_data",
          "data": {
            "text/html": [
              "<iframe width=\"640\" height=\"360\" src=\"https://www.youtube.com/embed/njKP3FqW3Sk\" frameborder=\"0\" allow=\"accelerometer; autoplay; encrypted-media; gyroscope; picture-in-picture\" allowfullscreen></iframe>"
            ],
            "text/plain": [
              "<IPython.core.display.HTML object>"
            ]
          },
          "metadata": {
            "tags": []
          }
        }
      ]
    },
    {
      "cell_type": "markdown",
      "metadata": {
        "id": "quc_qyMqhVbC",
        "colab_type": "text"
      },
      "source": [
        "MIT 6.034 Artificial Intelligence, Fall 2010\n",
        "Instructor: Patrick Winston"
      ]
    },
    {
      "cell_type": "code",
      "metadata": {
        "id": "nLyAHQE-guXK",
        "colab_type": "code",
        "outputId": "bda01b0b-2ba2-4d1d-cacf-c6c061232b39",
        "colab": {
          "base_uri": "https://localhost:8080/",
          "height": 381
        }
      },
      "source": [
        "%%HTML\n",
        "<iframe width=\"640\" height=\"360\" src=\"https://www.youtube.com/embed/uXt8qF2Zzfo\" frameborder=\"0\" allow=\"accelerometer; autoplay; encrypted-media; gyroscope; picture-in-picture\" allowfullscreen></iframe>"
      ],
      "execution_count": 0,
      "outputs": [
        {
          "output_type": "display_data",
          "data": {
            "text/html": [
              "<iframe width=\"640\" height=\"360\" src=\"https://www.youtube.com/embed/uXt8qF2Zzfo\" frameborder=\"0\" allow=\"accelerometer; autoplay; encrypted-media; gyroscope; picture-in-picture\" allowfullscreen></iframe>"
            ],
            "text/plain": [
              "<IPython.core.display.HTML object>"
            ]
          },
          "metadata": {
            "tags": []
          }
        }
      ]
    },
    {
      "cell_type": "markdown",
      "metadata": {
        "id": "tJdhbXK_iPM4",
        "colab_type": "text"
      },
      "source": [
        "MIT 6.034 Artificial Intelligence, Fall 2010.\n",
        "Instructor: Patrick Winston"
      ]
    },
    {
      "cell_type": "code",
      "metadata": {
        "id": "hKgpanSuh1Rv",
        "colab_type": "code",
        "outputId": "3b41faf2-ae5b-4006-bdbf-48f086d6c8b0",
        "colab": {
          "base_uri": "https://localhost:8080/",
          "height": 381
        }
      },
      "source": [
        "%%HTML\n",
        "<iframe width=\"640\" height=\"360\" src=\"https://www.youtube.com/embed/VrMHA3yX_QI\" frameborder=\"0\" allow=\"accelerometer; autoplay; encrypted-media; gyroscope; picture-in-picture\" allowfullscreen></iframe>"
      ],
      "execution_count": 0,
      "outputs": [
        {
          "output_type": "display_data",
          "data": {
            "text/html": [
              "<iframe width=\"640\" height=\"360\" src=\"https://www.youtube.com/embed/VrMHA3yX_QI\" frameborder=\"0\" allow=\"accelerometer; autoplay; encrypted-media; gyroscope; picture-in-picture\" allowfullscreen></iframe>"
            ],
            "text/plain": [
              "<IPython.core.display.HTML object>"
            ]
          },
          "metadata": {
            "tags": []
          }
        }
      ]
    },
    {
      "cell_type": "markdown",
      "metadata": {
        "id": "byLuC9wU9OXo",
        "colab_type": "text"
      },
      "source": [
        "An updated deep learning introduction using Python, TensorFlow, and Keras."
      ]
    },
    {
      "cell_type": "code",
      "metadata": {
        "id": "vpbgJrZ08vzG",
        "colab_type": "code",
        "outputId": "6db5aaeb-49d5-49aa-bfd0-e18c6de7a5dc",
        "colab": {
          "base_uri": "https://localhost:8080/",
          "height": 381
        }
      },
      "source": [
        "%%HTML\n",
        "<iframe width=\"640\" height=\"360\" src=\"https://www.youtube.com/embed/wQ8BIBpya2k\" frameborder=\"0\" allow=\"accelerometer; autoplay; encrypted-media; gyroscope; picture-in-picture\" allowfullscreen></iframe>"
      ],
      "execution_count": 0,
      "outputs": [
        {
          "output_type": "display_data",
          "data": {
            "text/html": [
              "<iframe width=\"640\" height=\"360\" src=\"https://www.youtube.com/embed/wQ8BIBpya2k\" frameborder=\"0\" allow=\"accelerometer; autoplay; encrypted-media; gyroscope; picture-in-picture\" allowfullscreen></iframe>"
            ],
            "text/plain": [
              "<IPython.core.display.HTML object>"
            ]
          },
          "metadata": {
            "tags": []
          }
        }
      ]
    },
    {
      "cell_type": "code",
      "metadata": {
        "id": "CHWyEa8n_GGI",
        "colab_type": "code",
        "outputId": "8e8045d0-f509-40b9-b3c0-59924cc47aea",
        "colab": {
          "base_uri": "https://localhost:8080/",
          "height": 381
        }
      },
      "source": [
        "%%HTML\n",
        "<iframe width=\"640\" height=\"360\" src=\"https://www.youtube.com/embed/BR9h47Jtqyw\" frameborder=\"0\" allow=\"accelerometer; autoplay; encrypted-media; gyroscope; picture-in-picture\" allowfullscreen></iframe>"
      ],
      "execution_count": 0,
      "outputs": [
        {
          "output_type": "display_data",
          "data": {
            "text/html": [
              "<iframe width=\"640\" height=\"360\" src=\"https://www.youtube.com/embed/BR9h47Jtqyw\" frameborder=\"0\" allow=\"accelerometer; autoplay; encrypted-media; gyroscope; picture-in-picture\" allowfullscreen></iframe>"
            ],
            "text/plain": [
              "<IPython.core.display.HTML object>"
            ]
          },
          "metadata": {
            "tags": []
          }
        }
      ]
    },
    {
      "cell_type": "markdown",
      "metadata": {
        "id": "Ac2Ui4izN13c",
        "colab_type": "text"
      },
      "source": [
        "**Jeremy Howard CEO of fast.ai**, a research institute dedicated to making deep learning more accessible. "
      ]
    },
    {
      "cell_type": "code",
      "metadata": {
        "id": "58QjREtwNV13",
        "colab_type": "code",
        "outputId": "888c6a50-b7d8-4b59-85fd-fe86dd5961a7",
        "colab": {
          "base_uri": "https://localhost:8080/",
          "height": 256
        }
      },
      "source": [
        "%%HTML\n",
        "<iframe width=\"500\" height=\"235\" src=\"https://www.youtube.com/embed/PV5uyTBvDi4\" frameborder=\"0\" allow=\"accelerometer; autoplay; encrypted-media; gyroscope; picture-in-picture\" allowfullscreen></iframe>"
      ],
      "execution_count": 0,
      "outputs": [
        {
          "output_type": "display_data",
          "data": {
            "text/html": [
              "<iframe width=\"500\" height=\"235\" src=\"https://www.youtube.com/embed/PV5uyTBvDi4\" frameborder=\"0\" allow=\"accelerometer; autoplay; encrypted-media; gyroscope; picture-in-picture\" allowfullscreen></iframe>"
            ],
            "text/plain": [
              "<IPython.core.display.HTML object>"
            ]
          },
          "metadata": {
            "tags": []
          }
        }
      ]
    },
    {
      "cell_type": "markdown",
      "metadata": {
        "id": "FTegR-bwZIKM",
        "colab_type": "text"
      },
      "source": [
        "**Alexandr Wang  CEO of Scale.ai**, the Data Platform for AI."
      ]
    },
    {
      "cell_type": "code",
      "metadata": {
        "id": "5-Ovffg9YsJ2",
        "colab_type": "code",
        "outputId": "d9f4e3fd-fd04-43a3-a7b1-ffc9e18997d0",
        "colab": {
          "base_uri": "https://localhost:8080/",
          "height": 381
        }
      },
      "source": [
        "%%HTML\n",
        "<iframe width=\"640\" height=\"360\" src=\"https://www.youtube.com/embed/inP_07aO2MU\" frameborder=\"0\" allow=\"accelerometer; autoplay; encrypted-media; gyroscope; picture-in-picture\" allowfullscreen></iframe>"
      ],
      "execution_count": 0,
      "outputs": [
        {
          "output_type": "display_data",
          "data": {
            "text/html": [
              "<iframe width=\"640\" height=\"360\" src=\"https://www.youtube.com/embed/inP_07aO2MU\" frameborder=\"0\" allow=\"accelerometer; autoplay; encrypted-media; gyroscope; picture-in-picture\" allowfullscreen></iframe>"
            ],
            "text/plain": [
              "<IPython.core.display.HTML object>"
            ]
          },
          "metadata": {
            "tags": []
          }
        }
      ]
    },
    {
      "cell_type": "markdown",
      "metadata": {
        "id": "Ihk8FyicbY1J",
        "colab_type": "text"
      },
      "source": [
        "For nearly 40 years, **Geoff Hinton** has been trying to get computers to learn like people do, a quest almost everyone thought was crazy or at least hopeless - right up until the moment it revolutionized the field. In this Hello World video, Bloomberg Businessweek's Ashlee Vance meets **the Godfather of AI**."
      ]
    },
    {
      "cell_type": "code",
      "metadata": {
        "id": "H9AkQibxbMpd",
        "colab_type": "code",
        "outputId": "da90c9d7-64f6-4242-f869-5839fd17ea3f",
        "colab": {
          "base_uri": "https://localhost:8080/",
          "height": 381
        }
      },
      "source": [
        "%%HTML\n",
        "<iframe width=\"640\" height=\"360\" src=\"https://www.youtube.com/embed/l9RWTMNnvi4\" frameborder=\"0\" allow=\"accelerometer; autoplay; encrypted-media; gyroscope; picture-in-picture\" allowfullscreen></iframe>"
      ],
      "execution_count": 0,
      "outputs": [
        {
          "output_type": "display_data",
          "data": {
            "text/html": [
              "<iframe width=\"640\" height=\"360\" src=\"https://www.youtube.com/embed/l9RWTMNnvi4\" frameborder=\"0\" allow=\"accelerometer; autoplay; encrypted-media; gyroscope; picture-in-picture\" allowfullscreen></iframe>"
            ],
            "text/plain": [
              "<IPython.core.display.HTML object>"
            ]
          },
          "metadata": {
            "tags": []
          }
        }
      ]
    }
  ]
}