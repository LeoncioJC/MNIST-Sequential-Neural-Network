{
  "nbformat": 4,
  "nbformat_minor": 0,
  "metadata": {
    "colab": {
      "name": "Tables_Fashion-MNIST.ipynb",
      "provenance": [],
      "authorship_tag": "ABX9TyOfPpl+B+Q8442E+pP+TP+R",
      "include_colab_link": true
    },
    "kernelspec": {
      "name": "python3",
      "display_name": "Python 3"
    }
  },
  "cells": [
    {
      "cell_type": "markdown",
      "metadata": {
        "id": "view-in-github",
        "colab_type": "text"
      },
      "source": [
        "<a href=\"https://colab.research.google.com/github/LeoncioJC/MNIST-Sequential-Neural-Network/blob/master/Tables_Fashion_MNIST.ipynb\" target=\"_parent\"><img src=\"https://colab.research.google.com/assets/colab-badge.svg\" alt=\"Open In Colab\"/></a>"
      ]
    },
    {
      "cell_type": "markdown",
      "metadata": {
        "id": "PiQInU6CgZNB",
        "colab_type": "text"
      },
      "source": [
        "###**Fashion-MNIST Neural Network to Classify Images in Python with Keras**\n",
        "by [Leoncio Jimenez Candia](https://www.linkedin.com/in/leoncio-r-jim%C3%A9nez-candia-64676416a)"
      ]
    },
    {
      "cell_type": "markdown",
      "metadata": {
        "id": "f8NAbKClgkbk",
        "colab_type": "text"
      },
      "source": [
        "**Load Keras: The Python Deep Learning Library**"
      ]
    },
    {
      "cell_type": "code",
      "metadata": {
        "id": "1-rtJZbAgIr_",
        "colab_type": "code",
        "colab": {
          "base_uri": "https://localhost:8080/",
          "height": 81
        },
        "outputId": "0cc06df6-3d4c-4ea5-b230-08d22d285daf"
      },
      "source": [
        "import keras\n",
        "import numpy as np\n",
        "import matplotlib.pyplot as plt"
      ],
      "execution_count": 1,
      "outputs": [
        {
          "output_type": "stream",
          "text": [
            "Using TensorFlow backend.\n"
          ],
          "name": "stderr"
        },
        {
          "output_type": "display_data",
          "data": {
            "text/html": [
              "<p style=\"color: red;\">\n",
              "The default version of TensorFlow in Colab will soon switch to TensorFlow 2.x.<br>\n",
              "We recommend you <a href=\"https://www.tensorflow.org/guide/migrate\" target=\"_blank\">upgrade</a> now \n",
              "or ensure your notebook will continue to use TensorFlow 1.x via the <code>%tensorflow_version 1.x</code> magic:\n",
              "<a href=\"https://colab.research.google.com/notebooks/tensorflow_version.ipynb\" target=\"_blank\">more info</a>.</p>\n"
            ],
            "text/plain": [
              "<IPython.core.display.HTML object>"
            ]
          },
          "metadata": {
            "tags": []
          }
        }
      ]
    },
    {
      "cell_type": "markdown",
      "metadata": {
        "id": "dyWb7PTagzw8",
        "colab_type": "text"
      },
      "source": [
        "**Load Dataset of Fashion Articles (Fashion-MNIST) and Normalize the Data**"
      ]
    },
    {
      "cell_type": "code",
      "metadata": {
        "id": "ArnIdEdog8Vf",
        "colab_type": "code",
        "colab": {
          "base_uri": "https://localhost:8080/",
          "height": 158
        },
        "outputId": "0d285471-7722-4bdb-8dad-48e2e5164aba"
      },
      "source": [
        "from keras.datasets import fashion_mnist\n",
        "(x_train, y_train), (x_test, y_test) = fashion_mnist.load_data()\n",
        "label= [\"T-shirt/top\",\"Trouser\",\"Pullover\",\"Dress\",\"Coat\",\"Sandal\",\"Shirt\",\"Sneaker\",\"Bag\",\"Ankle Boot\"]"
      ],
      "execution_count": 2,
      "outputs": [
        {
          "output_type": "stream",
          "text": [
            "Downloading data from http://fashion-mnist.s3-website.eu-central-1.amazonaws.com/train-labels-idx1-ubyte.gz\n",
            "32768/29515 [=================================] - 0s 3us/step\n",
            "Downloading data from http://fashion-mnist.s3-website.eu-central-1.amazonaws.com/train-images-idx3-ubyte.gz\n",
            "26427392/26421880 [==============================] - 2s 0us/step\n",
            "Downloading data from http://fashion-mnist.s3-website.eu-central-1.amazonaws.com/t10k-labels-idx1-ubyte.gz\n",
            "8192/5148 [===============================================] - 0s 0us/step\n",
            "Downloading data from http://fashion-mnist.s3-website.eu-central-1.amazonaws.com/t10k-images-idx3-ubyte.gz\n",
            "4423680/4422102 [==============================] - 1s 0us/step\n"
          ],
          "name": "stdout"
        }
      ]
    },
    {
      "cell_type": "code",
      "metadata": {
        "id": "ew0D7Dj6hEuV",
        "colab_type": "code",
        "colab": {}
      },
      "source": [
        "x_train=x_train/255\n",
        "x_test=x_test/255"
      ],
      "execution_count": 0,
      "outputs": []
    },
    {
      "cell_type": "markdown",
      "metadata": {
        "id": "LOBELYOmhJ5h",
        "colab_type": "text"
      },
      "source": [
        "**Step 1. Define Network**"
      ]
    },
    {
      "cell_type": "code",
      "metadata": {
        "id": "z8VjgNLwhRvl",
        "colab_type": "code",
        "colab": {
          "base_uri": "https://localhost:8080/",
          "height": 143
        },
        "outputId": "581440d8-af57-405a-f1d4-256fda10ea52"
      },
      "source": [
        "from keras.models import Sequential\n",
        "from keras.layers import Flatten, Dense, Activation\n",
        "\n",
        "model = Sequential()\n",
        "model.add(Flatten(input_shape=[28, 28]))\n",
        "model.add(Dense(20, activation=\"relu\"))\n",
        "model.add(Dense(10, activation=\"softmax\"))"
      ],
      "execution_count": 6,
      "outputs": [
        {
          "output_type": "stream",
          "text": [
            "WARNING:tensorflow:From /usr/local/lib/python3.6/dist-packages/keras/backend/tensorflow_backend.py:66: The name tf.get_default_graph is deprecated. Please use tf.compat.v1.get_default_graph instead.\n",
            "\n",
            "WARNING:tensorflow:From /usr/local/lib/python3.6/dist-packages/keras/backend/tensorflow_backend.py:541: The name tf.placeholder is deprecated. Please use tf.compat.v1.placeholder instead.\n",
            "\n",
            "WARNING:tensorflow:From /usr/local/lib/python3.6/dist-packages/keras/backend/tensorflow_backend.py:4432: The name tf.random_uniform is deprecated. Please use tf.random.uniform instead.\n",
            "\n"
          ],
          "name": "stdout"
        }
      ]
    },
    {
      "cell_type": "code",
      "metadata": {
        "id": "t-MudSlZhhHf",
        "colab_type": "code",
        "colab": {
          "base_uri": "https://localhost:8080/",
          "height": 265
        },
        "outputId": "55ccef58-8e4b-49dc-c1ba-02036226cca7"
      },
      "source": [
        "model.summary()"
      ],
      "execution_count": 7,
      "outputs": [
        {
          "output_type": "stream",
          "text": [
            "Model: \"sequential_1\"\n",
            "_________________________________________________________________\n",
            "Layer (type)                 Output Shape              Param #   \n",
            "=================================================================\n",
            "flatten_1 (Flatten)          (None, 784)               0         \n",
            "_________________________________________________________________\n",
            "dense_1 (Dense)              (None, 20)                15700     \n",
            "_________________________________________________________________\n",
            "dense_2 (Dense)              (None, 10)                210       \n",
            "=================================================================\n",
            "Total params: 15,910\n",
            "Trainable params: 15,910\n",
            "Non-trainable params: 0\n",
            "_________________________________________________________________\n"
          ],
          "name": "stdout"
        }
      ]
    },
    {
      "cell_type": "markdown",
      "metadata": {
        "id": "1u15RnZ_hnLO",
        "colab_type": "text"
      },
      "source": [
        "**Step 2. Compile Network**"
      ]
    },
    {
      "cell_type": "code",
      "metadata": {
        "id": "kkJCWcSBhtak",
        "colab_type": "code",
        "colab": {
          "base_uri": "https://localhost:8080/",
          "height": 107
        },
        "outputId": "222b72e5-cfae-4f5d-8ced-ee2e34544b6b"
      },
      "source": [
        "model.compile(loss=\"sparse_categorical_crossentropy\", \n",
        "              optimizer=\"adam\",\n",
        "              metrics=[\"accuracy\"])"
      ],
      "execution_count": 8,
      "outputs": [
        {
          "output_type": "stream",
          "text": [
            "WARNING:tensorflow:From /usr/local/lib/python3.6/dist-packages/keras/optimizers.py:793: The name tf.train.Optimizer is deprecated. Please use tf.compat.v1.train.Optimizer instead.\n",
            "\n",
            "WARNING:tensorflow:From /usr/local/lib/python3.6/dist-packages/keras/backend/tensorflow_backend.py:3622: The name tf.log is deprecated. Please use tf.math.log instead.\n",
            "\n"
          ],
          "name": "stdout"
        }
      ]
    },
    {
      "cell_type": "markdown",
      "metadata": {
        "id": "9rbIy1bEhxn6",
        "colab_type": "text"
      },
      "source": [
        "**Step 3. Fit Network**"
      ]
    },
    {
      "cell_type": "code",
      "metadata": {
        "id": "dPqxaSJ2h7w2",
        "colab_type": "code",
        "colab": {
          "base_uri": "https://localhost:8080/",
          "height": 1000
        },
        "outputId": "6a79dbfe-1105-4dad-b330-594510e209ef"
      },
      "source": [
        "history = model.fit(x_train, y_train, validation_data=(x_test, y_test), epochs=10)\n",
        "\n",
        "plt.plot(history.history['acc'])\n",
        "plt.plot(history.history['val_acc'])\n",
        "plt.title('Model accuracy')\n",
        "plt.ylabel('Accuracy')\n",
        "plt.xlabel('Epoch')\n",
        "plt.legend(['Train', 'Test'], loc='upper left')\n",
        "plt.show()\n",
        "\n",
        "plt.plot(history.history['loss'])\n",
        "plt.plot(history.history['val_loss'])\n",
        "plt.title('Model loss')\n",
        "plt.ylabel('Loss')\n",
        "plt.xlabel('Epoch')\n",
        "plt.legend(['Train', 'Test'], loc='upper left')\n",
        "plt.show()"
      ],
      "execution_count": 9,
      "outputs": [
        {
          "output_type": "stream",
          "text": [
            "WARNING:tensorflow:From /usr/local/lib/python3.6/dist-packages/tensorflow_core/python/ops/math_grad.py:1424: where (from tensorflow.python.ops.array_ops) is deprecated and will be removed in a future version.\n",
            "Instructions for updating:\n",
            "Use tf.where in 2.0, which has the same broadcast rule as np.where\n",
            "WARNING:tensorflow:From /usr/local/lib/python3.6/dist-packages/keras/backend/tensorflow_backend.py:1033: The name tf.assign_add is deprecated. Please use tf.compat.v1.assign_add instead.\n",
            "\n",
            "WARNING:tensorflow:From /usr/local/lib/python3.6/dist-packages/keras/backend/tensorflow_backend.py:1020: The name tf.assign is deprecated. Please use tf.compat.v1.assign instead.\n",
            "\n",
            "WARNING:tensorflow:From /usr/local/lib/python3.6/dist-packages/keras/backend/tensorflow_backend.py:3005: The name tf.Session is deprecated. Please use tf.compat.v1.Session instead.\n",
            "\n",
            "Train on 60000 samples, validate on 10000 samples\n",
            "Epoch 1/10\n",
            "WARNING:tensorflow:From /usr/local/lib/python3.6/dist-packages/keras/backend/tensorflow_backend.py:190: The name tf.get_default_session is deprecated. Please use tf.compat.v1.get_default_session instead.\n",
            "\n",
            "WARNING:tensorflow:From /usr/local/lib/python3.6/dist-packages/keras/backend/tensorflow_backend.py:197: The name tf.ConfigProto is deprecated. Please use tf.compat.v1.ConfigProto instead.\n",
            "\n",
            "WARNING:tensorflow:From /usr/local/lib/python3.6/dist-packages/keras/backend/tensorflow_backend.py:207: The name tf.global_variables is deprecated. Please use tf.compat.v1.global_variables instead.\n",
            "\n",
            "WARNING:tensorflow:From /usr/local/lib/python3.6/dist-packages/keras/backend/tensorflow_backend.py:216: The name tf.is_variable_initialized is deprecated. Please use tf.compat.v1.is_variable_initialized instead.\n",
            "\n",
            "WARNING:tensorflow:From /usr/local/lib/python3.6/dist-packages/keras/backend/tensorflow_backend.py:223: The name tf.variables_initializer is deprecated. Please use tf.compat.v1.variables_initializer instead.\n",
            "\n",
            "60000/60000 [==============================] - 4s 62us/step - loss: 0.5994 - acc: 0.7947 - val_loss: 0.5018 - val_acc: 0.8196\n",
            "Epoch 2/10\n",
            "60000/60000 [==============================] - 3s 52us/step - loss: 0.4429 - acc: 0.8457 - val_loss: 0.4553 - val_acc: 0.8374\n",
            "Epoch 3/10\n",
            "60000/60000 [==============================] - 3s 54us/step - loss: 0.4124 - acc: 0.8543 - val_loss: 0.4372 - val_acc: 0.8432\n",
            "Epoch 4/10\n",
            "60000/60000 [==============================] - 3s 52us/step - loss: 0.3917 - acc: 0.8598 - val_loss: 0.4394 - val_acc: 0.8441\n",
            "Epoch 5/10\n",
            "60000/60000 [==============================] - 3s 54us/step - loss: 0.3749 - acc: 0.8661 - val_loss: 0.4164 - val_acc: 0.8479\n",
            "Epoch 6/10\n",
            "60000/60000 [==============================] - 3s 56us/step - loss: 0.3639 - acc: 0.8691 - val_loss: 0.4218 - val_acc: 0.8501\n",
            "Epoch 7/10\n",
            "60000/60000 [==============================] - 3s 53us/step - loss: 0.3536 - acc: 0.8732 - val_loss: 0.4101 - val_acc: 0.8526\n",
            "Epoch 8/10\n",
            "60000/60000 [==============================] - 3s 53us/step - loss: 0.3451 - acc: 0.8769 - val_loss: 0.3985 - val_acc: 0.8576\n",
            "Epoch 9/10\n",
            "60000/60000 [==============================] - 3s 54us/step - loss: 0.3390 - acc: 0.8787 - val_loss: 0.3976 - val_acc: 0.8599\n",
            "Epoch 10/10\n",
            "60000/60000 [==============================] - 3s 54us/step - loss: 0.3322 - acc: 0.8812 - val_loss: 0.3886 - val_acc: 0.8637\n"
          ],
          "name": "stdout"
        },
        {
          "output_type": "display_data",
          "data": {
            "image/png": "[encoded data removed]",
            "text/plain": [
              "<Figure size 432x288 with 1 Axes>"
            ]
          },
          "metadata": {
            "tags": []
          }
        },
        {
          "output_type": "display_data",
          "data": {
            "image/png": "[encoded data removed]",
            "text/plain": [
              "<Figure size 432x288 with 1 Axes>"
            ]
          },
          "metadata": {
            "tags": []
          }
        }
      ]
    },
    {
      "cell_type": "markdown",
      "metadata": {
        "id": "89AO1aoQiC8I",
        "colab_type": "text"
      },
      "source": [
        "**Step 4. Evaluate Network**"
      ]
    },
    {
      "cell_type": "code",
      "metadata": {
        "id": "TIAwXT-6iIrY",
        "colab_type": "code",
        "colab": {
          "base_uri": "https://localhost:8080/",
          "height": 52
        },
        "outputId": "16104300-da5c-455b-c936-a44896578652"
      },
      "source": [
        "loss, acc = model.evaluate(x_train, y_train)\n",
        "print(\"loss:\",loss, \"acc:\", acc)"
      ],
      "execution_count": 10,
      "outputs": [
        {
          "output_type": "stream",
          "text": [
            "60000/60000 [==============================] - 1s 23us/step\n",
            "loss: 0.31719851162830986 acc: 0.8853333333333333\n"
          ],
          "name": "stdout"
        }
      ]
    },
    {
      "cell_type": "code",
      "metadata": {
        "id": "FBbjsMeYiPki",
        "colab_type": "code",
        "colab": {
          "base_uri": "https://localhost:8080/",
          "height": 52
        },
        "outputId": "f49d14e9-4ad2-409c-a655-24a26cc266a5"
      },
      "source": [
        "Test_loss, Test_acc = model.evaluate(x_test, y_test)\n",
        "print(\"Test loss:\",Test_loss, \"Test_acc:\", Test_acc)"
      ],
      "execution_count": 11,
      "outputs": [
        {
          "output_type": "stream",
          "text": [
            "10000/10000 [==============================] - 0s 24us/step\n",
            "Test loss: 0.38861318516731264 Test_acc: 0.8637\n"
          ],
          "name": "stdout"
        }
      ]
    },
    {
      "cell_type": "markdown",
      "metadata": {
        "id": "u-E7SWUViUKk",
        "colab_type": "text"
      },
      "source": [
        "**Step 5. Make Predictions**"
      ]
    },
    {
      "cell_type": "code",
      "metadata": {
        "id": "bhPOvGYgidQj",
        "colab_type": "code",
        "colab": {
          "base_uri": "https://localhost:8080/",
          "height": 461
        },
        "outputId": "cecdafca-afff-4d1e-a4af-e26ea23a8856"
      },
      "source": [
        "yp = model.predict(x_train)\n",
        "a = 0\n",
        "b = 0\n",
        "c = 0\n",
        "d = 0\n",
        "e = 0\n",
        "j = 0\n",
        "k = 0\n",
        "l = 0\n",
        "m = 0\n",
        "n = 0\n",
        "p = 0\n",
        "q = 0\n",
        "fc0 = 0\n",
        "fc1 = 0\n",
        "fc2 = 0\n",
        "fc3 = 0\n",
        "fc4 = 0\n",
        "fc5 = 0\n",
        "fc6 = 0\n",
        "fc7 = 0\n",
        "fc8 = 0\n",
        "fc9 = 0\n",
        "for i in range(60000):\n",
        "    if y_train[i]== np.argmax(yp[i]):\n",
        "      if y_train[i] == 0: a = a+1\n",
        "      if y_train[i] == 1: b = b+1\n",
        "      if y_train[i] == 2: c = c+1\n",
        "      if y_train[i] == 3: d = d+1\n",
        "      if y_train[i] == 4: e = e+1\n",
        "      if y_train[i] == 5: l = l+1\n",
        "      if y_train[i] == 6: m = m+1\n",
        "      if y_train[i] == 7: n = n+1\n",
        "      if y_train[i] == 8: p = p+1\n",
        "      if y_train[i] == 9: q = q+1\n",
        "      j=j+1                         \n",
        "    else:\n",
        "         if y_train[i] == 0 and np.argmax(yp[i]) == 0  : fc0 = fc0+1\n",
        "         if y_train[i] == 0 and np.argmax(yp[i]) == 1  : fc1 = fc1+1\n",
        "         if y_train[i] == 0 and np.argmax(yp[i]) == 2  : fc2 = fc2+1\n",
        "         if y_train[i] == 0 and np.argmax(yp[i]) == 3  : fc3 = fc3+1\n",
        "         if y_train[i] == 0 and np.argmax(yp[i]) == 4  : fc4 = fc4+1\n",
        "         if y_train[i] == 0 and np.argmax(yp[i]) == 5  : fc5 = fc5+1\n",
        "         if y_train[i] == 0 and np.argmax(yp[i]) == 6  : fc6 = fc6+1\n",
        "         if y_train[i] == 0 and np.argmax(yp[i]) == 7  : fc7 = fc7+1\n",
        "         if y_train[i] == 0 and np.argmax(yp[i]) == 8  : fc8 = fc8+1\n",
        "         if y_train[i] == 0 and np.argmax(yp[i]) == 9  : fc9 = fc9+1\n",
        "         k=k+1\n",
        "print(\"------------------------------\")\n",
        "print(\"Correct Predictions:\", a+b+c+d+e+l+m+n+p+q, j) \n",
        "print(\"Incorrect Predictions:\", fc0+fc1+fc2+fc3+fc4+fc5+fc6+fc7+fc8+fc9, k)\n",
        "print(\"Total:\", j+k)\n",
        "print(\"T-shirt/top\", a)\n",
        "print(\"Trouser\", b)\n",
        "print(\"Pullover\", c)\n",
        "print(\"Dress\", d) \n",
        "print(\"Coat\", e) \n",
        "print(\"Sandal\", l)\n",
        "print(\"Shirt\", m)\n",
        "print(\"Sneaker\", n)\n",
        "print(\"Bag\", p)\n",
        "print(\"Ankle Boot\", q)\n",
        "print(\"T-shirt/top\", \"--\", \"T-shirt/top\" , fc0)\n",
        "print(\"T-shirt/top\", \"--\", \"Trouser\" , fc1)\n",
        "print(\"T-shirt/top\", \"--\", \"Pullover\" , fc2)\n",
        "print(\"T-shirt/top\", \"--\", \"Dress\" , fc3)\n",
        "print(\"T-shirt/top\", \"--\", \"Coat\" , fc4)\n",
        "print(\"T-shirt/top\", \"--\", \"Sandal\" , fc5)\n",
        "print(\"T-shirt/top\", \"--\", \"Shirt\" , fc6)\n",
        "print(\"T-shirt/top\", \"--\", \"Sneaker\" , fc7)\n",
        "print(\"T-shirt/top\", \"--\", \"Bag\" , fc8)\n",
        "print(\"T-shirt/top\", \"--\", \"Ankle Boot\" , fc9)\n",
        "print(\"Accuracy (acc)\", j/60000)"
      ],
      "execution_count": 24,
      "outputs": [
        {
          "output_type": "stream",
          "text": [
            "------------------------------\n",
            "Correct Predictions: 53120 53120\n",
            "Incorrect Predictions: 618 6880\n",
            "Total: 60000\n",
            "T-shirt/top 5382\n",
            "Trouser 5883\n",
            "Pullover 4691\n",
            "Dress 5320\n",
            "Coat 5141\n",
            "Sandal 5860\n",
            "Shirt 3574\n",
            "Sneaker 5661\n",
            "Bag 5764\n",
            "Ankle Boot 5844\n",
            "T-shirt/top -- T-shirt/top 0\n",
            "T-shirt/top -- Trouser 7\n",
            "T-shirt/top -- Pullover 72\n",
            "T-shirt/top -- Dress 134\n",
            "T-shirt/top -- Coat 31\n",
            "T-shirt/top -- Sandal 3\n",
            "T-shirt/top -- Shirt 326\n",
            "T-shirt/top -- Sneaker 0\n",
            "T-shirt/top -- Bag 45\n",
            "T-shirt/top -- Ankle Boot 0\n",
            "Accuracy (acc) 0.8853333333333333\n"
          ],
          "name": "stdout"
        }
      ]
    },
    {
      "cell_type": "markdown",
      "metadata": {
        "id": "ier-CQcxm4YO",
        "colab_type": "text"
      },
      "source": [
        "|ID|Label|Correct Predictions|\n",
        "|:-------:|:-------:|:-------:|\n",
        "| 0 |T-shirt/top|5382|\n",
        "| 1 | Trouser  |5883|\n",
        "| 2 | Pullover|4691|\n",
        "| 3 | Dress   |5320|\n",
        "| 4 | Coat   |5141|\n",
        "| 5 | Sandal |5860|\n",
        "| 6 |  Shirt |3574|\n",
        "| 7 |  Sneaker |5661|\n",
        "| 8 |  Bag |5764|\n",
        "| 9 |Ankle Boot|5844|\n",
        "|||-------|\n",
        "|||53120|"
      ]
    },
    {
      "cell_type": "markdown",
      "metadata": {
        "id": "p1IV34CdodJp",
        "colab_type": "text"
      },
      "source": [
        "|ID|Label|T-shirt/top|Trouser  |Pullover|Dress   |Coat   |Sandal |Shirt |Sneaker |Bag |Ankle Boot|Incorrect Predictions|\n",
        "|:-------:|:-------:|:-------:|:-------:|:-------:|:-------:|:-------:|:-------:|:-------:|:-------:|:-------:|:-------:|:-------:|\n",
        "| 0 |T-shirt/top|0|7|72|134|31|3|326|0|45|0|618|\n",
        "| 1 | Trouser  |16|0|3|79|9|0|8|0|2|0|117|\n",
        "| 2 | Pullover|137|6|0|61|800|0|289|0|15|1|1309|\n",
        "| 3 | Dress   |235|39|36|0|247|1|118|0|4|0|680|\n",
        "| 4 | Coat   |19|7|414|134|0|0|277|0|8|0|859|\n",
        "| 5 | Sandal |3|0|0|4|0|0|1|86|2|44|140|\n",
        "| 6 |  Shirt |996|10|560|134|633|1|0|0|61|1|2426|\n",
        "| 7 |  Sneaker |0|0|0|1|0|122|0|0|5|211|339|\n",
        "| 8 |  Bag |46|4|25|38|33|23|52|11|0|4|236|\n",
        "| 9 |Ankle Boot|1|2|0|0|0|32|0|119|2|0|156|\n",
        "|||||||||||||-------|\n",
        "| |||||||||| | |6880|"
      ]
    },
    {
      "cell_type": "code",
      "metadata": {
        "id": "NrcjzLZSmOWz",
        "colab_type": "code",
        "colab": {
          "base_uri": "https://localhost:8080/",
          "height": 461
        },
        "outputId": "7c6ccaf4-a0c8-4b3a-b6a3-bbce13f2b73a"
      },
      "source": [
        "yp = model.predict(x_test)\n",
        "a = 0\n",
        "b = 0\n",
        "c = 0\n",
        "d = 0\n",
        "e = 0\n",
        "j = 0\n",
        "k = 0\n",
        "l = 0\n",
        "m = 0\n",
        "n = 0\n",
        "p = 0\n",
        "q = 0\n",
        "fc0 = 0\n",
        "fc1 = 0\n",
        "fc2 = 0\n",
        "fc3 = 0\n",
        "fc4 = 0\n",
        "fc5 = 0\n",
        "fc6 = 0\n",
        "fc7 = 0\n",
        "fc8 = 0\n",
        "fc9 = 0\n",
        "for i in range(0,10000):\n",
        "    if y_test[i]== np.argmax(yp[i]):\n",
        "      if y_test[i] == 0: a = a+1\n",
        "      if y_test[i] == 1: b = b+1\n",
        "      if y_test[i] == 2: c = c+1\n",
        "      if y_test[i] == 3: d = d+1\n",
        "      if y_test[i] == 4: e = e+1\n",
        "      if y_test[i] == 5: l = l+1\n",
        "      if y_test[i] == 6: m = m+1\n",
        "      if y_test[i] == 7: n = n+1\n",
        "      if y_test[i] == 8: p = p+1\n",
        "      if y_test[i] == 9: q = q+1\n",
        "      j=j+1                         \n",
        "    else:\n",
        "         if y_test[i] == 0 and np.argmax(yp[i]) == 0  : fc0 = fc0+1\n",
        "         if y_test[i] == 0 and np.argmax(yp[i]) == 1  : fc1 = fc1+1\n",
        "         if y_test[i] == 0 and np.argmax(yp[i]) == 2  : fc2 = fc2+1\n",
        "         if y_test[i] == 0 and np.argmax(yp[i]) == 3  : fc3 = fc3+1\n",
        "         if y_test[i] == 0 and np.argmax(yp[i]) == 4  : fc4 = fc4+1\n",
        "         if y_test[i] == 0 and np.argmax(yp[i]) == 5  : fc5 = fc5+1\n",
        "         if y_test[i] == 0 and np.argmax(yp[i]) == 6  : fc6 = fc6+1\n",
        "         if y_test[i] == 0 and np.argmax(yp[i]) == 7  : fc7 = fc7+1\n",
        "         if y_test[i] == 0 and np.argmax(yp[i]) == 8  : fc8 = fc8+1\n",
        "         if y_test[i] == 0 and np.argmax(yp[i]) == 9  : fc9 = fc9+1\n",
        "         k=k+1\n",
        "print(\"------------------------------\")\n",
        "print(\"Correct Predictions:\", a+b+c+d+e+l+m+n+p+q, j) \n",
        "print(\"Incorrect Predictions:\", fc0+fc1+fc2+fc3+fc4+fc5+fc6+fc7+fc8+fc9, k)\n",
        "print(\"Total:\", j+k)\n",
        "print(\"T-shirt/top\", a)\n",
        "print(\"Trouser\", b)\n",
        "print(\"Pullover\", c)\n",
        "print(\"Dress\", d) \n",
        "print(\"Coat\", e) \n",
        "print(\"Sandal\", l)\n",
        "print(\"Shirt\", m)\n",
        "print(\"Sneaker\", n)\n",
        "print(\"Bag\", p)\n",
        "print(\"Ankle Boot\", q)\n",
        "print(\"T-shirt/top\", \"--\", \"T-shirt/top\" , fc0)\n",
        "print(\"T-shirt/top\", \"--\", \"Trouser\" , fc1)\n",
        "print(\"T-shirt/top\", \"--\", \"Pullover\" , fc2)\n",
        "print(\"T-shirt/top\", \"--\", \"Dress\" , fc3)\n",
        "print(\"T-shirt/top\", \"--\", \"Coat\" , fc4)\n",
        "print(\"T-shirt/top\", \"--\", \"Sandal\" , fc5)\n",
        "print(\"T-shirt/top\", \"--\", \"Shirt\" , fc6)\n",
        "print(\"T-shirt/top\", \"--\", \"Sneaker\" , fc7)\n",
        "print(\"T-shirt/top\", \"--\", \"Bag\" , fc8)\n",
        "print(\"T-shirt/top\", \"--\", \"Ankle Boot\" , fc9)\n",
        "print(\"Test Accuracy (Test_acc):\", j/10000)"
      ],
      "execution_count": 34,
      "outputs": [
        {
          "output_type": "stream",
          "text": [
            "------------------------------\n",
            "Correct Predictions: 8637 8637\n",
            "Incorrect Predictions: 132 1363\n",
            "Total: 10000\n",
            "T-shirt/top 868\n",
            "Trouser 969\n",
            "Pullover 765\n",
            "Dress 873\n",
            "Coat 829\n",
            "Sandal 954\n",
            "Shirt 544\n",
            "Sneaker 929\n",
            "Bag 948\n",
            "Ankle Boot 958\n",
            "T-shirt/top -- T-shirt/top 0\n",
            "T-shirt/top -- Trouser 0\n",
            "T-shirt/top -- Pullover 10\n",
            "T-shirt/top -- Dress 33\n",
            "T-shirt/top -- Coat 4\n",
            "T-shirt/top -- Sandal 1\n",
            "T-shirt/top -- Shirt 77\n",
            "T-shirt/top -- Sneaker 0\n",
            "T-shirt/top -- Bag 6\n",
            "T-shirt/top -- Ankle Boot 1\n",
            "Test Accuracy (Test_acc): 0.8637\n"
          ],
          "name": "stdout"
        }
      ]
    },
    {
      "cell_type": "markdown",
      "metadata": {
        "id": "wEacIty94a7d",
        "colab_type": "text"
      },
      "source": [
        "|ID|Label|Correct Predictions|\n",
        "|:-------:|:-------:|:-------:|\n",
        "| 0 |T-shirt/top|868|\n",
        "| 1 | Trouser  |969|\n",
        "| 2 | Pullover|765|\n",
        "| 3 | Dress   |873|\n",
        "| 4 | Coat   |829|\n",
        "| 5 | Sandal |954|\n",
        "| 6 |  Shirt |544|\n",
        "| 7 |  Sneaker |929|\n",
        "| 8 |  Bag |948|\n",
        "| 9 |Ankle Boot|958|\n",
        "|||-------|\n",
        "|||8637|"
      ]
    },
    {
      "cell_type": "markdown",
      "metadata": {
        "id": "XwN3IWpH6BZH",
        "colab_type": "text"
      },
      "source": [
        "|ID|Label|T-shirt/top|Trouser  |Pullover|Dress   |Coat   |Sandal |Shirt |Sneaker |Bag |Ankle Boot|Incorrect Predictions|\n",
        "|:-------:|:-------:|:-------:|:-------:|:-------:|:-------:|:-------:|:-------:|:-------:|:-------:|:-------:|:-------:|:-------:|\n",
        "| 0 |T-shirt/top|0|0|10|33|4|1|77|0|6|1|132|\n",
        "| 1 | Trouser  |4|0|2|18|5|0|0|0|2|0|31|\n",
        "| 2 | Pullover|35|2|0|10|138|0|45|0|5|0|235|\n",
        "| 3 | Dress   |37|7|5|0|43|0|33|0|2|0|127|\n",
        "| 4 | Coat   |0|0|97|25|0|0|48|0|1|0|171|\n",
        "| 5 | Sandal |0|0|0|1|0|0|0|30|1|14|46|\n",
        "| 6 |  Shirt |175|0|118|29|117|0|0|0|17|0|456|\n",
        "| 7 |  Sneaker |0|0|0|0|0|32|0|0|0|39|71|\n",
        "| 8 |  Bag |11|1|6|10|7|5|9|3|0|0|52|\n",
        "| 9 |Ankle Boot|0|0|0|0|0|8|2|32|0|0|42|\n",
        "|||||||||||||-------|\n",
        "| |||||||||| | |1363|"
      ]
    }
  ]
}